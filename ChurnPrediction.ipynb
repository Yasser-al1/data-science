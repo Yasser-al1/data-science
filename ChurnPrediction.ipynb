{
 "cells": [
  {
   "attachments": {
    "COUR_IPO.png": {
     "image/png": "[encoded data removed]"
    }
   },
   "cell_type": "markdown",
   "metadata": {},
   "source": [
    "![COUR_IPO.png](attachment:COUR_IPO.png)"
   ]
  },
  {
   "cell_type": "markdown",
   "metadata": {},
   "source": [
    "# Welcome to the Data Science Coding Challange!\n",
    "\n",
    "Test your skills in a real-world coding challenge. Coding Challenges provide CS & DS Coding Competitions with Prizes and achievement badges!\n",
    "\n",
    "CS & DS learners want to be challenged as a way to evaluate if they’re job ready. So, why not create fun challenges and give winners something truly valuable such as complimentary access to select Data Science courses, or the ability to receive an achievement badge on their Coursera Skills Profile - highlighting their performance to recruiters."
   ]
  },
  {
   "cell_type": "markdown",
   "metadata": {},
   "source": [
    "## Introduction\n",
    "\n",
    "In this challenge, you'll get the opportunity to tackle one of the most industry-relevant maching learning problems with a unique dataset that will put your modeling skills to the test. Subscription services are leveraged by companies across many industries, from fitness to video streaming to retail. One of the primary objectives of companies with subscription services is to decrease churn and ensure that users are retained as subscribers. In order to do this efficiently and systematically, many companies employ machine learning to predict which users are at the highest risk of churn, so that proper interventions can be effectively deployed to the right audience.\n",
    "\n",
    "In this challenge, we will be tackling the churn prediction problem on a very unique and interesting group of subscribers on a video streaming service! \n",
    "\n",
    "Imagine that you are a new data scientist at this video streaming company and you are tasked with building a model that can predict which existing subscribers will continue their subscriptions for another month. We have provided a dataset that is a sample of subscriptions that were initiated in 2021, all snapshotted at a particular date before the subscription was cancelled. Subscription cancellation can happen for a multitude of reasons, including:\n",
    "* the customer completes all content they were interested in, and no longer need the subscription\n",
    "* the customer finds themselves to be too busy and cancels their subscription until a later time\n",
    "* the customer determines that the streaming service is not the best fit for them, so they cancel and look for something better suited\n",
    "\n",
    "Regardless the reason, this video streaming company has a vested interest in understanding the likelihood of each individual customer to churn in their subscription so that resources can be allocated appropriately to support customers. In this challenge, you will use your machine learning toolkit to do just that!"
   ]
  },
  {
   "cell_type": "markdown",
   "metadata": {},
   "source": [
    "## Understanding the Datasets"
   ]
  },
  {
   "cell_type": "markdown",
   "metadata": {},
   "source": [
    "### Train vs. Test\n",
    "In this competition, you’ll gain access to two datasets that are samples of past subscriptions of a video streaming platform that contain information about the customer, the customers streaming preferences, and their activity in the subscription thus far. One dataset is titled `train.csv` and the other is titled `test.csv`.\n",
    "\n",
    "`train.csv` contains 70% of the overall sample (243,787 subscriptions to be exact) and importantly, will reveal whether or not the subscription was continued into the next month (the “ground truth”).\n",
    "\n",
    "The `test.csv` dataset contains the exact same information about the remaining segment of the overall sample (104,480 subscriptions to be exact), but does not disclose the “ground truth” for each subscription. It’s your job to predict this outcome!\n",
    "\n",
    "Using the patterns you find in the `train.csv` data, predict whether the subscriptions in `test.csv` will be continued for another month, or not."
   ]
  },
  {
   "cell_type": "markdown",
   "metadata": {},
   "source": [
    "### Dataset descriptions\n",
    "Both `train.csv` and `test.csv` contain one row for each unique subscription. For each subscription, a single observation (`CustomerID`) is included during which the subscription was active. \n",
    "\n",
    "In addition to this identifier column, the `train.csv` dataset also contains the target label for the task, a binary column `Churn`.\n",
    "\n",
    "Besides that column, both datasets have an identical set of features that can be used to train your model to make predictions. Below you can see descriptions of each feature. Familiarize yourself with them so that you can harness them most effectively for this machine learning task!"
   ]
  },
  {
   "cell_type": "code",
   "execution_count": 1,
   "metadata": {},
   "outputs": [
    {
     "data": {
      "text/html": [
       "<div>\n",
       "<style scoped>\n",
       "    .dataframe tbody tr th:only-of-type {\n",
       "        vertical-align: middle;\n",
       "    }\n",
       "\n",
       "    .dataframe tbody tr th {\n",
       "        vertical-align: top;\n",
       "    }\n",
       "\n",
       "    .dataframe thead th {\n",
       "        text-align: right;\n",
       "    }\n",
       "</style>\n",
       "<table border=\"1\" class=\"dataframe\">\n",
       "  <thead>\n",
       "    <tr style=\"text-align: right;\">\n",
       "      <th></th>\n",
       "      <th>Column_name</th>\n",
       "      <th>Column_type</th>\n",
       "      <th>Data_type</th>\n",
       "      <th>Description</th>\n",
       "    </tr>\n",
       "  </thead>\n",
       "  <tbody>\n",
       "    <tr>\n",
       "      <th>0</th>\n",
       "      <td>AccountAge</td>\n",
       "      <td>Feature</td>\n",
       "      <td>integer</td>\n",
       "      <td>The age of the user's account in months.</td>\n",
       "    </tr>\n",
       "    <tr>\n",
       "      <th>1</th>\n",
       "      <td>MonthlyCharges</td>\n",
       "      <td>Feature</td>\n",
       "      <td>float</td>\n",
       "      <td>The amount charged to the user on a monthly basis.</td>\n",
       "    </tr>\n",
       "    <tr>\n",
       "      <th>2</th>\n",
       "      <td>TotalCharges</td>\n",
       "      <td>Feature</td>\n",
       "      <td>float</td>\n",
       "      <td>The total charges incurred by the user over the account's lifetime.</td>\n",
       "    </tr>\n",
       "    <tr>\n",
       "      <th>3</th>\n",
       "      <td>SubscriptionType</td>\n",
       "      <td>Feature</td>\n",
       "      <td>object</td>\n",
       "      <td>The type of subscription chosen by the user (Basic, Standard, or Premium).</td>\n",
       "    </tr>\n",
       "    <tr>\n",
       "      <th>4</th>\n",
       "      <td>PaymentMethod</td>\n",
       "      <td>Feature</td>\n",
       "      <td>string</td>\n",
       "      <td>The method of payment used by the user.</td>\n",
       "    </tr>\n",
       "    <tr>\n",
       "      <th>5</th>\n",
       "      <td>PaperlessBilling</td>\n",
       "      <td>Feature</td>\n",
       "      <td>string</td>\n",
       "      <td>Indicates whether the user has opted for paperless billing (Yes or No).</td>\n",
       "    </tr>\n",
       "    <tr>\n",
       "      <th>6</th>\n",
       "      <td>ContentType</td>\n",
       "      <td>Feature</td>\n",
       "      <td>string</td>\n",
       "      <td>The type of content preferred by the user (Movies, TV Shows, or Both).</td>\n",
       "    </tr>\n",
       "    <tr>\n",
       "      <th>7</th>\n",
       "      <td>MultiDeviceAccess</td>\n",
       "      <td>Feature</td>\n",
       "      <td>string</td>\n",
       "      <td>Indicates whether the user has access to the service on multiple devices (Yes or No).</td>\n",
       "    </tr>\n",
       "    <tr>\n",
       "      <th>8</th>\n",
       "      <td>DeviceRegistered</td>\n",
       "      <td>Feature</td>\n",
       "      <td>string</td>\n",
       "      <td>The type of device registered by the user (TV, Mobile, Tablet, or Computer).</td>\n",
       "    </tr>\n",
       "    <tr>\n",
       "      <th>9</th>\n",
       "      <td>ViewingHoursPerWeek</td>\n",
       "      <td>Feature</td>\n",
       "      <td>float</td>\n",
       "      <td>The number of hours the user spends watching content per week.</td>\n",
       "    </tr>\n",
       "    <tr>\n",
       "      <th>10</th>\n",
       "      <td>AverageViewingDuration</td>\n",
       "      <td>Feature</td>\n",
       "      <td>float</td>\n",
       "      <td>The average duration of each viewing session in minutes.</td>\n",
       "    </tr>\n",
       "    <tr>\n",
       "      <th>11</th>\n",
       "      <td>ContentDownloadsPerMonth</td>\n",
       "      <td>Feature</td>\n",
       "      <td>integer</td>\n",
       "      <td>The number of content downloads by the user per month.</td>\n",
       "    </tr>\n",
       "    <tr>\n",
       "      <th>12</th>\n",
       "      <td>GenrePreference</td>\n",
       "      <td>Feature</td>\n",
       "      <td>string</td>\n",
       "      <td>The preferred genre of content chosen by the user.</td>\n",
       "    </tr>\n",
       "    <tr>\n",
       "      <th>13</th>\n",
       "      <td>UserRating</td>\n",
       "      <td>Feature</td>\n",
       "      <td>float</td>\n",
       "      <td>The user's rating for the service on a scale of 1 to 5.</td>\n",
       "    </tr>\n",
       "    <tr>\n",
       "      <th>14</th>\n",
       "      <td>SupportTicketsPerMonth</td>\n",
       "      <td>Feature</td>\n",
       "      <td>integer</td>\n",
       "      <td>The number of support tickets raised by the user per month.</td>\n",
       "    </tr>\n",
       "    <tr>\n",
       "      <th>15</th>\n",
       "      <td>Gender</td>\n",
       "      <td>Feature</td>\n",
       "      <td>string</td>\n",
       "      <td>The gender of the user (Male or Female).</td>\n",
       "    </tr>\n",
       "    <tr>\n",
       "      <th>16</th>\n",
       "      <td>WatchlistSize</td>\n",
       "      <td>Feature</td>\n",
       "      <td>float</td>\n",
       "      <td>The number of items in the user's watchlist.</td>\n",
       "    </tr>\n",
       "    <tr>\n",
       "      <th>17</th>\n",
       "      <td>ParentalControl</td>\n",
       "      <td>Feature</td>\n",
       "      <td>string</td>\n",
       "      <td>Indicates whether parental control is enabled for the user (Yes or No).</td>\n",
       "    </tr>\n",
       "    <tr>\n",
       "      <th>18</th>\n",
       "      <td>SubtitlesEnabled</td>\n",
       "      <td>Feature</td>\n",
       "      <td>string</td>\n",
       "      <td>Indicates whether subtitles are enabled for the user (Yes or No).</td>\n",
       "    </tr>\n",
       "    <tr>\n",
       "      <th>19</th>\n",
       "      <td>CustomerID</td>\n",
       "      <td>Identifier</td>\n",
       "      <td>string</td>\n",
       "      <td>A unique identifier for each customer.</td>\n",
       "    </tr>\n",
       "    <tr>\n",
       "      <th>20</th>\n",
       "      <td>Churn</td>\n",
       "      <td>Target</td>\n",
       "      <td>integer</td>\n",
       "      <td>The target variable indicating whether a user has churned or not (1 for churned, 0 for not churned).</td>\n",
       "    </tr>\n",
       "  </tbody>\n",
       "</table>\n",
       "</div>"
      ],
      "text/plain": [
       "                 Column_name Column_type Data_type  \\\n",
       "0                 AccountAge     Feature   integer   \n",
       "1             MonthlyCharges     Feature     float   \n",
       "2               TotalCharges     Feature     float   \n",
       "3           SubscriptionType     Feature    object   \n",
       "4              PaymentMethod     Feature    string   \n",
       "5           PaperlessBilling     Feature    string   \n",
       "6                ContentType     Feature    string   \n",
       "7          MultiDeviceAccess     Feature    string   \n",
       "8           DeviceRegistered     Feature    string   \n",
       "9        ViewingHoursPerWeek     Feature     float   \n",
       "10    AverageViewingDuration     Feature     float   \n",
       "11  ContentDownloadsPerMonth     Feature   integer   \n",
       "12           GenrePreference     Feature    string   \n",
       "13                UserRating     Feature     float   \n",
       "14    SupportTicketsPerMonth     Feature   integer   \n",
       "15                    Gender     Feature    string   \n",
       "16             WatchlistSize     Feature     float   \n",
       "17           ParentalControl     Feature    string   \n",
       "18          SubtitlesEnabled     Feature    string   \n",
       "19                CustomerID  Identifier    string   \n",
       "20                     Churn      Target   integer   \n",
       "\n",
       "                                                                                             Description  \n",
       "0                                                               The age of the user's account in months.  \n",
       "1                                                     The amount charged to the user on a monthly basis.  \n",
       "2                                    The total charges incurred by the user over the account's lifetime.  \n",
       "3                             The type of subscription chosen by the user (Basic, Standard, or Premium).  \n",
       "4                                                                The method of payment used by the user.  \n",
       "5                                Indicates whether the user has opted for paperless billing (Yes or No).  \n",
       "6                                 The type of content preferred by the user (Movies, TV Shows, or Both).  \n",
       "7                  Indicates whether the user has access to the service on multiple devices (Yes or No).  \n",
       "8                           The type of device registered by the user (TV, Mobile, Tablet, or Computer).  \n",
       "9                                         The number of hours the user spends watching content per week.  \n",
       "10                                              The average duration of each viewing session in minutes.  \n",
       "11                                                The number of content downloads by the user per month.  \n",
       "12                                                    The preferred genre of content chosen by the user.  \n",
       "13                                               The user's rating for the service on a scale of 1 to 5.  \n",
       "14                                           The number of support tickets raised by the user per month.  \n",
       "15                                                              The gender of the user (Male or Female).  \n",
       "16                                                          The number of items in the user's watchlist.  \n",
       "17                               Indicates whether parental control is enabled for the user (Yes or No).  \n",
       "18                                     Indicates whether subtitles are enabled for the user (Yes or No).  \n",
       "19                                                                A unique identifier for each customer.  \n",
       "20  The target variable indicating whether a user has churned or not (1 for churned, 0 for not churned).  "
      ]
     },
     "execution_count": 1,
     "metadata": {},
     "output_type": "execute_result"
    }
   ],
   "source": [
    "import pandas as pd\n",
    "data_descriptions = pd.read_csv('data_descriptions.csv')\n",
    "pd.set_option('display.max_colwidth', None)\n",
    "data_descriptions"
   ]
  },
  {
   "cell_type": "markdown",
   "metadata": {},
   "source": [
    "## How to Submit your Predictions to Coursera\n",
    "Submission Format:\n",
    "\n",
    "In this notebook you should follow the steps below to explore the data, train a model using the data in `train.csv`, and then score your model using the data in `test.csv`. Your final submission should be a dataframe (call it `prediction_df` with two columns and exactly 104,480 rows (plus a header row). The first column should be `CustomerID` so that we know which prediction belongs to which observation. The second column should be called `predicted_probability` and should be a numeric column representing the __likellihood that the subscription will churn__.\n",
    "\n",
    "Your submission will show an error if you have extra columns (beyond `CustomerID` and `predicted_probability`) or extra rows. The order of the rows does not matter.\n",
    "\n",
    "The naming convention of the dataframe and columns are critical for our autograding, so please make sure to use the exact naming conventions of `prediction_df` with column names `CustomerID` and `predicted_probability`!\n",
    "\n",
    "To determine your final score, we will compare your `predicted_probability` predictions to the source of truth labels for the observations in `test.csv` and calculate the [ROC AUC](https://scikit-learn.org/stable/modules/generated/sklearn.metrics.roc_auc_score.html). We choose this metric because we not only want to be able to predict which subscriptions will be retained, but also want a well-calibrated likelihood score that can be used to target interventions and support most accurately."
   ]
  },
  {
   "cell_type": "markdown",
   "metadata": {},
   "source": [
    "## Import Python Modules\n",
    "\n",
    "First, import the primary modules that will be used in this project. Remember as this is an open-ended project please feel free to make use of any of your favorite libraries that you feel may be useful for this challenge. For example some of the following popular packages may be useful:\n",
    "\n",
    "- pandas\n",
    "- numpy\n",
    "- Scipy\n",
    "- Scikit-learn\n",
    "- keras\n",
    "- maplotlib\n",
    "- seaborn\n",
    "- etc, etc"
   ]
  },
  {
   "cell_type": "code",
   "execution_count": 3,
   "metadata": {},
   "outputs": [],
   "source": [
    "%%capture\n",
    "\n",
    "!pip install --upgrade pip\n",
    "!pip install --upgrade pandas\n",
    "!pip install --upgrade seaborn\n",
    "!pip install --upgrade numpy\n",
    "\n",
    "# Import required packages\n",
    "\n",
    "# Data packages\n",
    "import pandas as pd\n",
    "import numpy as np\n",
    "\n",
    "# Machine Learning / Classification packages\n",
    "from sklearn.metrics import roc_auc_score, roc_curve\n",
    "from sklearn.model_selection import train_test_split\n",
    "from sklearn.dummy import DummyClassifier\n",
    "\n",
    "# Visualization Packages\n",
    "from matplotlib import pyplot as plt\n",
    "import seaborn as sns\n",
    "%matplotlib inline"
   ]
  },
  {
   "cell_type": "markdown",
   "metadata": {},
   "source": [
    "Let's explain each line of code above:\n",
    "\n",
    "1. `import pandas as pd`: Imports the pandas library, which provides data structures and data analysis tools.\n",
    "2. `import numpy as np`: Imports the numpy library, which provides support for numerical operations and arrays.\n",
    "3. `from sklearn.metrics import roc_auc_score`: Imports the roc_auc_score function from scikit-learn, which is used to evaluate the performance of classification models.\n",
    "4. `from sklearn.model_selection import train_test_split`: Imports the train_test_split function from scikit-learn, which is used to split data into training and testing sets.\n",
    "5. `from sklearn.dummy import DummyClassifier`: Imports the DummyClassifier class from scikit-learn, which is a simple classifier used for baseline comparison or testing purposes.\n",
    "6. `from matplotlib import pyplot as plt`: Imports the pyplot module from the matplotlib library, which is used for creating visualizations and plots.\n",
    "7. `import seaborn as sns`: Imports the seaborn library, which provides additional functionality for data visualization and statistical graphics.\n",
    "8. `%matplotlib inline`: Sets the backend of matplotlib to display plots inline in the Jupyter notebook or similar environments."
   ]
  },
  {
   "cell_type": "code",
   "execution_count": 2,
   "metadata": {},
   "outputs": [],
   "source": [
    "%%capture\n",
    "\n",
    "!pip install xgboost\n",
    "!pip install --upgrade xgboost\n",
    "!pip install --upgrade tensorflow\n",
    "\n",
    "# Import any other packages you may want to use\n",
    "\n",
    "# Standardize features \n",
    "from sklearn.preprocessing import StandardScaler\n",
    "\n",
    "# eXtreme Gradient Boosting\n",
    "\n",
    "import xgboost as xgb\n",
    "\n",
    "# For deep-learning\n",
    "!pip install tensorflow\n",
    "import tensorflow as tf\n",
    "from tensorflow import keras\n",
    "from tensorflow.keras import layers"
   ]
  },
  {
   "cell_type": "markdown",
   "metadata": {},
   "source": [
    "1. `from sklearn.preprocessing import StandardScaler`: Imports the StandardScaler class from scikit-learn, which is used to standardize features by removing the mean and scaling to unit variance.\n",
    "2. `import xgboost as xgb`: Imports the xgboost library, which provides the eXtreme Gradient Boosting (XGBoost) algorithm for machine learning.\n",
    "3. `import tensorflow as tf`: Imports the tensorflow library, which is a popular deep learning framework.\n",
    "4. `from tensorflow import keras`: Imports the keras module from tensorflow, which is a high-level neural networks API.\n",
    "5. `from tensorflow.keras import layers`: Imports the layers module from keras, which provides various types of layers for building neural networks."
   ]
  },
  {
   "cell_type": "code",
   "execution_count": 4,
   "metadata": {},
   "outputs": [
    {
     "name": "stdout",
     "output_type": "stream",
     "text": [
      "numpy  1.21.6\n",
      "pandas  1.3.5\n",
      "seaborn  0.12.2\n",
      "xgboost 1.6.2\n",
      "tf  2.11.0\n"
     ]
    }
   ],
   "source": [
    "print('numpy ', np.__version__)\n",
    "print('pandas ', pd.__version__)\n",
    "print('seaborn ', sns.__version__)\n",
    "print('xgboost', xgb.__version__)\n",
    "print('tf ', tf.__version__)"
   ]
  },
  {
   "cell_type": "markdown",
   "metadata": {},
   "source": [
    "## Load the Data\n",
    "\n",
    "Let's start by loading the dataset `train.csv` into a dataframe `train_df`, and `test.csv` into a dataframe `test_df` and display the shape of the dataframes."
   ]
  },
  {
   "cell_type": "code",
   "execution_count": 5,
   "metadata": {
    "scrolled": false
   },
   "outputs": [
    {
     "name": "stdout",
     "output_type": "stream",
     "text": [
      "train_df Shape: (243787, 21)\n"
     ]
    },
    {
     "data": {
      "text/html": [
       "<div>\n",
       "<style scoped>\n",
       "    .dataframe tbody tr th:only-of-type {\n",
       "        vertical-align: middle;\n",
       "    }\n",
       "\n",
       "    .dataframe tbody tr th {\n",
       "        vertical-align: top;\n",
       "    }\n",
       "\n",
       "    .dataframe thead th {\n",
       "        text-align: right;\n",
       "    }\n",
       "</style>\n",
       "<table border=\"1\" class=\"dataframe\">\n",
       "  <thead>\n",
       "    <tr style=\"text-align: right;\">\n",
       "      <th></th>\n",
       "      <th>AccountAge</th>\n",
       "      <th>MonthlyCharges</th>\n",
       "      <th>TotalCharges</th>\n",
       "      <th>SubscriptionType</th>\n",
       "      <th>PaymentMethod</th>\n",
       "      <th>PaperlessBilling</th>\n",
       "      <th>ContentType</th>\n",
       "      <th>MultiDeviceAccess</th>\n",
       "      <th>DeviceRegistered</th>\n",
       "      <th>ViewingHoursPerWeek</th>\n",
       "      <th>...</th>\n",
       "      <th>ContentDownloadsPerMonth</th>\n",
       "      <th>GenrePreference</th>\n",
       "      <th>UserRating</th>\n",
       "      <th>SupportTicketsPerMonth</th>\n",
       "      <th>Gender</th>\n",
       "      <th>WatchlistSize</th>\n",
       "      <th>ParentalControl</th>\n",
       "      <th>SubtitlesEnabled</th>\n",
       "      <th>CustomerID</th>\n",
       "      <th>Churn</th>\n",
       "    </tr>\n",
       "  </thead>\n",
       "  <tbody>\n",
       "    <tr>\n",
       "      <th>0</th>\n",
       "      <td>20</td>\n",
       "      <td>11.055215</td>\n",
       "      <td>221.104302</td>\n",
       "      <td>Premium</td>\n",
       "      <td>Mailed check</td>\n",
       "      <td>No</td>\n",
       "      <td>Both</td>\n",
       "      <td>No</td>\n",
       "      <td>Mobile</td>\n",
       "      <td>36.758104</td>\n",
       "      <td>...</td>\n",
       "      <td>10</td>\n",
       "      <td>Sci-Fi</td>\n",
       "      <td>2.176498</td>\n",
       "      <td>4</td>\n",
       "      <td>Male</td>\n",
       "      <td>3</td>\n",
       "      <td>No</td>\n",
       "      <td>No</td>\n",
       "      <td>CB6SXPNVZA</td>\n",
       "      <td>0</td>\n",
       "    </tr>\n",
       "    <tr>\n",
       "      <th>1</th>\n",
       "      <td>57</td>\n",
       "      <td>5.175208</td>\n",
       "      <td>294.986882</td>\n",
       "      <td>Basic</td>\n",
       "      <td>Credit card</td>\n",
       "      <td>Yes</td>\n",
       "      <td>Movies</td>\n",
       "      <td>No</td>\n",
       "      <td>Tablet</td>\n",
       "      <td>32.450568</td>\n",
       "      <td>...</td>\n",
       "      <td>18</td>\n",
       "      <td>Action</td>\n",
       "      <td>3.478632</td>\n",
       "      <td>8</td>\n",
       "      <td>Male</td>\n",
       "      <td>23</td>\n",
       "      <td>No</td>\n",
       "      <td>Yes</td>\n",
       "      <td>S7R2G87O09</td>\n",
       "      <td>0</td>\n",
       "    </tr>\n",
       "    <tr>\n",
       "      <th>2</th>\n",
       "      <td>73</td>\n",
       "      <td>12.106657</td>\n",
       "      <td>883.785952</td>\n",
       "      <td>Basic</td>\n",
       "      <td>Mailed check</td>\n",
       "      <td>Yes</td>\n",
       "      <td>Movies</td>\n",
       "      <td>No</td>\n",
       "      <td>Computer</td>\n",
       "      <td>7.395160</td>\n",
       "      <td>...</td>\n",
       "      <td>23</td>\n",
       "      <td>Fantasy</td>\n",
       "      <td>4.238824</td>\n",
       "      <td>6</td>\n",
       "      <td>Male</td>\n",
       "      <td>1</td>\n",
       "      <td>Yes</td>\n",
       "      <td>Yes</td>\n",
       "      <td>EASDC20BDT</td>\n",
       "      <td>0</td>\n",
       "    </tr>\n",
       "    <tr>\n",
       "      <th>3</th>\n",
       "      <td>32</td>\n",
       "      <td>7.263743</td>\n",
       "      <td>232.439774</td>\n",
       "      <td>Basic</td>\n",
       "      <td>Electronic check</td>\n",
       "      <td>No</td>\n",
       "      <td>TV Shows</td>\n",
       "      <td>No</td>\n",
       "      <td>Tablet</td>\n",
       "      <td>27.960389</td>\n",
       "      <td>...</td>\n",
       "      <td>30</td>\n",
       "      <td>Drama</td>\n",
       "      <td>4.276013</td>\n",
       "      <td>2</td>\n",
       "      <td>Male</td>\n",
       "      <td>24</td>\n",
       "      <td>Yes</td>\n",
       "      <td>Yes</td>\n",
       "      <td>NPF69NT69N</td>\n",
       "      <td>0</td>\n",
       "    </tr>\n",
       "    <tr>\n",
       "      <th>4</th>\n",
       "      <td>57</td>\n",
       "      <td>16.953078</td>\n",
       "      <td>966.325422</td>\n",
       "      <td>Premium</td>\n",
       "      <td>Electronic check</td>\n",
       "      <td>Yes</td>\n",
       "      <td>TV Shows</td>\n",
       "      <td>No</td>\n",
       "      <td>TV</td>\n",
       "      <td>20.083397</td>\n",
       "      <td>...</td>\n",
       "      <td>20</td>\n",
       "      <td>Comedy</td>\n",
       "      <td>3.616170</td>\n",
       "      <td>4</td>\n",
       "      <td>Female</td>\n",
       "      <td>0</td>\n",
       "      <td>No</td>\n",
       "      <td>No</td>\n",
       "      <td>4LGYPK7VOL</td>\n",
       "      <td>0</td>\n",
       "    </tr>\n",
       "  </tbody>\n",
       "</table>\n",
       "<p>5 rows × 21 columns</p>\n",
       "</div>"
      ],
      "text/plain": [
       "   AccountAge  MonthlyCharges  TotalCharges SubscriptionType  \\\n",
       "0          20       11.055215    221.104302          Premium   \n",
       "1          57        5.175208    294.986882            Basic   \n",
       "2          73       12.106657    883.785952            Basic   \n",
       "3          32        7.263743    232.439774            Basic   \n",
       "4          57       16.953078    966.325422          Premium   \n",
       "\n",
       "      PaymentMethod PaperlessBilling ContentType MultiDeviceAccess  \\\n",
       "0      Mailed check               No        Both                No   \n",
       "1       Credit card              Yes      Movies                No   \n",
       "2      Mailed check              Yes      Movies                No   \n",
       "3  Electronic check               No    TV Shows                No   \n",
       "4  Electronic check              Yes    TV Shows                No   \n",
       "\n",
       "  DeviceRegistered  ViewingHoursPerWeek  ...  ContentDownloadsPerMonth  \\\n",
       "0           Mobile            36.758104  ...                        10   \n",
       "1           Tablet            32.450568  ...                        18   \n",
       "2         Computer             7.395160  ...                        23   \n",
       "3           Tablet            27.960389  ...                        30   \n",
       "4               TV            20.083397  ...                        20   \n",
       "\n",
       "   GenrePreference UserRating  SupportTicketsPerMonth  Gender WatchlistSize  \\\n",
       "0           Sci-Fi   2.176498                       4    Male             3   \n",
       "1           Action   3.478632                       8    Male            23   \n",
       "2          Fantasy   4.238824                       6    Male             1   \n",
       "3            Drama   4.276013                       2    Male            24   \n",
       "4           Comedy   3.616170                       4  Female             0   \n",
       "\n",
       "   ParentalControl SubtitlesEnabled  CustomerID Churn  \n",
       "0               No               No  CB6SXPNVZA     0  \n",
       "1               No              Yes  S7R2G87O09     0  \n",
       "2              Yes              Yes  EASDC20BDT     0  \n",
       "3              Yes              Yes  NPF69NT69N     0  \n",
       "4               No               No  4LGYPK7VOL     0  \n",
       "\n",
       "[5 rows x 21 columns]"
      ]
     },
     "execution_count": 5,
     "metadata": {},
     "output_type": "execute_result"
    }
   ],
   "source": [
    "train_df = pd.read_csv(\"train.csv\")\n",
    "print('train_df Shape:', train_df.shape)\n",
    "train_df.head()"
   ]
  },
  {
   "cell_type": "code",
   "execution_count": 6,
   "metadata": {},
   "outputs": [
    {
     "name": "stdout",
     "output_type": "stream",
     "text": [
      "test_df Shape: (104480, 20)\n"
     ]
    },
    {
     "data": {
      "text/html": [
       "<div>\n",
       "<style scoped>\n",
       "    .dataframe tbody tr th:only-of-type {\n",
       "        vertical-align: middle;\n",
       "    }\n",
       "\n",
       "    .dataframe tbody tr th {\n",
       "        vertical-align: top;\n",
       "    }\n",
       "\n",
       "    .dataframe thead th {\n",
       "        text-align: right;\n",
       "    }\n",
       "</style>\n",
       "<table border=\"1\" class=\"dataframe\">\n",
       "  <thead>\n",
       "    <tr style=\"text-align: right;\">\n",
       "      <th></th>\n",
       "      <th>AccountAge</th>\n",
       "      <th>MonthlyCharges</th>\n",
       "      <th>TotalCharges</th>\n",
       "      <th>SubscriptionType</th>\n",
       "      <th>PaymentMethod</th>\n",
       "      <th>PaperlessBilling</th>\n",
       "      <th>ContentType</th>\n",
       "      <th>MultiDeviceAccess</th>\n",
       "      <th>DeviceRegistered</th>\n",
       "      <th>ViewingHoursPerWeek</th>\n",
       "      <th>AverageViewingDuration</th>\n",
       "      <th>ContentDownloadsPerMonth</th>\n",
       "      <th>GenrePreference</th>\n",
       "      <th>UserRating</th>\n",
       "      <th>SupportTicketsPerMonth</th>\n",
       "      <th>Gender</th>\n",
       "      <th>WatchlistSize</th>\n",
       "      <th>ParentalControl</th>\n",
       "      <th>SubtitlesEnabled</th>\n",
       "      <th>CustomerID</th>\n",
       "    </tr>\n",
       "  </thead>\n",
       "  <tbody>\n",
       "    <tr>\n",
       "      <th>0</th>\n",
       "      <td>38</td>\n",
       "      <td>17.869374</td>\n",
       "      <td>679.036195</td>\n",
       "      <td>Premium</td>\n",
       "      <td>Mailed check</td>\n",
       "      <td>No</td>\n",
       "      <td>TV Shows</td>\n",
       "      <td>No</td>\n",
       "      <td>TV</td>\n",
       "      <td>29.126308</td>\n",
       "      <td>122.274031</td>\n",
       "      <td>42</td>\n",
       "      <td>Comedy</td>\n",
       "      <td>3.522724</td>\n",
       "      <td>2</td>\n",
       "      <td>Male</td>\n",
       "      <td>23</td>\n",
       "      <td>No</td>\n",
       "      <td>No</td>\n",
       "      <td>O1W6BHP6RM</td>\n",
       "    </tr>\n",
       "    <tr>\n",
       "      <th>1</th>\n",
       "      <td>77</td>\n",
       "      <td>9.912854</td>\n",
       "      <td>763.289768</td>\n",
       "      <td>Basic</td>\n",
       "      <td>Electronic check</td>\n",
       "      <td>Yes</td>\n",
       "      <td>TV Shows</td>\n",
       "      <td>No</td>\n",
       "      <td>TV</td>\n",
       "      <td>36.873729</td>\n",
       "      <td>57.093319</td>\n",
       "      <td>43</td>\n",
       "      <td>Action</td>\n",
       "      <td>2.021545</td>\n",
       "      <td>2</td>\n",
       "      <td>Female</td>\n",
       "      <td>22</td>\n",
       "      <td>Yes</td>\n",
       "      <td>No</td>\n",
       "      <td>LFR4X92X8H</td>\n",
       "    </tr>\n",
       "    <tr>\n",
       "      <th>2</th>\n",
       "      <td>5</td>\n",
       "      <td>15.019011</td>\n",
       "      <td>75.095057</td>\n",
       "      <td>Standard</td>\n",
       "      <td>Bank transfer</td>\n",
       "      <td>No</td>\n",
       "      <td>TV Shows</td>\n",
       "      <td>Yes</td>\n",
       "      <td>Computer</td>\n",
       "      <td>7.601729</td>\n",
       "      <td>140.414001</td>\n",
       "      <td>14</td>\n",
       "      <td>Sci-Fi</td>\n",
       "      <td>4.806126</td>\n",
       "      <td>2</td>\n",
       "      <td>Female</td>\n",
       "      <td>22</td>\n",
       "      <td>No</td>\n",
       "      <td>Yes</td>\n",
       "      <td>QM5GBIYODA</td>\n",
       "    </tr>\n",
       "    <tr>\n",
       "      <th>3</th>\n",
       "      <td>88</td>\n",
       "      <td>15.357406</td>\n",
       "      <td>1351.451692</td>\n",
       "      <td>Standard</td>\n",
       "      <td>Electronic check</td>\n",
       "      <td>No</td>\n",
       "      <td>Both</td>\n",
       "      <td>Yes</td>\n",
       "      <td>Tablet</td>\n",
       "      <td>35.586430</td>\n",
       "      <td>177.002419</td>\n",
       "      <td>14</td>\n",
       "      <td>Comedy</td>\n",
       "      <td>4.943900</td>\n",
       "      <td>0</td>\n",
       "      <td>Female</td>\n",
       "      <td>23</td>\n",
       "      <td>Yes</td>\n",
       "      <td>Yes</td>\n",
       "      <td>D9RXTK2K9F</td>\n",
       "    </tr>\n",
       "    <tr>\n",
       "      <th>4</th>\n",
       "      <td>91</td>\n",
       "      <td>12.406033</td>\n",
       "      <td>1128.949004</td>\n",
       "      <td>Standard</td>\n",
       "      <td>Credit card</td>\n",
       "      <td>Yes</td>\n",
       "      <td>TV Shows</td>\n",
       "      <td>Yes</td>\n",
       "      <td>Tablet</td>\n",
       "      <td>23.503651</td>\n",
       "      <td>70.308376</td>\n",
       "      <td>6</td>\n",
       "      <td>Drama</td>\n",
       "      <td>2.846880</td>\n",
       "      <td>6</td>\n",
       "      <td>Female</td>\n",
       "      <td>0</td>\n",
       "      <td>No</td>\n",
       "      <td>No</td>\n",
       "      <td>ENTCCHR1LR</td>\n",
       "    </tr>\n",
       "  </tbody>\n",
       "</table>\n",
       "</div>"
      ],
      "text/plain": [
       "   AccountAge  MonthlyCharges  TotalCharges SubscriptionType  \\\n",
       "0          38       17.869374    679.036195          Premium   \n",
       "1          77        9.912854    763.289768            Basic   \n",
       "2           5       15.019011     75.095057         Standard   \n",
       "3          88       15.357406   1351.451692         Standard   \n",
       "4          91       12.406033   1128.949004         Standard   \n",
       "\n",
       "      PaymentMethod PaperlessBilling ContentType MultiDeviceAccess  \\\n",
       "0      Mailed check               No    TV Shows                No   \n",
       "1  Electronic check              Yes    TV Shows                No   \n",
       "2     Bank transfer               No    TV Shows               Yes   \n",
       "3  Electronic check               No        Both               Yes   \n",
       "4       Credit card              Yes    TV Shows               Yes   \n",
       "\n",
       "  DeviceRegistered  ViewingHoursPerWeek  AverageViewingDuration  \\\n",
       "0               TV            29.126308              122.274031   \n",
       "1               TV            36.873729               57.093319   \n",
       "2         Computer             7.601729              140.414001   \n",
       "3           Tablet            35.586430              177.002419   \n",
       "4           Tablet            23.503651               70.308376   \n",
       "\n",
       "   ContentDownloadsPerMonth GenrePreference  UserRating  \\\n",
       "0                        42          Comedy    3.522724   \n",
       "1                        43          Action    2.021545   \n",
       "2                        14          Sci-Fi    4.806126   \n",
       "3                        14          Comedy    4.943900   \n",
       "4                         6           Drama    2.846880   \n",
       "\n",
       "   SupportTicketsPerMonth  Gender  WatchlistSize ParentalControl  \\\n",
       "0                       2    Male             23              No   \n",
       "1                       2  Female             22             Yes   \n",
       "2                       2  Female             22              No   \n",
       "3                       0  Female             23             Yes   \n",
       "4                       6  Female              0              No   \n",
       "\n",
       "  SubtitlesEnabled  CustomerID  \n",
       "0               No  O1W6BHP6RM  \n",
       "1               No  LFR4X92X8H  \n",
       "2              Yes  QM5GBIYODA  \n",
       "3              Yes  D9RXTK2K9F  \n",
       "4               No  ENTCCHR1LR  "
      ]
     },
     "execution_count": 6,
     "metadata": {},
     "output_type": "execute_result"
    }
   ],
   "source": [
    "test_df = pd.read_csv(\"test.csv\")\n",
    "print('test_df Shape:', test_df.shape)\n",
    "test_df.head()"
   ]
  },
  {
   "cell_type": "markdown",
   "metadata": {},
   "source": [
    "1. `train_df/test_df = pd.read_csv(\"train.csv\")`: This line reads the CSV file named \"train.csv\" or \"test.csv\" and assigns its contents to the variable `train_df` using the pandas library.\n",
    "2. `print('train_df/test_df Shape:', train_df.shape)`: This line prints the shape (number of rows and columns) of the `train_df/test_df` DataFrames, preceded by the text \"train_df Shape:\".\n",
    "3. `train_df/test_df.head()`: This line displays the first few rows of the `train_df/test_df` DataFrame to provide a preview of the data."
   ]
  },
  {
   "cell_type": "markdown",
   "metadata": {},
   "source": [
    "## Explore, Clean, Validate, and Visualize the Data (optional)\n",
    "\n",
    "Feel free to explore, clean, validate, and visualize the data however you see fit for this competition to help determine or optimize your predictive model. Please note - the final autograding will only be on the accuracy of the `prediction_df` predictions."
   ]
  },
  {
   "cell_type": "markdown",
   "metadata": {},
   "source": [
    "### Data Validation"
   ]
  },
  {
   "cell_type": "code",
   "execution_count": 7,
   "metadata": {},
   "outputs": [
    {
     "data": {
      "text/html": [
       "<div>\n",
       "<style scoped>\n",
       "    .dataframe tbody tr th:only-of-type {\n",
       "        vertical-align: middle;\n",
       "    }\n",
       "\n",
       "    .dataframe tbody tr th {\n",
       "        vertical-align: top;\n",
       "    }\n",
       "\n",
       "    .dataframe thead th {\n",
       "        text-align: right;\n",
       "    }\n",
       "</style>\n",
       "<table border=\"1\" class=\"dataframe\">\n",
       "  <thead>\n",
       "    <tr style=\"text-align: right;\">\n",
       "      <th></th>\n",
       "      <th>Missing values</th>\n",
       "    </tr>\n",
       "  </thead>\n",
       "  <tbody>\n",
       "    <tr>\n",
       "      <th>AccountAge</th>\n",
       "      <td>0</td>\n",
       "    </tr>\n",
       "    <tr>\n",
       "      <th>MonthlyCharges</th>\n",
       "      <td>0</td>\n",
       "    </tr>\n",
       "    <tr>\n",
       "      <th>TotalCharges</th>\n",
       "      <td>0</td>\n",
       "    </tr>\n",
       "    <tr>\n",
       "      <th>SubscriptionType</th>\n",
       "      <td>0</td>\n",
       "    </tr>\n",
       "    <tr>\n",
       "      <th>PaymentMethod</th>\n",
       "      <td>0</td>\n",
       "    </tr>\n",
       "    <tr>\n",
       "      <th>PaperlessBilling</th>\n",
       "      <td>0</td>\n",
       "    </tr>\n",
       "    <tr>\n",
       "      <th>ContentType</th>\n",
       "      <td>0</td>\n",
       "    </tr>\n",
       "    <tr>\n",
       "      <th>MultiDeviceAccess</th>\n",
       "      <td>0</td>\n",
       "    </tr>\n",
       "    <tr>\n",
       "      <th>DeviceRegistered</th>\n",
       "      <td>0</td>\n",
       "    </tr>\n",
       "    <tr>\n",
       "      <th>ViewingHoursPerWeek</th>\n",
       "      <td>0</td>\n",
       "    </tr>\n",
       "    <tr>\n",
       "      <th>AverageViewingDuration</th>\n",
       "      <td>0</td>\n",
       "    </tr>\n",
       "    <tr>\n",
       "      <th>ContentDownloadsPerMonth</th>\n",
       "      <td>0</td>\n",
       "    </tr>\n",
       "    <tr>\n",
       "      <th>GenrePreference</th>\n",
       "      <td>0</td>\n",
       "    </tr>\n",
       "    <tr>\n",
       "      <th>UserRating</th>\n",
       "      <td>0</td>\n",
       "    </tr>\n",
       "    <tr>\n",
       "      <th>SupportTicketsPerMonth</th>\n",
       "      <td>0</td>\n",
       "    </tr>\n",
       "    <tr>\n",
       "      <th>Gender</th>\n",
       "      <td>0</td>\n",
       "    </tr>\n",
       "    <tr>\n",
       "      <th>WatchlistSize</th>\n",
       "      <td>0</td>\n",
       "    </tr>\n",
       "    <tr>\n",
       "      <th>ParentalControl</th>\n",
       "      <td>0</td>\n",
       "    </tr>\n",
       "    <tr>\n",
       "      <th>SubtitlesEnabled</th>\n",
       "      <td>0</td>\n",
       "    </tr>\n",
       "    <tr>\n",
       "      <th>CustomerID</th>\n",
       "      <td>0</td>\n",
       "    </tr>\n",
       "    <tr>\n",
       "      <th>Churn</th>\n",
       "      <td>0</td>\n",
       "    </tr>\n",
       "  </tbody>\n",
       "</table>\n",
       "</div>"
      ],
      "text/plain": [
       "                          Missing values\n",
       "AccountAge                             0\n",
       "MonthlyCharges                         0\n",
       "TotalCharges                           0\n",
       "SubscriptionType                       0\n",
       "PaymentMethod                          0\n",
       "PaperlessBilling                       0\n",
       "ContentType                            0\n",
       "MultiDeviceAccess                      0\n",
       "DeviceRegistered                       0\n",
       "ViewingHoursPerWeek                    0\n",
       "AverageViewingDuration                 0\n",
       "ContentDownloadsPerMonth               0\n",
       "GenrePreference                        0\n",
       "UserRating                             0\n",
       "SupportTicketsPerMonth                 0\n",
       "Gender                                 0\n",
       "WatchlistSize                          0\n",
       "ParentalControl                        0\n",
       "SubtitlesEnabled                       0\n",
       "CustomerID                             0\n",
       "Churn                                  0"
      ]
     },
     "execution_count": 7,
     "metadata": {},
     "output_type": "execute_result"
    }
   ],
   "source": [
    "# getting the totals of missing values in each column\n",
    "\n",
    "viz1 = (train_df.isna()    # get the missing values\n",
    "               .sum()      # add them up\n",
    "               .to_frame() # make it look nice\n",
    "               .rename(columns={0:'Missing values'})) # renameing the row\n",
    "viz1"
   ]
  },
  {
   "cell_type": "code",
   "execution_count": 8,
   "metadata": {},
   "outputs": [
    {
     "data": {
      "text/html": [
       "<div>\n",
       "<style scoped>\n",
       "    .dataframe tbody tr th:only-of-type {\n",
       "        vertical-align: middle;\n",
       "    }\n",
       "\n",
       "    .dataframe tbody tr th {\n",
       "        vertical-align: top;\n",
       "    }\n",
       "\n",
       "    .dataframe thead th {\n",
       "        text-align: right;\n",
       "    }\n",
       "</style>\n",
       "<table border=\"1\" class=\"dataframe\">\n",
       "  <thead>\n",
       "    <tr style=\"text-align: right;\">\n",
       "      <th></th>\n",
       "      <th>Missing values</th>\n",
       "    </tr>\n",
       "  </thead>\n",
       "  <tbody>\n",
       "    <tr>\n",
       "      <th>AccountAge</th>\n",
       "      <td>0</td>\n",
       "    </tr>\n",
       "    <tr>\n",
       "      <th>MonthlyCharges</th>\n",
       "      <td>0</td>\n",
       "    </tr>\n",
       "    <tr>\n",
       "      <th>TotalCharges</th>\n",
       "      <td>0</td>\n",
       "    </tr>\n",
       "    <tr>\n",
       "      <th>SubscriptionType</th>\n",
       "      <td>0</td>\n",
       "    </tr>\n",
       "    <tr>\n",
       "      <th>PaymentMethod</th>\n",
       "      <td>0</td>\n",
       "    </tr>\n",
       "    <tr>\n",
       "      <th>PaperlessBilling</th>\n",
       "      <td>0</td>\n",
       "    </tr>\n",
       "    <tr>\n",
       "      <th>ContentType</th>\n",
       "      <td>0</td>\n",
       "    </tr>\n",
       "    <tr>\n",
       "      <th>MultiDeviceAccess</th>\n",
       "      <td>0</td>\n",
       "    </tr>\n",
       "    <tr>\n",
       "      <th>DeviceRegistered</th>\n",
       "      <td>0</td>\n",
       "    </tr>\n",
       "    <tr>\n",
       "      <th>ViewingHoursPerWeek</th>\n",
       "      <td>0</td>\n",
       "    </tr>\n",
       "    <tr>\n",
       "      <th>AverageViewingDuration</th>\n",
       "      <td>0</td>\n",
       "    </tr>\n",
       "    <tr>\n",
       "      <th>ContentDownloadsPerMonth</th>\n",
       "      <td>0</td>\n",
       "    </tr>\n",
       "    <tr>\n",
       "      <th>GenrePreference</th>\n",
       "      <td>0</td>\n",
       "    </tr>\n",
       "    <tr>\n",
       "      <th>UserRating</th>\n",
       "      <td>0</td>\n",
       "    </tr>\n",
       "    <tr>\n",
       "      <th>SupportTicketsPerMonth</th>\n",
       "      <td>0</td>\n",
       "    </tr>\n",
       "    <tr>\n",
       "      <th>Gender</th>\n",
       "      <td>0</td>\n",
       "    </tr>\n",
       "    <tr>\n",
       "      <th>WatchlistSize</th>\n",
       "      <td>0</td>\n",
       "    </tr>\n",
       "    <tr>\n",
       "      <th>ParentalControl</th>\n",
       "      <td>0</td>\n",
       "    </tr>\n",
       "    <tr>\n",
       "      <th>SubtitlesEnabled</th>\n",
       "      <td>0</td>\n",
       "    </tr>\n",
       "    <tr>\n",
       "      <th>CustomerID</th>\n",
       "      <td>0</td>\n",
       "    </tr>\n",
       "  </tbody>\n",
       "</table>\n",
       "</div>"
      ],
      "text/plain": [
       "                          Missing values\n",
       "AccountAge                             0\n",
       "MonthlyCharges                         0\n",
       "TotalCharges                           0\n",
       "SubscriptionType                       0\n",
       "PaymentMethod                          0\n",
       "PaperlessBilling                       0\n",
       "ContentType                            0\n",
       "MultiDeviceAccess                      0\n",
       "DeviceRegistered                       0\n",
       "ViewingHoursPerWeek                    0\n",
       "AverageViewingDuration                 0\n",
       "ContentDownloadsPerMonth               0\n",
       "GenrePreference                        0\n",
       "UserRating                             0\n",
       "SupportTicketsPerMonth                 0\n",
       "Gender                                 0\n",
       "WatchlistSize                          0\n",
       "ParentalControl                        0\n",
       "SubtitlesEnabled                       0\n",
       "CustomerID                             0"
      ]
     },
     "execution_count": 8,
     "metadata": {},
     "output_type": "execute_result"
    }
   ],
   "source": [
    "# getting the totals of missing values in each column\n",
    "\n",
    "viz2 = (test_df.isna()    # get the missing values\n",
    "               .sum()      # add them up\n",
    "               .to_frame() # make it look nice\n",
    "               .rename(columns={0:'Missing values'})) # renameing the row\n",
    "viz2"
   ]
  },
  {
   "cell_type": "markdown",
   "metadata": {},
   "source": [
    "1. `train_df/test_df.isna()`: Checks which values in `train_df/test_df` are missing (NaN or None).\n",
    "2. `.sum()`: Calculates the sum of missing values for each column.\n",
    "3. `.to_frame()`: Converts the resulting series into a DataFrame.\n",
    "4. `.rename(columns={0:'Missing values'})`: Renames the column of the DataFrame to 'Missing values' for clarity.\n",
    "5. `viz1/viz2`: Assigns the final DataFrame with the totals of missing values to the variable `viz1`."
   ]
  },
  {
   "cell_type": "markdown",
   "metadata": {},
   "source": [
    "Luckily, the datasets do not have any missing values. Now, let's explore the datasets."
   ]
  },
  {
   "cell_type": "markdown",
   "metadata": {},
   "source": [
    "### Exploratory Data Analysis (EDA)"
   ]
  },
  {
   "cell_type": "code",
   "execution_count": 9,
   "metadata": {},
   "outputs": [],
   "source": [
    "# Select only a sample of the numerical columns from the DataFrame\n",
    "sample_numerical_columns = train_df.select_dtypes(include=['int64', 'float64'])"
   ]
  },
  {
   "cell_type": "code",
   "execution_count": 10,
   "metadata": {},
   "outputs": [
    {
     "data": {
      "image/png": "[encoded data removed]",
      "text/plain": [
       "<Figure size 576x432 with 2 Axes>"
      ]
     },
     "metadata": {
      "needs_background": "light"
     },
     "output_type": "display_data"
    }
   ],
   "source": [
    "# plotting the correlations between the numerical variables\n",
    "\n",
    "# Generate the correlation matrix\n",
    "correlation_matrix = sample_numerical_columns.corr()\n",
    "\n",
    "# Set up the figure and axes\n",
    "fig, ax = plt.subplots(figsize=(8, 6))\n",
    "\n",
    "# Customize the heatmap\n",
    "sns.heatmap(correlation_matrix, annot=True, fmt=\".2f\", cmap=\"coolwarm\",\n",
    "            vmin=-1, vmax=1, linewidths=0.5, ax=ax)\n",
    "\n",
    "# Set the title and axis labels\n",
    "ax.set_title(\"Correlation Heatmap\")\n",
    "ax.set_xlabel(\"Features\")\n",
    "ax.set_ylabel(\"Features\")\n",
    "\n",
    "# Rotate the x-axis labels for better readability\n",
    "ax.set_xticklabels(ax.get_xticklabels(), rotation=45, horizontalalignment='right')\n",
    "\n",
    "# Show the plot\n",
    "plt.show()\n"
   ]
  },
  {
   "cell_type": "markdown",
   "metadata": {},
   "source": [
    "1. `correlation_matrix = sample_numerical_columns.corr()`: Computes the correlation matrix for the `sample_numerical_columns` DataFrame, which contains numerical columns.\n",
    "2. `fig, ax = plt.subplots(figsize=(8, 6))`: Creates a figure and axes for the heatmap plot with a specified size of 8x6 inches.\n",
    "3. `sns.heatmap(correlation_matrix, annot=True, fmt=\".2f\", cmap=\"coolwarm\", vmin=-1, vmax=1, linewidths=0.5, ax=ax)`: Generates a heatmap plot using seaborn (`sns`) with the correlation matrix. The plot includes annotations of the correlation values, displays them with two decimal places (`fmt=\".2f\"`), uses the \"coolwarm\" colormap, sets the minimum and maximum colorbar values to -1 and 1 respectively (`vmin=-1, vmax=1`), adds linewidths of 0.5 to separate the cells, and utilizes the specified axes (`ax`)."
   ]
  },
  {
   "cell_type": "markdown",
   "metadata": {},
   "source": [
    "From the correlation matrix provided, we can learn the following:\n",
    "\n",
    "- AccountAge has a **strong positive** correlation (0.82) with TotalCharges, indicating that as the account age increases, the total charges also tend to increase.\n",
    "- MonthlyCharges and TotalCharges have a **moderate positive** correlation (0.50), suggesting that higher monthly charges are associated with higher total charges.\n",
    "- Churn has a **negative correlation** with AccountAge (-0.20), MonthlyCharges (0.10), TotalCharges (-0.12), ViewingHoursPerWeek (-0.13), AverageViewingDuration (-0.15), ContentDownloadsPerMonth (-0.13), UserRating (0.02), SupportTicketsPerMonth (0.08), and WatchlistSize (0.02). These correlations indicate that some of these factors may influence the likelihood of churn, but the relationships are not very strong.\n",
    "- None of the correlations between the remaining variables show strong or significant relationships."
   ]
  },
  {
   "cell_type": "code",
   "execution_count": 11,
   "metadata": {},
   "outputs": [
    {
     "data": {
      "image/png": "[encoded data removed]",
      "text/plain": [
       "<Figure size 1440x720 with 6 Axes>"
      ]
     },
     "metadata": {
      "needs_background": "light"
     },
     "output_type": "display_data"
    }
   ],
   "source": [
    "# Create subplots with desired layout\n",
    "fig, axes = plt.subplots(nrows=2, ncols=3, figsize=(20, 10))\n",
    "\n",
    "sns.barplot(data=train_df, x='Churn', y='AverageViewingDuration', errorbar=('ci', False), ax=axes[0, 0])\n",
    "axes[0,0].set_title('(1) Churn customers have less average viewing session in minutes')\n",
    "\n",
    "sns.barplot(data=train_df, x='SubscriptionType', y='AccountAge', hue='Churn', ax=axes[0, 1])\n",
    "axes[0,1].set_title('(2) Customers churn before the 46/45 month')\n",
    "\n",
    "sns.violinplot(data=train_df.sample(500), y='SubscriptionType', x='SupportTicketsPerMonth', hue=\"Churn\", \n",
    "               split=True, inner=\"quart\", linewidth=1, ax=axes[0, 2])\n",
    "axes[0,2].set_title('(3) Churn customers seek more customer support')\n",
    "\n",
    "sns.boxplot(x=\"PaperlessBilling\", y=\"MonthlyCharges\", hue=\"Churn\", data=train_df, ax=axes[1, 0])\n",
    "axes[1,0].set_title('(4) Churn customers are charged more on average')\n",
    "\n",
    "sns.boxplot(x=\"SubscriptionType\", y=\"ViewingHoursPerWeek\", hue=\"Churn\", data=train_df, ax=axes[1, 1])\n",
    "axes[1,1].set_title('(5) Churn customers have fewer watch-time in hours per week')\n",
    "\n",
    "sns.kdeplot(data=train_df, x='ContentDownloadsPerMonth', hue='Churn', ax=axes[1, 2])\n",
    "axes[1,2].set_title('(6) Churn customers download fewer content per month')\n",
    "\n",
    "sns.despine(left=True)\n",
    "plt.tight_layout()  # Adjust the spacing between subplots\n",
    "\n",
    "plt.show()"
   ]
  },
  {
   "cell_type": "markdown",
   "metadata": {},
   "source": [
    "Here're the findings from the above graphs:\n",
    "\n",
    "1. Churn customers have less average viewing session in minutes\n",
    "2. Customers churn before the 46/45 month\n",
    "3. Churn customers seek more customer support\n",
    "4. Churn customers are charged more on average\n",
    "5. Churn customers have fewer watch-time in hours per week\n",
    "6. Churn customers download fewer content per month"
   ]
  },
  {
   "cell_type": "code",
   "execution_count": 12,
   "metadata": {},
   "outputs": [
    {
     "data": {
      "text/plain": [
       "<Figure size 576x432 with 0 Axes>"
      ]
     },
     "metadata": {},
     "output_type": "display_data"
    },
    {
     "data": {
      "image/png": "[encoded data removed]",
      "text/plain": [
       "<Figure size 440.375x360 with 1 Axes>"
      ]
     },
     "metadata": {
      "needs_background": "light"
     },
     "output_type": "display_data"
    }
   ],
   "source": [
    "# Set the figure size\n",
    "plt.figure(figsize=(8, 6))\n",
    "\n",
    "# Plot the ecdf using displot\n",
    "ax = sns.displot(data=train_df, x=\"MonthlyCharges\", kind=\"ecdf\", hue='Churn', palette=\"Set1\")\n",
    "\n",
    "# Set the axis labels\n",
    "ax.set(xlabel=\"Monthly Charges\", ylabel=\"ECDF\")\n",
    "\n",
    "# Set the title\n",
    "ax.set(title=\"ECDF of Monthly Charges by Churn\")\n",
    "\n",
    "# Move the legend to the upper right corner\n",
    "ax.add_legend(title=\"Churn\", loc=\"upper right\")\n",
    "\n",
    "# Remove the top and right spines\n",
    "sns.despine()\n",
    "\n",
    "# Show the plot\n",
    "plt.show()"
   ]
  },
  {
   "cell_type": "markdown",
   "metadata": {},
   "source": [
    "In the context of the plotted ECDF of Monthly Charges by Churn, a diagonal line for one group (Churn = False) and a curved line for the other group (Churn = True) suggests that the two groups have different distributions for Monthly Charges. The curved line indicates that there are differences in the distribution of charges between the churned customers and non-churned customers."
   ]
  },
  {
   "cell_type": "markdown",
   "metadata": {},
   "source": [
    "## Make predictions (required)\n",
    "\n",
    "Remember you should create a dataframe named `prediction_df` with exactly 104,480 entries plus a header row attempting to predict the likelihood of churn for subscriptions in `test_df`. Your submission will throw an error if you have extra columns (beyond `CustomerID` and `predicted_probaility`) or extra rows.\n",
    "\n",
    "The file should have exactly 2 columns:\n",
    "`CustomerID` (sorted in any order)\n",
    "`predicted_probability` (contains your numeric predicted probabilities between 0 and 1, e.g. from `estimator.predict_proba(X, y)[:, 1]`)\n",
    "\n",
    "The naming convention of the dataframe and columns are critical for our autograding, so please make sure to use the exact naming conventions of `prediction_df` with column names `CustomerID` and `predicted_probability`!"
   ]
  },
  {
   "cell_type": "markdown",
   "metadata": {},
   "source": [
    "### Example prediction submission:\n",
    "\n",
    "The code below is a very naive prediction method that simply predicts churn using a Dummy Classifier. This is used as just an example showing the submission format required. Please change/alter/delete this code below and create your own improved prediction methods for generating `prediction_df`."
   ]
  },
  {
   "cell_type": "markdown",
   "metadata": {},
   "source": [
    "**PLEASE CHANGE CODE BELOW TO IMPLEMENT YOUR OWN PREDICTIONS**"
   ]
  },
  {
   "cell_type": "code",
   "execution_count": 13,
   "metadata": {},
   "outputs": [
    {
     "data": {
      "text/plain": [
       "DummyClassifier(constant=None, random_state=None, strategy='stratified')"
      ]
     },
     "execution_count": 13,
     "metadata": {},
     "output_type": "execute_result"
    }
   ],
   "source": [
    "### PLEASE CHANGE THIS CODE TO IMPLEMENT YOUR OWN PREDICTIONS\n",
    "\n",
    "# Fit a dummy classifier on the feature columns in train_df:\n",
    "dummy_clf = DummyClassifier(strategy=\"stratified\")\n",
    "dummy_clf.fit(train_df.drop(['CustomerID', 'Churn'], axis=1), train_df.Churn)"
   ]
  },
  {
   "cell_type": "markdown",
   "metadata": {},
   "source": [
    "1. `dummy_clf = DummyClassifier(strategy=\"stratified\")`\n",
    "   - This line creates an instance of a dummy classifier using the `DummyClassifier` class from scikit-learn. The classifier will use a \"stratified\" strategy, meaning it generates random predictions with the same class distribution as the training data.\n",
    "\n",
    "2. `dummy_clf.fit(train_df.drop(['CustomerID', 'Churn'], axis=1), train_df.Churn)`\n",
    "   - This line fits the dummy classifier to the feature columns in `train_df` (excluding 'CustomerID' and 'Churn' columns) and the 'Churn' target variable. The classifier learns to make random predictions based on the \"stratified\" strategy."
   ]
  },
  {
   "cell_type": "code",
   "execution_count": 14,
   "metadata": {},
   "outputs": [],
   "source": [
    "pred_train_dummy = dummy_clf.predict_proba(train_df.drop(['CustomerID', 'Churn'], axis=1))[:, 1]"
   ]
  },
  {
   "cell_type": "markdown",
   "metadata": {},
   "source": [
    "1. `pred_train_dummy = dummy_clf.predict_proba(train_df.drop(['CustomerID', 'Churn'], axis=1))[:, 1]`\n",
    "   - This line makes predictions on the training data using the fitted `dummy_clf` (dummy classifier) using the `predict_proba` method.\n",
    "   - The `predict_proba` method returns the predicted probabilities for each class for each data point. In this case, since we have a binary classification problem with classes 'Churn=0' and 'Churn=1', the result will be a 2D array with two columns (probabilities for each class) and rows corresponding to each data point in the training data.\n",
    "   - The `[:, 1]` slicing at the end selects the second column from the 2D array, which corresponds to the probabilities of 'Churn=1' (positive class).\n",
    "   - The resulting 1D array `pred_train_dummy` contains the predicted probabilities of 'Churn=1' for each data point in the training data."
   ]
  },
  {
   "cell_type": "code",
   "execution_count": 15,
   "metadata": {},
   "outputs": [
    {
     "name": "stdout",
     "output_type": "stream",
     "text": [
      "\n",
      "The Dummy classifier has an accuracy of: 0.499385129730625\n"
     ]
    },
    {
     "data": {
      "image/png": "[encoded data removed]",
      "text/plain": [
       "<Figure size 432x288 with 1 Axes>"
      ]
     },
     "metadata": {
      "needs_background": "light"
     },
     "output_type": "display_data"
    }
   ],
   "source": [
    "# Calculate ROC AUC score\n",
    "roc_auc = roc_auc_score(train_df.Churn, pred_train_dummy)\n",
    "print(\"\\nThe Dummy classifier has an accuracy of:\", roc_auc)\n",
    "\n",
    "def plot_roc_curve(true_labels, predicted_scores):\n",
    "    # Calculate ROC AUC score\n",
    "    roc_auc = roc_auc_score(true_labels, predicted_scores)\n",
    "\n",
    "    # Calculate false positive rate, true positive rate, and threshold values for ROC curve\n",
    "    fpr, tpr, thresholds = roc_curve(true_labels, predicted_scores)\n",
    "\n",
    "    # Plot ROC curve\n",
    "    plt.plot(fpr, tpr, label='ROC curve (AUC = %0.2f)' % roc_auc)\n",
    "    plt.plot([0, 1], [0, 1], 'k--', label='Random')\n",
    "    plt.xlabel('False Positive Rate')\n",
    "    plt.ylabel('True Positive Rate')\n",
    "    plt.title('Receiver Operating Characteristic (ROC)')\n",
    "    plt.legend(loc='lower right')\n",
    "    plt.show()\n",
    "\n",
    "# Example usage with train_df and pred_train_dummy\n",
    "true_labels = train_df.Churn\n",
    "predicted_scores = pred_train_dummy\n",
    "\n",
    "# Call the function to plot ROC curve\n",
    "plot_roc_curve(true_labels, predicted_scores)"
   ]
  },
  {
   "cell_type": "markdown",
   "metadata": {},
   "source": [
    "1. Calculates the ROC AUC score between the 'Churn' target variable in `train_df` and the predicted probabilities (`pred_train_dummy`) using `roc_auc_score` function.\n",
    "2. Prints the ROC AUC score, representing the accuracy of the Dummy classifier.\n",
    "3. Defines a function `plot_roc_curve` to plot the ROC curve given true labels and predicted scores.\n",
    "4. Calculates the ROC AUC score again, but this time within the `plot_roc_curve` function.\n",
    "5. Calculates the false positive rate, true positive rate, and threshold values for the ROC curve using `roc_curve` function.\n",
    "6. Plots the ROC curve with the AUC value and a dashed line for the random classifier.\n",
    "7. Displays the ROC curve plot, illustrating the performance of the classifier in distinguishing between true positives and false positives.\n",
    "\n",
    "Finally, the function `plot_roc_curve` is called with the 'Churn' labels (`true_labels`) and the predicted probabilities (`predicted_scores`) to visualize the ROC curve for the Dummy classifier."
   ]
  },
  {
   "cell_type": "markdown",
   "metadata": {},
   "source": [
    "So the baseline we have now is 50%. Can we do better with different models? Let's find out!"
   ]
  },
  {
   "cell_type": "code",
   "execution_count": 16,
   "metadata": {},
   "outputs": [
    {
     "name": "stdout",
     "output_type": "stream",
     "text": [
      "(243787, 21)\n",
      "(104480, 20)\n"
     ]
    }
   ],
   "source": [
    "print(train_df.shape)\n",
    "print(test_df.shape)"
   ]
  },
  {
   "cell_type": "code",
   "execution_count": 17,
   "metadata": {},
   "outputs": [],
   "source": [
    "from sklearn.preprocessing import LabelEncoder\n",
    "\n",
    "# Create a copy of the original train and test DataFrames\n",
    "train_encoded = train_df.drop(['CustomerID', 'Churn'], axis=1).copy()\n",
    "test_encoded = test_df.drop(['CustomerID'], axis=1).copy()\n",
    "\n",
    "# Iterate over each column in the train DataFrame\n",
    "for column in train_encoded.columns:\n",
    "    # Check if the column dtype is object (categorical)\n",
    "    if train_encoded[column].dtype == 'object' or train_encoded[column].dtype == 'category':\n",
    "        # Create a LabelEncoder instance\n",
    "        label_encoder = LabelEncoder()\n",
    "        # Fit and transform the column in the train DataFrame\n",
    "        train_encoded[column] = label_encoder.fit_transform(train_encoded[column])\n",
    "        # Transform the column in the test DataFrame\n",
    "        test_encoded[column] = label_encoder.transform(test_encoded[column])\n"
   ]
  },
  {
   "cell_type": "markdown",
   "metadata": {},
   "source": [
    "1. Imports the `LabelEncoder` class from `sklearn.preprocessing`.\n",
    "2. Creates a copy of the original `train_df` DataFrame as `train_encoded` and the `test_df` DataFrame as `test_encoded`. These copies will be used to encode the categorical features.\n",
    "3. Iterates over each column in the `train_encoded` DataFrame.\n",
    "4. For each column, it checks if the data type is either 'object' or 'category', indicating that the column is a categorical feature.\n",
    "5. If the column is categorical, it creates an instance of the `LabelEncoder`.\n",
    "6. The `LabelEncoder` is then used to fit and transform the categorical column in the `train_encoded` DataFrame. This means that it assigns a unique integer value to each category in the column.\n",
    "7. After encoding the training data, the same transformation is applied to the corresponding column in the `test_encoded` DataFrame using the already fitted `LabelEncoder`. This ensures that the same encoding scheme is applied consistently to both the training and test datasets.\n",
    "\n",
    "The process of label encoding is used to convert categorical variables into numerical format, which is necessary for some machine learning algorithms that cannot directly handle categorical data. It assigns a unique numerical representation to each category, allowing the models to work with these features more effectively. However, it's important to note that label encoding does not create any ordinal relationship between categories; it merely provides numerical representations for them."
   ]
  },
  {
   "cell_type": "code",
   "execution_count": 18,
   "metadata": {},
   "outputs": [
    {
     "name": "stdout",
     "output_type": "stream",
     "text": [
      "(243787, 19)\n",
      "(104480, 19)\n"
     ]
    }
   ],
   "source": [
    "print(train_encoded.shape)\n",
    "print(test_encoded.shape)"
   ]
  },
  {
   "cell_type": "code",
   "execution_count": 19,
   "metadata": {},
   "outputs": [
    {
     "name": "stdout",
     "output_type": "stream",
     "text": [
      "x_train shape: (241349, 19)\n",
      "x_labels shape: (241349,)\n",
      "dev_test shape: (2438, 19)\n",
      "dev_labels shape: (2438,)\n"
     ]
    }
   ],
   "source": [
    "# splitting the data\n",
    "\n",
    "x_train, dev_test, x_labels, dev_labels = train_test_split(train_encoded.iloc[:,:], # changed\n",
    "                                                           train_df.Churn, \n",
    "                                                           test_size=0.01, \n",
    "                                                           random_state=1, \n",
    "                                                           shuffle=True)\n",
    "\n",
    "print('x_train shape:', x_train.shape)\n",
    "print('x_labels shape:', x_labels.shape)\n",
    "print('dev_test shape:', dev_test.shape)\n",
    "print('dev_labels shape:', dev_labels.shape)"
   ]
  },
  {
   "cell_type": "code",
   "execution_count": 20,
   "metadata": {},
   "outputs": [
    {
     "name": "stdout",
     "output_type": "stream",
     "text": [
      "train data shape\n",
      "(241349, 19)\n",
      "dev data shape\n",
      "(2438, 19)\n",
      "test data shape\n",
      "(104480, 19)\n"
     ]
    }
   ],
   "source": [
    "# normalizing the datasets\n",
    "\n",
    "scaler = StandardScaler()\n",
    "x_train = scaler.fit_transform(x_train)\n",
    "dev_test_scaled = scaler.transform(dev_test)\n",
    "test_encoded_scaled = scaler.transform(test_encoded)\n",
    "\n",
    "# displaying the data\n",
    "\n",
    "print('train data shape')\n",
    "print(x_train.shape)\n",
    "\n",
    "print('dev data shape')\n",
    "print(dev_test.shape)\n",
    "\n",
    "print('test data shape')\n",
    "print(test_encoded.shape)"
   ]
  },
  {
   "cell_type": "markdown",
   "metadata": {},
   "source": [
    "1. Creates an instance of the `StandardScaler` class from `sklearn.preprocessing`, which is used for standardization of features.\n",
    "2. Applies the `fit_transform` method of the `StandardScaler` to `x_train`, scaling the training data. The `fit_transform` method computes the mean and standard deviation of the features in `x_train` and then scales the data accordingly. It returns the scaled training data as `x_train`.\n",
    "3. Applies the `transform` method of the `StandardScaler` to `dev_test`, scaling the development/testing data. The `transform` method uses the mean and standard deviation computed during the `fit_transform` step on `x_train` to scale the data in `dev_test`. The scaled development/testing data is stored in `dev_test_scaled`.\n",
    "4. Applies the `transform` method of the `StandardScaler` to `test_encoded`, scaling the test data. Similar to the previous step, it uses the mean and standard deviation from `x_train` to scale the data in `test_encoded`. The scaled test data is stored in `test_encoded_scaled`.\n",
    "\n",
    "The purpose of using the `StandardScaler` is to standardize the features in the datasets, making them have zero mean and unit variance. Standardization is useful for many machine learning algorithms, particularly those that are sensitive to the scale of the features. By scaling the data, you ensure that the features are on a similar scale, which can improve the performance and convergence of certain algorithms."
   ]
  },
  {
   "cell_type": "code",
   "execution_count": 49,
   "metadata": {},
   "outputs": [],
   "source": [
    "tf.random.set_seed(42)  # For more consistent results\n",
    "\n",
    "model = keras.Sequential([\n",
    "    layers.Dense(64, activation=\"relu\"),\n",
    "    layers.Dropout(0.2),\n",
    "    layers.Dense(128, activation=\"relu\"),\n",
    "    layers.Dense(64, activation=\"relu\"),\n",
    "    layers.Dense(32, activation=\"relu\"),\n",
    "    layers.Dense(1, activation=\"sigmoid\")\n",
    "])\n"
   ]
  },
  {
   "cell_type": "markdown",
   "metadata": {},
   "source": [
    "1. `tf.random.set_seed(42)`: This sets the random seed to 42 in TensorFlow, which ensures that the random number generation for the neural network is reproducible. Setting a random seed helps produce consistent results across different runs.\n",
    "\n",
    "2. `model = keras.Sequential([...])`: This creates a sequential neural network model using Keras. A sequential model is appropriate for a plain stack of layers, where each layer has exactly one input tensor and one output tensor.\n",
    "\n",
    "3. `layers.Dense(64, activation=\"relu\")`: This adds a fully connected (dense) layer with 64 units/neurons to the model. The activation function used for this layer is the ReLU (Rectified Linear Unit) activation function, which introduces non-linearity to the network.\n",
    "\n",
    "4. `layers.Dropout(0.2)`: This adds a dropout layer with a dropout rate of 0.2. Dropout is a regularization technique that randomly sets a fraction of the input units to 0 during training. It helps prevent overfitting by reducing interdependence between neurons.\n",
    "\n",
    "5. `layers.Dense(128, activation=\"relu\")`: This adds another fully connected (dense) layer with 128 units/neurons and ReLU activation function.\n",
    "\n",
    "6. `layers.Dense(64, activation=\"relu\")`: This adds another fully connected (dense) layer with 64 units/neurons and ReLU activation function.\n",
    "\n",
    "7. `layers.Dense(32, activation=\"relu\")`: This adds another fully connected (dense) layer with 32 units/neurons and ReLU activation function.\n",
    "\n",
    "8. `layers.Dense(1, activation=\"sigmoid\")`: This adds the final output layer with 1 unit/neuron and a sigmoid activation function. Since this is a binary classification problem (1 or 0), the sigmoid function maps the output values to probabilities in the range [0, 1].\n",
    "\n",
    "The given model architecture consists of multiple fully connected layers with ReLU activation, followed by dropout regularization, and a final output layer with a sigmoid activation for binary classification."
   ]
  },
  {
   "cell_type": "code",
   "execution_count": 50,
   "metadata": {},
   "outputs": [
    {
     "data": {
      "text/plain": [
       "{0: 0.6106329254840048, 1: 2.75972511263064}"
      ]
     },
     "execution_count": 50,
     "metadata": {},
     "output_type": "execute_result"
    }
   ],
   "source": [
    "from sklearn.utils.class_weight import compute_class_weight\n",
    "\n",
    "# Convert TensorFlow tensor to NumPy array\n",
    "x_labels_np = np.array(x_labels)\n",
    "\n",
    "# Compute class weights\n",
    "class_weights = compute_class_weight('balanced', classes=np.unique(x_labels_np), y=x_labels_np)\n",
    "\n",
    "# Convert class weights to a dictionary\n",
    "class_weights_dict = dict(enumerate(class_weights))\n",
    "\n",
    "class_weights_dict"
   ]
  },
  {
   "cell_type": "markdown",
   "metadata": {},
   "source": [
    "The code snippet calculates class weights for imbalanced datasets using scikit-learn's `compute_class_weight` function. It converts TensorFlow tensor `x_labels` to a NumPy array, computes class weights with the 'balanced' option, and creates a dictionary of class indices and their corresponding class weights."
   ]
  },
  {
   "cell_type": "code",
   "execution_count": 51,
   "metadata": {
    "scrolled": true
   },
   "outputs": [
    {
     "name": "stdout",
     "output_type": "stream",
     "text": [
      "Epoch 1/50\n",
      "6788/6788 [==============================] - 22s 3ms/step - loss: 0.6010 - auc_7: 0.7384 - binary_accuracy: 0.6600 - val_loss: 0.5921 - val_auc_7: 0.7462 - val_binary_accuracy: 0.6817\n",
      "Epoch 2/50\n",
      "6788/6788 [==============================] - 20s 3ms/step - loss: 0.5953 - auc_7: 0.7452 - binary_accuracy: 0.6666 - val_loss: 0.5938 - val_auc_7: 0.7463 - val_binary_accuracy: 0.6617\n",
      "Epoch 3/50\n",
      "6788/6788 [==============================] - 20s 3ms/step - loss: 0.5947 - auc_7: 0.7459 - binary_accuracy: 0.6676 - val_loss: 0.6471 - val_auc_7: 0.7462 - val_binary_accuracy: 0.6343\n",
      "Epoch 4/50\n",
      "6788/6788 [==============================] - 20s 3ms/step - loss: 0.5938 - auc_7: 0.7467 - binary_accuracy: 0.6656 - val_loss: 0.5969 - val_auc_7: 0.7469 - val_binary_accuracy: 0.6597\n",
      "Epoch 5/50\n",
      "6788/6788 [==============================] - 20s 3ms/step - loss: 0.5936 - auc_7: 0.7470 - binary_accuracy: 0.6682 - val_loss: 0.6092 - val_auc_7: 0.7469 - val_binary_accuracy: 0.6472\n",
      "Epoch 6/50\n",
      "6788/6788 [==============================] - 20s 3ms/step - loss: 0.5931 - auc_7: 0.7474 - binary_accuracy: 0.6667 - val_loss: 0.5975 - val_auc_7: 0.7467 - val_binary_accuracy: 0.6499\n",
      "Epoch 7/50\n",
      "6788/6788 [==============================] - 20s 3ms/step - loss: 0.5927 - auc_7: 0.7479 - binary_accuracy: 0.6646 - val_loss: 0.5742 - val_auc_7: 0.7473 - val_binary_accuracy: 0.6747\n",
      "Epoch 8/50\n",
      "6788/6788 [==============================] - 20s 3ms/step - loss: 0.5923 - auc_7: 0.7483 - binary_accuracy: 0.6668 - val_loss: 0.5901 - val_auc_7: 0.7468 - val_binary_accuracy: 0.6652\n",
      "Epoch 9/50\n",
      "6788/6788 [==============================] - 20s 3ms/step - loss: 0.5919 - auc_7: 0.7487 - binary_accuracy: 0.6683 - val_loss: 0.5748 - val_auc_7: 0.7468 - val_binary_accuracy: 0.6737\n",
      "Epoch 10/50\n",
      "6788/6788 [==============================] - 20s 3ms/step - loss: 0.5915 - auc_7: 0.7491 - binary_accuracy: 0.6676 - val_loss: 0.5955 - val_auc_7: 0.7462 - val_binary_accuracy: 0.6648\n",
      "Epoch 11/50\n",
      "6788/6788 [==============================] - 20s 3ms/step - loss: 0.5919 - auc_7: 0.7487 - binary_accuracy: 0.6674 - val_loss: 0.5962 - val_auc_7: 0.7468 - val_binary_accuracy: 0.6743\n",
      "Epoch 12/50\n",
      "6788/6788 [==============================] - 20s 3ms/step - loss: 0.5915 - auc_7: 0.7493 - binary_accuracy: 0.6662 - val_loss: 0.5792 - val_auc_7: 0.7458 - val_binary_accuracy: 0.6773\n",
      "Epoch 13/50\n",
      "6788/6788 [==============================] - 20s 3ms/step - loss: 0.5912 - auc_7: 0.7496 - binary_accuracy: 0.6664 - val_loss: 0.5950 - val_auc_7: 0.7468 - val_binary_accuracy: 0.6643\n",
      "Epoch 14/50\n",
      "6788/6788 [==============================] - 20s 3ms/step - loss: 0.5908 - auc_7: 0.7500 - binary_accuracy: 0.6666 - val_loss: 0.5682 - val_auc_7: 0.7461 - val_binary_accuracy: 0.6813\n",
      "Epoch 15/50\n",
      "6788/6788 [==============================] - 20s 3ms/step - loss: 0.5909 - auc_7: 0.7497 - binary_accuracy: 0.6655 - val_loss: 0.5712 - val_auc_7: 0.7459 - val_binary_accuracy: 0.6819\n",
      "Epoch 16/50\n",
      "6788/6788 [==============================] - 20s 3ms/step - loss: 0.5904 - auc_7: 0.7504 - binary_accuracy: 0.6686 - val_loss: 0.5929 - val_auc_7: 0.7462 - val_binary_accuracy: 0.6597\n",
      "Epoch 17/50\n",
      "6788/6788 [==============================] - 20s 3ms/step - loss: 0.5906 - auc_7: 0.7501 - binary_accuracy: 0.6666 - val_loss: 0.5884 - val_auc_7: 0.7466 - val_binary_accuracy: 0.6669\n",
      "Epoch 18/50\n",
      "6788/6788 [==============================] - 20s 3ms/step - loss: 0.5904 - auc_7: 0.7503 - binary_accuracy: 0.6692 - val_loss: 0.6125 - val_auc_7: 0.7457 - val_binary_accuracy: 0.6579\n",
      "Epoch 19/50\n",
      "6788/6788 [==============================] - 20s 3ms/step - loss: 0.5899 - auc_7: 0.7509 - binary_accuracy: 0.6667 - val_loss: 0.5774 - val_auc_7: 0.7449 - val_binary_accuracy: 0.6772\n",
      "Epoch 20/50\n",
      "6788/6788 [==============================] - 20s 3ms/step - loss: 0.5900 - auc_7: 0.7509 - binary_accuracy: 0.6665 - val_loss: 0.5837 - val_auc_7: 0.7452 - val_binary_accuracy: 0.6745\n",
      "Epoch 21/50\n",
      "6788/6788 [==============================] - 21s 3ms/step - loss: 0.5897 - auc_7: 0.7510 - binary_accuracy: 0.6613 - val_loss: 0.5944 - val_auc_7: 0.7448 - val_binary_accuracy: 0.6571\n",
      "Epoch 22/50\n",
      "6788/6788 [==============================] - 20s 3ms/step - loss: 0.5895 - auc_7: 0.7513 - binary_accuracy: 0.6618 - val_loss: 0.6071 - val_auc_7: 0.7456 - val_binary_accuracy: 0.6665\n",
      "Epoch 23/50\n",
      "6788/6788 [==============================] - 20s 3ms/step - loss: 0.5896 - auc_7: 0.7511 - binary_accuracy: 0.6672 - val_loss: 0.5879 - val_auc_7: 0.7453 - val_binary_accuracy: 0.6566\n",
      "Epoch 24/50\n",
      "6788/6788 [==============================] - 20s 3ms/step - loss: 0.5892 - auc_7: 0.7514 - binary_accuracy: 0.6621 - val_loss: 0.5703 - val_auc_7: 0.7444 - val_binary_accuracy: 0.6784\n",
      "Epoch 25/50\n",
      "6788/6788 [==============================] - 20s 3ms/step - loss: 0.5885 - auc_7: 0.7522 - binary_accuracy: 0.6639 - val_loss: 0.5985 - val_auc_7: 0.7455 - val_binary_accuracy: 0.6561\n",
      "Epoch 26/50\n",
      "6788/6788 [==============================] - 20s 3ms/step - loss: 0.5888 - auc_7: 0.7521 - binary_accuracy: 0.6671 - val_loss: 0.5855 - val_auc_7: 0.7449 - val_binary_accuracy: 0.6673\n",
      "Epoch 27/50\n",
      "6788/6788 [==============================] - 20s 3ms/step - loss: 0.5880 - auc_7: 0.7526 - binary_accuracy: 0.6653 - val_loss: 0.5631 - val_auc_7: 0.7457 - val_binary_accuracy: 0.6837\n",
      "Epoch 28/50\n",
      "6788/6788 [==============================] - 20s 3ms/step - loss: 0.5884 - auc_7: 0.7524 - binary_accuracy: 0.6627 - val_loss: 0.5919 - val_auc_7: 0.7451 - val_binary_accuracy: 0.6646\n",
      "Epoch 29/50\n",
      "6788/6788 [==============================] - 20s 3ms/step - loss: 0.5879 - auc_7: 0.7530 - binary_accuracy: 0.6622 - val_loss: 0.5922 - val_auc_7: 0.7450 - val_binary_accuracy: 0.6631\n",
      "Epoch 30/50\n",
      "6788/6788 [==============================] - 20s 3ms/step - loss: 0.5878 - auc_7: 0.7529 - binary_accuracy: 0.6642 - val_loss: 0.5967 - val_auc_7: 0.7443 - val_binary_accuracy: 0.6533\n",
      "Epoch 31/50\n",
      "6788/6788 [==============================] - 20s 3ms/step - loss: 0.5876 - auc_7: 0.7531 - binary_accuracy: 0.6653 - val_loss: 0.5936 - val_auc_7: 0.7434 - val_binary_accuracy: 0.6632\n",
      "Epoch 32/50\n",
      "6788/6788 [==============================] - 20s 3ms/step - loss: 0.5873 - auc_7: 0.7534 - binary_accuracy: 0.6637 - val_loss: 0.5748 - val_auc_7: 0.7429 - val_binary_accuracy: 0.6676\n",
      "Epoch 33/50\n",
      "6788/6788 [==============================] - 20s 3ms/step - loss: 0.5873 - auc_7: 0.7535 - binary_accuracy: 0.6639 - val_loss: 0.5873 - val_auc_7: 0.7434 - val_binary_accuracy: 0.6695\n",
      "Epoch 34/50\n",
      "6788/6788 [==============================] - 20s 3ms/step - loss: 0.5869 - auc_7: 0.7539 - binary_accuracy: 0.6650 - val_loss: 0.5745 - val_auc_7: 0.7432 - val_binary_accuracy: 0.6801\n",
      "Epoch 35/50\n",
      "6788/6788 [==============================] - 20s 3ms/step - loss: 0.5867 - auc_7: 0.7539 - binary_accuracy: 0.6637 - val_loss: 0.5868 - val_auc_7: 0.7430 - val_binary_accuracy: 0.6694\n",
      "Epoch 36/50\n",
      "6788/6788 [==============================] - 20s 3ms/step - loss: 0.5867 - auc_7: 0.7541 - binary_accuracy: 0.6651 - val_loss: 0.5715 - val_auc_7: 0.7434 - val_binary_accuracy: 0.6823\n",
      "Epoch 37/50\n",
      "6788/6788 [==============================] - 20s 3ms/step - loss: 0.5861 - auc_7: 0.7547 - binary_accuracy: 0.6619 - val_loss: 0.5939 - val_auc_7: 0.7439 - val_binary_accuracy: 0.6589\n",
      "Epoch 38/50\n",
      "6788/6788 [==============================] - 20s 3ms/step - loss: 0.5860 - auc_7: 0.7547 - binary_accuracy: 0.6609 - val_loss: 0.5747 - val_auc_7: 0.7443 - val_binary_accuracy: 0.6696\n",
      "Epoch 39/50\n",
      "6788/6788 [==============================] - 19s 3ms/step - loss: 0.5855 - auc_7: 0.7551 - binary_accuracy: 0.6622 - val_loss: 0.6076 - val_auc_7: 0.7437 - val_binary_accuracy: 0.6549\n",
      "Epoch 40/50\n",
      "6788/6788 [==============================] - 20s 3ms/step - loss: 0.5855 - auc_7: 0.7552 - binary_accuracy: 0.6613 - val_loss: 0.5877 - val_auc_7: 0.7434 - val_binary_accuracy: 0.6696\n",
      "Epoch 41/50\n",
      "6788/6788 [==============================] - 20s 3ms/step - loss: 0.5861 - auc_7: 0.7546 - binary_accuracy: 0.6626 - val_loss: 0.5857 - val_auc_7: 0.7433 - val_binary_accuracy: 0.6651\n",
      "Epoch 42/50\n",
      "6788/6788 [==============================] - 20s 3ms/step - loss: 0.5853 - auc_7: 0.7555 - binary_accuracy: 0.6614 - val_loss: 0.5921 - val_auc_7: 0.7424 - val_binary_accuracy: 0.6587\n",
      "Epoch 43/50\n",
      "6788/6788 [==============================] - 20s 3ms/step - loss: 0.5849 - auc_7: 0.7558 - binary_accuracy: 0.6577 - val_loss: 0.5739 - val_auc_7: 0.7418 - val_binary_accuracy: 0.6638\n",
      "Epoch 44/50\n",
      "6788/6788 [==============================] - 20s 3ms/step - loss: 0.5843 - auc_7: 0.7565 - binary_accuracy: 0.6583 - val_loss: 0.5790 - val_auc_7: 0.7424 - val_binary_accuracy: 0.6555\n",
      "Epoch 45/50\n",
      "6788/6788 [==============================] - 20s 3ms/step - loss: 0.5845 - auc_7: 0.7561 - binary_accuracy: 0.6582 - val_loss: 0.5798 - val_auc_7: 0.7431 - val_binary_accuracy: 0.6609\n",
      "Epoch 46/50\n",
      "6788/6788 [==============================] - 20s 3ms/step - loss: 0.5842 - auc_7: 0.7565 - binary_accuracy: 0.6604 - val_loss: 0.5950 - val_auc_7: 0.7427 - val_binary_accuracy: 0.6547\n",
      "Epoch 47/50\n",
      "6788/6788 [==============================] - 20s 3ms/step - loss: 0.5840 - auc_7: 0.7567 - binary_accuracy: 0.6606 - val_loss: 0.6069 - val_auc_7: 0.7419 - val_binary_accuracy: 0.6461\n",
      "Epoch 48/50\n",
      "6788/6788 [==============================] - 21s 3ms/step - loss: 0.5834 - auc_7: 0.7573 - binary_accuracy: 0.6559 - val_loss: 0.5895 - val_auc_7: 0.7409 - val_binary_accuracy: 0.6650\n",
      "Epoch 49/50\n",
      "6788/6788 [==============================] - 20s 3ms/step - loss: 0.5837 - auc_7: 0.7571 - binary_accuracy: 0.6573 - val_loss: 0.5844 - val_auc_7: 0.7412 - val_binary_accuracy: 0.6651\n",
      "Epoch 50/50\n",
      "6788/6788 [==============================] - 20s 3ms/step - loss: 0.5830 - auc_7: 0.7577 - binary_accuracy: 0.6585 - val_loss: 0.5800 - val_auc_7: 0.7403 - val_binary_accuracy: 0.6672\n"
     ]
    }
   ],
   "source": [
    "# putting the model together\n",
    "\n",
    "tf.random.set_seed(1)\n",
    "\n",
    "model.compile(\n",
    "    optimizer=keras.optimizers.Adam(learning_rate=0.001, amsgrad=True),  # Optimizer\n",
    "    # Loss function to minimize\n",
    "    loss=keras.losses.BinaryCrossentropy(from_logits=True),\n",
    "    # List of metrics to monitor\n",
    "    metrics=[keras.metrics.AUC(), keras.metrics.binary_accuracy]\n",
    ")\n",
    "\n",
    "history = model.fit(x_train, x_labels, validation_split=0.1, epochs=50, class_weight=class_weights_dict)"
   ]
  },
  {
   "cell_type": "markdown",
   "metadata": {},
   "source": [
    "1. `tf.random.set_seed(1)`: Sets the random seed to 1 in TensorFlow to ensure reproducibility.\n",
    "\n",
    "2. `model.compile(...)`: Compiles the neural network model using Keras's `compile` method. It specifies the optimizer as Adam with AMSGrad (`amsgrad=True`), the loss function as binary cross-entropy with logits (`from_logits=True`), and the evaluation metrics as AUC (Area Under the Curve) and binary accuracy.\n",
    "\n",
    "3. `history = model.fit(...)`: Fits the compiled model to the training data (`x_train` and `x_labels`) using the `fit` method. It trains the model for 50 epochs, with a validation split of 0.1 (10% of the data used for validation during training). Additionally, it applies class weights to address class imbalance during training, using the `class_weights_dict` dictionary computed previously.\n",
    "\n",
    "The `model.fit` function will return the training history, which includes information about the model's training progress, such as the loss and metric values at each epoch. This information can be used for further analysis and visualization."
   ]
  },
  {
   "cell_type": "code",
   "execution_count": 52,
   "metadata": {},
   "outputs": [
    {
     "data": {
      "image/png": "[encoded data removed]",
      "text/plain": [
       "<Figure size 432x288 with 1 Axes>"
      ]
     },
     "metadata": {
      "needs_background": "light"
     },
     "output_type": "display_data"
    }
   ],
   "source": [
    "# accessing the loss values from the history object\n",
    "losses = model.history.history['loss']\n",
    "\n",
    "# creating x-axis values (epochs)\n",
    "epochs = range(1, len(losses) + 1)\n",
    "\n",
    "# plotting the losses\n",
    "plt.plot(epochs, losses, label='Loss')\n",
    "plt.xlabel('Epochs')\n",
    "plt.ylabel('Loss')\n",
    "plt.title('Loss over Epochs')\n",
    "plt.legend()\n",
    "plt.show()"
   ]
  },
  {
   "cell_type": "code",
   "execution_count": 53,
   "metadata": {
    "scrolled": true
   },
   "outputs": [
    {
     "data": {
      "image/png": "[encoded data removed]",
      "text/plain": [
       "<Figure size 432x288 with 1 Axes>"
      ]
     },
     "metadata": {
      "needs_background": "light"
     },
     "output_type": "display_data"
    }
   ],
   "source": [
    "# After running the model.fit() code provided\n",
    "\n",
    "# Access the binary accuracy values from the history object\n",
    "train_acc = history.history['binary_accuracy']\n",
    "val_acc = history.history['val_binary_accuracy']\n",
    "\n",
    "# Plot the training and validation accuracy over epochs\n",
    "plt.plot(range(1, len(train_acc) + 1), train_acc, label='Train Acc')\n",
    "plt.plot(range(1, len(val_acc) + 1), val_acc, label='Val Acc')\n",
    "plt.xlabel('Epochs')\n",
    "plt.ylabel('Accuracy')\n",
    "plt.title('Training and Validation Accuracy')\n",
    "plt.legend()\n",
    "plt.show()"
   ]
  },
  {
   "cell_type": "code",
   "execution_count": 32,
   "metadata": {},
   "outputs": [
    {
     "data": {
      "text/plain": [
       "[0.5907371640205383, 0.7408488392829895, 0.6636587381362915]"
      ]
     },
     "execution_count": 32,
     "metadata": {},
     "output_type": "execute_result"
    }
   ],
   "source": [
    "model.evaluate(dev_test_scaled, dev_labels, verbose=0)"
   ]
  },
  {
   "cell_type": "code",
   "execution_count": 54,
   "metadata": {
    "scrolled": true
   },
   "outputs": [
    {
     "name": "stdout",
     "output_type": "stream",
     "text": [
      "77/77 [==============================] - 0s 1ms/step\n",
      "[[0.41804585]\n",
      " [0.53494173]\n",
      " [0.31426904]]\n"
     ]
    }
   ],
   "source": [
    "# using the model to predict the unlabeled data (from the test dataset)\n",
    "\n",
    "predictions = model.predict(dev_test_scaled)\n",
    "print(predictions[:3])"
   ]
  },
  {
   "cell_type": "code",
   "execution_count": 55,
   "metadata": {},
   "outputs": [
    {
     "name": "stdout",
     "output_type": "stream",
     "text": [
      "Accuracy: 0.6694011484823625\n",
      "Precision: 0.3185108583247156\n",
      "Recall: 0.676923076923077\n",
      "F1-Score: 0.43319268635724334\n"
     ]
    }
   ],
   "source": [
    "from sklearn.metrics import accuracy_score, precision_score, recall_score, f1_score\n",
    "\n",
    "# Assuming you have true labels 'y_true' and predicted labels 'y_pred' for a single class\n",
    "\n",
    "y_pre = [0 if x < 0.5 else 1 for x in predictions]\n",
    "\n",
    "# Calculate accuracy\n",
    "accuracy = accuracy_score(dev_labels, y_pre)\n",
    "\n",
    "# Calculate precision\n",
    "precision = precision_score(dev_labels, y_pre)\n",
    "\n",
    "# Calculate recall\n",
    "recall = recall_score(dev_labels, y_pre)\n",
    "\n",
    "# Calculate F1-score\n",
    "f1 = f1_score(dev_labels, y_pre)\n",
    "\n",
    "# Print the classification metrics\n",
    "print(\"Accuracy:\", accuracy)\n",
    "print(\"Precision:\", precision)\n",
    "print(\"Recall:\", recall)\n",
    "print(\"F1-Score:\", f1)"
   ]
  },
  {
   "cell_type": "code",
   "execution_count": 56,
   "metadata": {},
   "outputs": [
    {
     "data": {
      "image/png": "[encoded data removed]",
      "text/plain": [
       "<Figure size 432x288 with 2 Axes>"
      ]
     },
     "metadata": {
      "needs_background": "light"
     },
     "output_type": "display_data"
    }
   ],
   "source": [
    "from sklearn.metrics import confusion_matrix\n",
    "\n",
    "# Assuming you have true labels 'y_true' and predicted labels 'y_pred' for binary classification\n",
    "\n",
    "# Calculate the confusion matrix\n",
    "cm = confusion_matrix(dev_labels, y_pre)\n",
    "\n",
    "# Display the confusion matrix using a heatmap\n",
    "plt.figure(figsize=(6, 4))\n",
    "sns.heatmap(cm, annot=True, fmt='d', cmap='Blues')\n",
    "plt.title('Confusion Matrix')\n",
    "plt.xlabel('Predicted Label')\n",
    "plt.ylabel('True Label')\n",
    "plt.show()"
   ]
  },
  {
   "cell_type": "code",
   "execution_count": 57,
   "metadata": {},
   "outputs": [
    {
     "name": "stdout",
     "output_type": "stream",
     "text": [
      "roc_auc_score: 0.7432328639590364\n"
     ]
    },
    {
     "data": {
      "image/png": "[encoded data removed]",
      "text/plain": [
       "<Figure size 432x288 with 1 Axes>"
      ]
     },
     "metadata": {
      "needs_background": "light"
     },
     "output_type": "display_data"
    }
   ],
   "source": [
    "roc_auc3 = roc_auc_score(dev_labels, predictions)\n",
    "print(\"roc_auc_score:\", roc_auc3)\n",
    "\n",
    "plot_roc_curve(dev_labels, predictions)"
   ]
  },
  {
   "cell_type": "code",
   "execution_count": 58,
   "metadata": {},
   "outputs": [
    {
     "name": "stdout",
     "output_type": "stream",
     "text": [
      "3265/3265 [==============================] - 4s 1ms/step\n"
     ]
    }
   ],
   "source": [
    "# predicting the test dataset\n",
    "\n",
    "predicted_probability = model.predict(test_encoded_scaled)"
   ]
  },
  {
   "cell_type": "code",
   "execution_count": 59,
   "metadata": {},
   "outputs": [
    {
     "data": {
      "text/plain": [
       "(104480,)"
      ]
     },
     "execution_count": 59,
     "metadata": {},
     "output_type": "execute_result"
    }
   ],
   "source": [
    "predicted_probability.reshape(-1,).shape"
   ]
  },
  {
   "cell_type": "code",
   "execution_count": 60,
   "metadata": {},
   "outputs": [],
   "source": [
    "### PLEASE CHANGE THIS CODE TO IMPLEMENT YOUR OWN PREDICTIONS\n",
    "\n",
    "# Combine predictions with label column into a dataframe\n",
    "prediction_df = pd.DataFrame({'CustomerID': test_df[['CustomerID']].values[:, 0],\n",
    "                             'predicted_probability': predicted_probability.reshape(-1,)})"
   ]
  },
  {
   "cell_type": "code",
   "execution_count": 61,
   "metadata": {
    "scrolled": true
   },
   "outputs": [
    {
     "name": "stdout",
     "output_type": "stream",
     "text": [
      "(104480, 2)\n"
     ]
    },
    {
     "data": {
      "text/html": [
       "<div>\n",
       "<style scoped>\n",
       "    .dataframe tbody tr th:only-of-type {\n",
       "        vertical-align: middle;\n",
       "    }\n",
       "\n",
       "    .dataframe tbody tr th {\n",
       "        vertical-align: top;\n",
       "    }\n",
       "\n",
       "    .dataframe thead th {\n",
       "        text-align: right;\n",
       "    }\n",
       "</style>\n",
       "<table border=\"1\" class=\"dataframe\">\n",
       "  <thead>\n",
       "    <tr style=\"text-align: right;\">\n",
       "      <th></th>\n",
       "      <th>CustomerID</th>\n",
       "      <th>predicted_probability</th>\n",
       "    </tr>\n",
       "  </thead>\n",
       "  <tbody>\n",
       "    <tr>\n",
       "      <th>0</th>\n",
       "      <td>O1W6BHP6RM</td>\n",
       "      <td>0.470324</td>\n",
       "    </tr>\n",
       "    <tr>\n",
       "      <th>1</th>\n",
       "      <td>LFR4X92X8H</td>\n",
       "      <td>0.210653</td>\n",
       "    </tr>\n",
       "    <tr>\n",
       "      <th>2</th>\n",
       "      <td>QM5GBIYODA</td>\n",
       "      <td>0.719329</td>\n",
       "    </tr>\n",
       "    <tr>\n",
       "      <th>3</th>\n",
       "      <td>D9RXTK2K9F</td>\n",
       "      <td>0.135063</td>\n",
       "    </tr>\n",
       "    <tr>\n",
       "      <th>4</th>\n",
       "      <td>ENTCCHR1LR</td>\n",
       "      <td>0.502694</td>\n",
       "    </tr>\n",
       "    <tr>\n",
       "      <th>5</th>\n",
       "      <td>7A88BB5IO6</td>\n",
       "      <td>0.710880</td>\n",
       "    </tr>\n",
       "    <tr>\n",
       "      <th>6</th>\n",
       "      <td>70OMW9XEWR</td>\n",
       "      <td>0.411677</td>\n",
       "    </tr>\n",
       "    <tr>\n",
       "      <th>7</th>\n",
       "      <td>EL1RMFMPYL</td>\n",
       "      <td>0.662575</td>\n",
       "    </tr>\n",
       "    <tr>\n",
       "      <th>8</th>\n",
       "      <td>4IA2QPT6ZK</td>\n",
       "      <td>0.473894</td>\n",
       "    </tr>\n",
       "    <tr>\n",
       "      <th>9</th>\n",
       "      <td>AEDCWHSJDN</td>\n",
       "      <td>0.502513</td>\n",
       "    </tr>\n",
       "  </tbody>\n",
       "</table>\n",
       "</div>"
      ],
      "text/plain": [
       "   CustomerID  predicted_probability\n",
       "0  O1W6BHP6RM               0.470324\n",
       "1  LFR4X92X8H               0.210653\n",
       "2  QM5GBIYODA               0.719329\n",
       "3  D9RXTK2K9F               0.135063\n",
       "4  ENTCCHR1LR               0.502694\n",
       "5  7A88BB5IO6               0.710880\n",
       "6  70OMW9XEWR               0.411677\n",
       "7  EL1RMFMPYL               0.662575\n",
       "8  4IA2QPT6ZK               0.473894\n",
       "9  AEDCWHSJDN               0.502513"
      ]
     },
     "execution_count": 61,
     "metadata": {},
     "output_type": "execute_result"
    }
   ],
   "source": [
    "### PLEASE CHANGE THIS CODE TO IMPLEMENT YOUR OWN PREDICTIONS\n",
    "\n",
    "# View our 'prediction_df' dataframe as required for submission.\n",
    "# Ensure it should contain 104,480 rows and 2 columns 'CustomerID' and 'predicted_probaility'\n",
    "print(prediction_df.shape)\n",
    "prediction_df.head(10)"
   ]
  },
  {
   "cell_type": "markdown",
   "metadata": {},
   "source": [
    "## Final Tests - **IMPORTANT** - the cells below must be run prior to submission\n",
    "\n",
    "Below are some tests to ensure your submission is in the correct format for autograding. The autograding process accepts a csv `prediction_submission.csv` which we will generate from our `prediction_df` below. Please run the tests below an ensure no assertion errors are thrown."
   ]
  },
  {
   "cell_type": "code",
   "execution_count": 62,
   "metadata": {},
   "outputs": [],
   "source": [
    "# FINAL TEST CELLS - please make sure all of your code is above these test cells\n",
    "\n",
    "# Writing to csv for autograding purposes\n",
    "prediction_df.to_csv(\"prediction_submission.csv\", index=False)\n",
    "submission = pd.read_csv(\"prediction_submission.csv\")\n",
    "\n",
    "assert isinstance(submission, pd.DataFrame), 'You should have a dataframe named prediction_df.'"
   ]
  },
  {
   "cell_type": "code",
   "execution_count": 63,
   "metadata": {},
   "outputs": [],
   "source": [
    "# FINAL TEST CELLS - please make sure all of your code is above these test cells\n",
    "\n",
    "assert submission.columns[0] == 'CustomerID', 'The first column name should be CustomerID.'\n",
    "assert submission.columns[1] == 'predicted_probability', 'The second column name should be predicted_probability.'"
   ]
  },
  {
   "cell_type": "code",
   "execution_count": 64,
   "metadata": {},
   "outputs": [],
   "source": [
    "# FINAL TEST CELLS - please make sure all of your code is above these test cells\n",
    "\n",
    "assert submission.shape[0] == 104480, 'The dataframe prediction_df should have 104480 rows.'"
   ]
  },
  {
   "cell_type": "code",
   "execution_count": 65,
   "metadata": {},
   "outputs": [],
   "source": [
    "# FINAL TEST CELLS - please make sure all of your code is above these test cells\n",
    "\n",
    "assert submission.shape[1] == 2, 'The dataframe prediction_df should have 2 columns.'"
   ]
  },
  {
   "cell_type": "code",
   "execution_count": 66,
   "metadata": {},
   "outputs": [],
   "source": [
    "# FINAL TEST CELLS - please make sure all of your code is above these test cells\n",
    "\n",
    "## This cell calculates the auc score and is hidden. Submit Assignment to see AUC score."
   ]
  },
  {
   "cell_type": "markdown",
   "metadata": {},
   "source": [
    "## SUBMIT YOUR WORK!\n",
    "\n",
    "Once we are happy with our `prediction_df` and `prediction_submission.csv` we can now submit for autograding! Submit by using the blue **Submit Assignment** at the top of your notebook. Don't worry if your initial submission isn't perfect as you have multiple submission attempts and will obtain some feedback after each submission!"
   ]
  },
  {
   "cell_type": "code",
   "execution_count": null,
   "metadata": {},
   "outputs": [],
   "source": []
  }
 ],
 "metadata": {
  "kernelspec": {
   "display_name": "Python 3",
   "language": "python",
   "name": "python3"
  },
  "language_info": {
   "codemirror_mode": {
    "name": "ipython",
    "version": 3
   },
   "file_extension": ".py",
   "mimetype": "text/x-python",
   "name": "python",
   "nbconvert_exporter": "python",
   "pygments_lexer": "ipython3",
   "version": "3.7.6"
  }
 },
 "nbformat": 4,
 "nbformat_minor": 4
}
