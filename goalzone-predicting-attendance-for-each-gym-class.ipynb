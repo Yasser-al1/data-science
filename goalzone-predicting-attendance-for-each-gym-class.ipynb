{
 "cells": [
  {
   "cell_type": "markdown",
   "id": "f8ea4d1f",
   "metadata": {
    "papermill": {
     "duration": 0.009152,
     "end_time": "2023-01-23T03:36:48.512401",
     "exception": false,
     "start_time": "2023-01-23T03:36:48.503249",
     "status": "completed"
    },
    "tags": []
   },
   "source": [
    "## **GoalZone: Predicting Attendance Rate for Each Fitness Class**\n",
    "![gym](https://images.unsplash.com/photo-1540497077202-7c8a3999166f?ixlib=rb-4.0.3&ixid=MnwxMjA3fDB8MHxwaG90by1wYWdlfHx8fGVufDB8fHx8&auto=format&fit=crop&w=2340&q=80)\n",
    "Image: [@Humphrey Muleba](https://unsplash.com/@good_citizen)\n",
    "## Company Background\n",
    "GoalZone is a fitness club chain providing five types of fitness classes in Canada. Finally, the fitness classes schedule is back to normal after the COVID-19 restrictions are lifted. However, they have received many complaints from the customers about having a hard time booking a fitness class.\n",
    "\n",
    "From initial analysis, the program operation team found out that the fitness classes are always fully booked but are having a low attendance rate per class. To improve this situation, they would like to increase the class capacity for customers to sign up if a low attendance rate is predicted.  \n",
    "\n",
    "\n",
    "## Customer Question\n",
    "The operation manager has asked to answer the following:\n",
    "- Can you predict the attendance rate for each fitness class? \n",
    "\n"
   ]
  },
  {
   "cell_type": "markdown",
   "id": "46803282",
   "metadata": {
    "papermill": {
     "duration": 0.008306,
     "end_time": "2023-01-23T03:36:48.529224",
     "exception": false,
     "start_time": "2023-01-23T03:36:48.520918",
     "status": "completed"
    },
    "tags": []
   },
   "source": [
    "## Dataset\n",
    "The dataset contains the attendance information for the class scheduled this year so far. The data comes from DataCamp as a part of their Data Science Certificate Project.\n",
    "\n",
    "| Column Name                     | Criteria                                                                                                                                                                        |\n",
    "|---------------------------------|---------------------------------------------------------------------------------------------------------------------------------------------------------------------------------|\n",
    "| Day of Week                     | Character, the day of the week the class was scheduled, one of values from “Mon” to “Sun”.                                                                                      |\n",
    "| Time                            | Character, the time of the day the class was scheduled, either \"AM\" or \"PM\".                                                                                                        |\n",
    "| Class Category                  | Character, the category of the fitness class, one of “Yoga”, “Aqua”, “Strength”, “HIIT”, or “Cycling”.                                                                          |\n",
    "| Days Before                     | Numeric, number of days the class stayed fully booked, maximum five days.                                                                                                       |\n",
    "| Class Capacity                  | Numeric, maximum number of members can sign up for that class, either 15 or 25.  The class capacity being 26 needs to be updated to 25.                                         |\n",
    "| Attendance                      | Numeric, number of members actually attended the class.                                                                                                                         |\n",
    "| Average Age                     | Numeric, average age of the members signing up for that class.  Remove rows that average age is smaller than 14 because group fitness class are for members aged 14 and order.  |\n",
    "| Number of New Students          | Numeric, number of new students signing up for this class.                                                                                                                      |\n",
    "| Number of Members Over 6 months | Numeric, number of members signing up for the class have been joining the club more than 6 months.                                                                              |                                                                                     |"
   ]
  },
  {
   "cell_type": "markdown",
   "id": "9707e75f",
   "metadata": {
    "papermill": {
     "duration": 0.009616,
     "end_time": "2023-01-23T03:36:48.547611",
     "exception": false,
     "start_time": "2023-01-23T03:36:48.537995",
     "status": "completed"
    },
    "tags": []
   },
   "source": [
    "Let's load the necessary libraries and read the CSV file. Also, let's print the shape and view the first 5 rows of the file."
   ]
  },
  {
   "cell_type": "code",
   "execution_count": 1,
   "id": "dc0647a0",
   "metadata": {
    "execution": {
     "iopub.execute_input": "2023-01-23T03:36:48.568374Z",
     "iopub.status.busy": "2023-01-23T03:36:48.567695Z",
     "iopub.status.idle": "2023-01-23T03:36:49.637528Z",
     "shell.execute_reply": "2023-01-23T03:36:49.636286Z"
    },
    "papermill": {
     "duration": 1.081705,
     "end_time": "2023-01-23T03:36:49.639552",
     "exception": false,
     "start_time": "2023-01-23T03:36:48.557847",
     "status": "completed"
    },
    "tags": []
   },
   "outputs": [
    {
     "name": "stdout",
     "output_type": "stream",
     "text": [
      "\n",
      "The dataset has 765 rows and 9 columns.\n",
      "\n"
     ]
    },
    {
     "data": {
      "text/html": [
       "<div>\n",
       "<style scoped>\n",
       "    .dataframe tbody tr th:only-of-type {\n",
       "        vertical-align: middle;\n",
       "    }\n",
       "\n",
       "    .dataframe tbody tr th {\n",
       "        vertical-align: top;\n",
       "    }\n",
       "\n",
       "    .dataframe thead th {\n",
       "        text-align: right;\n",
       "    }\n",
       "</style>\n",
       "<table border=\"1\" class=\"dataframe\">\n",
       "  <thead>\n",
       "    <tr style=\"text-align: right;\">\n",
       "      <th></th>\n",
       "      <th>day_of_week</th>\n",
       "      <th>time</th>\n",
       "      <th>class_category</th>\n",
       "      <th>class_capacity</th>\n",
       "      <th>days_before</th>\n",
       "      <th>attendance</th>\n",
       "      <th>age</th>\n",
       "      <th>new_students</th>\n",
       "      <th>over_6_month</th>\n",
       "    </tr>\n",
       "  </thead>\n",
       "  <tbody>\n",
       "    <tr>\n",
       "      <th>0</th>\n",
       "      <td>Wed</td>\n",
       "      <td>AM</td>\n",
       "      <td>Yoga</td>\n",
       "      <td>15</td>\n",
       "      <td>1</td>\n",
       "      <td>8</td>\n",
       "      <td>31.1</td>\n",
       "      <td>6</td>\n",
       "      <td>4</td>\n",
       "    </tr>\n",
       "    <tr>\n",
       "      <th>1</th>\n",
       "      <td>Sun</td>\n",
       "      <td>PM</td>\n",
       "      <td>Aqua</td>\n",
       "      <td>15</td>\n",
       "      <td>3</td>\n",
       "      <td>8</td>\n",
       "      <td>27.0</td>\n",
       "      <td>7</td>\n",
       "      <td>8</td>\n",
       "    </tr>\n",
       "    <tr>\n",
       "      <th>2</th>\n",
       "      <td>Mon</td>\n",
       "      <td>AM</td>\n",
       "      <td>Aqua</td>\n",
       "      <td>15</td>\n",
       "      <td>5</td>\n",
       "      <td>10</td>\n",
       "      <td>22.4</td>\n",
       "      <td>8</td>\n",
       "      <td>7</td>\n",
       "    </tr>\n",
       "    <tr>\n",
       "      <th>3</th>\n",
       "      <td>Sun</td>\n",
       "      <td>PM</td>\n",
       "      <td>Strength</td>\n",
       "      <td>25</td>\n",
       "      <td>3</td>\n",
       "      <td>18</td>\n",
       "      <td>23.5</td>\n",
       "      <td>7</td>\n",
       "      <td>9</td>\n",
       "    </tr>\n",
       "    <tr>\n",
       "      <th>4</th>\n",
       "      <td>Mon</td>\n",
       "      <td>AM</td>\n",
       "      <td>Yoga</td>\n",
       "      <td>15</td>\n",
       "      <td>5</td>\n",
       "      <td>10</td>\n",
       "      <td>29.8</td>\n",
       "      <td>5</td>\n",
       "      <td>7</td>\n",
       "    </tr>\n",
       "  </tbody>\n",
       "</table>\n",
       "</div>"
      ],
      "text/plain": [
       "  day_of_week time class_category  class_capacity  days_before  attendance  \\\n",
       "0         Wed   AM           Yoga              15            1           8   \n",
       "1         Sun   PM           Aqua              15            3           8   \n",
       "2         Mon   AM           Aqua              15            5          10   \n",
       "3         Sun   PM       Strength              25            3          18   \n",
       "4         Mon   AM           Yoga              15            5          10   \n",
       "\n",
       "    age  new_students  over_6_month  \n",
       "0  31.1             6             4  \n",
       "1  27.0             7             8  \n",
       "2  22.4             8             7  \n",
       "3  23.5             7             9  \n",
       "4  29.8             5             7  "
      ]
     },
     "execution_count": 1,
     "metadata": {},
     "output_type": "execute_result"
    }
   ],
   "source": [
    "# import all needed libraries\n",
    "\n",
    "import numpy as np\n",
    "import pandas as pd\n",
    "import matplotlib.pyplot as plt\n",
    "import seaborn as sns\n",
    "\n",
    "# read the data\n",
    "\n",
    "df = pd.read_csv(\"/kaggle/input/goalzone-fitness-classes-attendance/fitness_class.csv\")\n",
    "\n",
    "# print the number of rows & columns\n",
    "\n",
    "print(\"\\nThe dataset has {} rows and {} columns.\\n\".format(df.shape[0], df.shape[1]))\n",
    "\n",
    "# view the first few rows\n",
    "\n",
    "df.head()"
   ]
  },
  {
   "cell_type": "markdown",
   "id": "7f3aa8e7",
   "metadata": {
    "papermill": {
     "duration": 0.008322,
     "end_time": "2023-01-23T03:36:49.656707",
     "exception": false,
     "start_time": "2023-01-23T03:36:49.648385",
     "status": "completed"
    },
    "tags": []
   },
   "source": [
    "## Data Validation\n",
    "\n",
    "The dataset contains **765 rows and 9 columns with no missing values**. Furthermore, the dataset requires **two corrections.** After corrections, there are **762 rows and 9 columns with no missing values.**\n",
    "\n",
    "I've taken these steps to validate the dataset:\n",
    "\n",
    "| Column Name                     | Validation Description                                                                                                                                                                        |\n",
    "|---------------------------------|---------------------------------------------------------------------------------------------------------------------------------------------------------------------------------|\n",
    "| Day of Week                     | No change. Values are from “Mon” to “Sun” which matches earlier description.                                                                                      |\n",
    "| Time                            | No change. Values are either \"AM\" or \"PM\" which matches earlier description.                                                                                                        |\n",
    "| Class Category                  | No change. Values are “Yoga”, “Aqua”, “Strength”, “HIIT”, or “Cycling”.                                                                          |\n",
    "| Days Before                     | No change. Values range from 1 to 5.                                                                                                       |\n",
    "| Class Capacity                  | **Corrected.** Values are either 15 or 25.  Class capacity 26 now updated to 25.                                         |\n",
    "| Attendance                      | No change. Number of members actually attended the class.                                                                                                                         |\n",
    "| Average Age                     | **Corrected.** Average age of the members signing up for that class.  Rows with less than an average of 14 were removed.  |\n",
    "| Number of New Students          | No change. Number of new students signing up for this class.                                                                                                                      |\n",
    "| Number of Members Over 6 months | No change. Number of members with more than 6 months membership.                                                                              |                                                                                     |"
   ]
  },
  {
   "cell_type": "markdown",
   "id": "92bea15b",
   "metadata": {
    "papermill": {
     "duration": 0.008101,
     "end_time": "2023-01-23T03:36:49.673130",
     "exception": false,
     "start_time": "2023-01-23T03:36:49.665029",
     "status": "completed"
    },
    "tags": []
   },
   "source": [
    "### Original Dataset"
   ]
  },
  {
   "cell_type": "code",
   "execution_count": 2,
   "id": "58b66ec7",
   "metadata": {
    "execution": {
     "iopub.execute_input": "2023-01-23T03:36:49.691435Z",
     "iopub.status.busy": "2023-01-23T03:36:49.691072Z",
     "iopub.status.idle": "2023-01-23T03:36:49.715878Z",
     "shell.execute_reply": "2023-01-23T03:36:49.714296Z"
    },
    "id": "bA5ajAmk7XH6",
    "papermill": {
     "duration": 0.036894,
     "end_time": "2023-01-23T03:36:49.718396",
     "exception": false,
     "start_time": "2023-01-23T03:36:49.681502",
     "status": "completed"
    },
    "tags": []
   },
   "outputs": [
    {
     "name": "stdout",
     "output_type": "stream",
     "text": [
      "<class 'pandas.core.frame.DataFrame'>\n",
      "RangeIndex: 765 entries, 0 to 764\n",
      "Data columns (total 9 columns):\n",
      " #   Column          Non-Null Count  Dtype  \n",
      "---  ------          --------------  -----  \n",
      " 0   day_of_week     765 non-null    object \n",
      " 1   time            765 non-null    object \n",
      " 2   class_category  765 non-null    object \n",
      " 3   class_capacity  765 non-null    int64  \n",
      " 4   days_before     765 non-null    int64  \n",
      " 5   attendance      765 non-null    int64  \n",
      " 6   age             765 non-null    float64\n",
      " 7   new_students    765 non-null    int64  \n",
      " 8   over_6_month    765 non-null    int64  \n",
      "dtypes: float64(1), int64(5), object(3)\n",
      "memory usage: 53.9+ KB\n"
     ]
    }
   ],
   "source": [
    "# Data Validation\n",
    "# Check all variables in the data against the criteria in the dataset above\n",
    "\n",
    "df.info()"
   ]
  },
  {
   "cell_type": "markdown",
   "id": "1cef7ba3",
   "metadata": {
    "papermill": {
     "duration": 0.008449,
     "end_time": "2023-01-23T03:36:49.735853",
     "exception": false,
     "start_time": "2023-01-23T03:36:49.727404",
     "status": "completed"
    },
    "tags": []
   },
   "source": [
    "### No Missing Data"
   ]
  },
  {
   "cell_type": "code",
   "execution_count": 3,
   "id": "0ee37035",
   "metadata": {
    "execution": {
     "iopub.execute_input": "2023-01-23T03:36:49.754794Z",
     "iopub.status.busy": "2023-01-23T03:36:49.754483Z",
     "iopub.status.idle": "2023-01-23T03:36:49.763598Z",
     "shell.execute_reply": "2023-01-23T03:36:49.762082Z"
    },
    "papermill": {
     "duration": 0.021407,
     "end_time": "2023-01-23T03:36:49.766100",
     "exception": false,
     "start_time": "2023-01-23T03:36:49.744693",
     "status": "completed"
    },
    "tags": []
   },
   "outputs": [
    {
     "data": {
      "text/plain": [
       "day_of_week       0\n",
       "time              0\n",
       "class_category    0\n",
       "class_capacity    0\n",
       "days_before       0\n",
       "attendance        0\n",
       "age               0\n",
       "new_students      0\n",
       "over_6_month      0\n",
       "dtype: int64"
      ]
     },
     "execution_count": 3,
     "metadata": {},
     "output_type": "execute_result"
    }
   ],
   "source": [
    "# the counts of missing values in each column\n",
    "\n",
    "df.isna().sum()"
   ]
  },
  {
   "cell_type": "markdown",
   "id": "f05fa6cf",
   "metadata": {
    "papermill": {
     "duration": 0.009501,
     "end_time": "2023-01-23T03:36:49.784933",
     "exception": false,
     "start_time": "2023-01-23T03:36:49.775432",
     "status": "completed"
    },
    "tags": []
   },
   "source": [
    "### Unique Values for Categorical Variables & MAX and MIN for Numeric Values"
   ]
  },
  {
   "cell_type": "code",
   "execution_count": 4,
   "id": "cbe749bb",
   "metadata": {
    "execution": {
     "iopub.execute_input": "2023-01-23T03:36:49.804321Z",
     "iopub.status.busy": "2023-01-23T03:36:49.803959Z",
     "iopub.status.idle": "2023-01-23T03:36:49.815415Z",
     "shell.execute_reply": "2023-01-23T03:36:49.814323Z"
    },
    "papermill": {
     "duration": 0.023851,
     "end_time": "2023-01-23T03:36:49.817762",
     "exception": false,
     "start_time": "2023-01-23T03:36:49.793911",
     "status": "completed"
    },
    "tags": []
   },
   "outputs": [
    {
     "name": "stdout",
     "output_type": "stream",
     "text": [
      "\n",
      "Unique categories:\n",
      "\n",
      "day_of_week:  ['Wed', 'Sun', 'Mon', 'Tue', 'Thu', 'Sat', 'Fri']\n",
      "class_category:  ['Yoga', 'Aqua', 'Strength', 'HIIT', 'Cycling']\n",
      "class_capacity:  [15, 25, 26] ## 26 is invalid\n",
      "days_before:  [1, 3, 5, 4, 2]\n",
      "\n",
      "Numeric values:\n",
      "\n",
      "Max & min attendance:  21 & 4\n",
      "Max & min avg. age:  48.8 & 8.3 ## min should be >= 14\n",
      "Max & min new_students:  11 & 1\n",
      "Max & min over_6_month:  13 & 2 \n",
      "\n"
     ]
    }
   ],
   "source": [
    "# datasets columns with their unique and numeric values each\n",
    "\n",
    "print(\"\\nUnique categories:\\n\")\n",
    "print(\"day_of_week: \", df.day_of_week.unique().tolist())\n",
    "print(\"class_category: \", df.class_category.unique().tolist())\n",
    "print(\"class_capacity: \", df.class_capacity.unique().tolist(), \"## 26 is invalid\")\n",
    "print(\"days_before: \", df.days_before.unique().tolist())\n",
    "\n",
    "print(\"\\nNumeric values:\\n\")\n",
    "print(\"Max & min attendance: \", df.attendance.max(), \"&\", df.attendance.min())\n",
    "print(\"Max & min avg. age: \", df.age.max(), \"&\", df.age.min(), \"## min should be >= 14\")\n",
    "print(\"Max & min new_students: \", df.new_students.max(), \"&\", df.new_students.min())\n",
    "print(\"Max & min over_6_month: \", df.over_6_month.max(), \"&\", df.over_6_month.min(), \"\\n\")"
   ]
  },
  {
   "cell_type": "markdown",
   "id": "90695553",
   "metadata": {
    "papermill": {
     "duration": 0.008905,
     "end_time": "2023-01-23T03:36:49.836485",
     "exception": false,
     "start_time": "2023-01-23T03:36:49.827580",
     "status": "completed"
    },
    "tags": []
   },
   "source": [
    "### Correcting the Two Values from Above\n",
    "+ class_capacity 26 changed to 25\n",
    "+ Avg. age values below 14 are dropped"
   ]
  },
  {
   "cell_type": "code",
   "execution_count": 5,
   "id": "b4d63de3",
   "metadata": {
    "execution": {
     "iopub.execute_input": "2023-01-23T03:36:49.856922Z",
     "iopub.status.busy": "2023-01-23T03:36:49.856567Z",
     "iopub.status.idle": "2023-01-23T03:36:49.866822Z",
     "shell.execute_reply": "2023-01-23T03:36:49.865682Z"
    },
    "papermill": {
     "duration": 0.023586,
     "end_time": "2023-01-23T03:36:49.869123",
     "exception": false,
     "start_time": "2023-01-23T03:36:49.845537",
     "status": "completed"
    },
    "tags": []
   },
   "outputs": [
    {
     "name": "stderr",
     "output_type": "stream",
     "text": [
      "/opt/conda/lib/python3.7/site-packages/pandas/core/indexing.py:1732: SettingWithCopyWarning: \n",
      "A value is trying to be set on a copy of a slice from a DataFrame\n",
      "\n",
      "See the caveats in the documentation: https://pandas.pydata.org/pandas-docs/stable/user_guide/indexing.html#returning-a-view-versus-a-copy\n",
      "  self._setitem_single_block(indexer, value, name)\n"
     ]
    }
   ],
   "source": [
    "# correct class_capacity 26 values to 25\n",
    "\n",
    "df['class_capacity'].loc[df['class_capacity'] == 26] = 25"
   ]
  },
  {
   "cell_type": "code",
   "execution_count": 6,
   "id": "210366c5",
   "metadata": {
    "execution": {
     "iopub.execute_input": "2023-01-23T03:36:49.890069Z",
     "iopub.status.busy": "2023-01-23T03:36:49.889324Z",
     "iopub.status.idle": "2023-01-23T03:36:49.905158Z",
     "shell.execute_reply": "2023-01-23T03:36:49.904094Z"
    },
    "papermill": {
     "duration": 0.028234,
     "end_time": "2023-01-23T03:36:49.906969",
     "exception": false,
     "start_time": "2023-01-23T03:36:49.878735",
     "status": "completed"
    },
    "tags": []
   },
   "outputs": [
    {
     "name": "stdout",
     "output_type": "stream",
     "text": [
      "\n",
      "These are the rows with the incorrect age averages: \n",
      "\n"
     ]
    },
    {
     "data": {
      "text/html": [
       "<div>\n",
       "<style scoped>\n",
       "    .dataframe tbody tr th:only-of-type {\n",
       "        vertical-align: middle;\n",
       "    }\n",
       "\n",
       "    .dataframe tbody tr th {\n",
       "        vertical-align: top;\n",
       "    }\n",
       "\n",
       "    .dataframe thead th {\n",
       "        text-align: right;\n",
       "    }\n",
       "</style>\n",
       "<table border=\"1\" class=\"dataframe\">\n",
       "  <thead>\n",
       "    <tr style=\"text-align: right;\">\n",
       "      <th></th>\n",
       "      <th>day_of_week</th>\n",
       "      <th>time</th>\n",
       "      <th>class_category</th>\n",
       "      <th>class_capacity</th>\n",
       "      <th>days_before</th>\n",
       "      <th>attendance</th>\n",
       "      <th>age</th>\n",
       "      <th>new_students</th>\n",
       "      <th>over_6_month</th>\n",
       "    </tr>\n",
       "  </thead>\n",
       "  <tbody>\n",
       "    <tr>\n",
       "      <th>55</th>\n",
       "      <td>Fri</td>\n",
       "      <td>AM</td>\n",
       "      <td>Strength</td>\n",
       "      <td>25</td>\n",
       "      <td>4</td>\n",
       "      <td>21</td>\n",
       "      <td>8.3</td>\n",
       "      <td>7</td>\n",
       "      <td>11</td>\n",
       "    </tr>\n",
       "    <tr>\n",
       "      <th>104</th>\n",
       "      <td>Sat</td>\n",
       "      <td>PM</td>\n",
       "      <td>Yoga</td>\n",
       "      <td>25</td>\n",
       "      <td>1</td>\n",
       "      <td>21</td>\n",
       "      <td>13.6</td>\n",
       "      <td>6</td>\n",
       "      <td>10</td>\n",
       "    </tr>\n",
       "    <tr>\n",
       "      <th>165</th>\n",
       "      <td>Thu</td>\n",
       "      <td>AM</td>\n",
       "      <td>Yoga</td>\n",
       "      <td>25</td>\n",
       "      <td>3</td>\n",
       "      <td>20</td>\n",
       "      <td>11.3</td>\n",
       "      <td>9</td>\n",
       "      <td>11</td>\n",
       "    </tr>\n",
       "  </tbody>\n",
       "</table>\n",
       "</div>"
      ],
      "text/plain": [
       "    day_of_week time class_category  class_capacity  days_before  attendance  \\\n",
       "55          Fri   AM       Strength              25            4          21   \n",
       "104         Sat   PM           Yoga              25            1          21   \n",
       "165         Thu   AM           Yoga              25            3          20   \n",
       "\n",
       "      age  new_students  over_6_month  \n",
       "55    8.3             7            11  \n",
       "104  13.6             6            10  \n",
       "165  11.3             9            11  "
      ]
     },
     "metadata": {},
     "output_type": "display_data"
    }
   ],
   "source": [
    "# drop rows with less than 14 avg. age \n",
    "\n",
    "print(\"\\nThese are the rows with the incorrect age averages: \\n\")\n",
    "\n",
    "display(df.loc[df['age'] < 14])\n",
    "df.drop([55, 104, 165], inplace=True)"
   ]
  },
  {
   "cell_type": "code",
   "execution_count": 7,
   "id": "1e83cf1b",
   "metadata": {
    "execution": {
     "iopub.execute_input": "2023-01-23T03:36:49.927133Z",
     "iopub.status.busy": "2023-01-23T03:36:49.926762Z",
     "iopub.status.idle": "2023-01-23T03:36:49.934377Z",
     "shell.execute_reply": "2023-01-23T03:36:49.933011Z"
    },
    "papermill": {
     "duration": 0.021076,
     "end_time": "2023-01-23T03:36:49.937568",
     "exception": false,
     "start_time": "2023-01-23T03:36:49.916492",
     "status": "completed"
    },
    "tags": []
   },
   "outputs": [
    {
     "name": "stdout",
     "output_type": "stream",
     "text": [
      "\n",
      "class_capacity:  [15, 25]\n",
      "Max & min avg. age:  48.8 & 14.0 \n",
      "\n"
     ]
    }
   ],
   "source": [
    "# the columns with corrected values\n",
    "\n",
    "print(\"\\nclass_capacity: \", df.class_capacity.unique().tolist())\n",
    "print(\"Max & min avg. age: \", df.age.max(), \"&\", df.age.min(), \"\\n\")"
   ]
  },
  {
   "cell_type": "code",
   "execution_count": 8,
   "id": "ea57cbd9",
   "metadata": {
    "execution": {
     "iopub.execute_input": "2023-01-23T03:36:49.960041Z",
     "iopub.status.busy": "2023-01-23T03:36:49.958809Z",
     "iopub.status.idle": "2023-01-23T03:36:49.964620Z",
     "shell.execute_reply": "2023-01-23T03:36:49.963297Z"
    },
    "papermill": {
     "duration": 0.019477,
     "end_time": "2023-01-23T03:36:49.966963",
     "exception": false,
     "start_time": "2023-01-23T03:36:49.947486",
     "status": "completed"
    },
    "tags": []
   },
   "outputs": [
    {
     "name": "stdout",
     "output_type": "stream",
     "text": [
      "\n",
      "The dataset now has 762 rows and 9 columns.\n",
      "\n"
     ]
    }
   ],
   "source": [
    "# print the number of rows & columns after corrections\n",
    "\n",
    "print(\"\\nThe dataset now has {} rows and {} columns.\\n\".format(df.shape[0], df.shape[1]))"
   ]
  },
  {
   "cell_type": "markdown",
   "id": "02619391",
   "metadata": {
    "papermill": {
     "duration": 0.009202,
     "end_time": "2023-01-23T03:36:49.985811",
     "exception": false,
     "start_time": "2023-01-23T03:36:49.976609",
     "status": "completed"
    },
    "tags": []
   },
   "source": [
    "### A Post-correction Data Description"
   ]
  },
  {
   "cell_type": "code",
   "execution_count": 9,
   "id": "37d2e8fc",
   "metadata": {
    "execution": {
     "iopub.execute_input": "2023-01-23T03:36:50.006770Z",
     "iopub.status.busy": "2023-01-23T03:36:50.006433Z",
     "iopub.status.idle": "2023-01-23T03:36:50.039859Z",
     "shell.execute_reply": "2023-01-23T03:36:50.039078Z"
    },
    "papermill": {
     "duration": 0.046763,
     "end_time": "2023-01-23T03:36:50.042078",
     "exception": false,
     "start_time": "2023-01-23T03:36:49.995315",
     "status": "completed"
    },
    "tags": []
   },
   "outputs": [
    {
     "data": {
      "text/html": [
       "<div>\n",
       "<style scoped>\n",
       "    .dataframe tbody tr th:only-of-type {\n",
       "        vertical-align: middle;\n",
       "    }\n",
       "\n",
       "    .dataframe tbody tr th {\n",
       "        vertical-align: top;\n",
       "    }\n",
       "\n",
       "    .dataframe thead th {\n",
       "        text-align: right;\n",
       "    }\n",
       "</style>\n",
       "<table border=\"1\" class=\"dataframe\">\n",
       "  <thead>\n",
       "    <tr style=\"text-align: right;\">\n",
       "      <th></th>\n",
       "      <th>day_of_week</th>\n",
       "      <th>time</th>\n",
       "      <th>class_category</th>\n",
       "      <th>class_capacity</th>\n",
       "      <th>days_before</th>\n",
       "      <th>attendance</th>\n",
       "      <th>age</th>\n",
       "      <th>new_students</th>\n",
       "      <th>over_6_month</th>\n",
       "    </tr>\n",
       "  </thead>\n",
       "  <tbody>\n",
       "    <tr>\n",
       "      <th>count</th>\n",
       "      <td>762</td>\n",
       "      <td>762</td>\n",
       "      <td>762</td>\n",
       "      <td>762.0</td>\n",
       "      <td>762.0</td>\n",
       "      <td>762.0</td>\n",
       "      <td>762.0</td>\n",
       "      <td>762.0</td>\n",
       "      <td>762.0</td>\n",
       "    </tr>\n",
       "    <tr>\n",
       "      <th>unique</th>\n",
       "      <td>7</td>\n",
       "      <td>2</td>\n",
       "      <td>5</td>\n",
       "      <td></td>\n",
       "      <td></td>\n",
       "      <td></td>\n",
       "      <td></td>\n",
       "      <td></td>\n",
       "      <td></td>\n",
       "    </tr>\n",
       "    <tr>\n",
       "      <th>top</th>\n",
       "      <td>Thu</td>\n",
       "      <td>PM</td>\n",
       "      <td>Yoga</td>\n",
       "      <td></td>\n",
       "      <td></td>\n",
       "      <td></td>\n",
       "      <td></td>\n",
       "      <td></td>\n",
       "      <td></td>\n",
       "    </tr>\n",
       "    <tr>\n",
       "      <th>freq</th>\n",
       "      <td>126</td>\n",
       "      <td>395</td>\n",
       "      <td>173</td>\n",
       "      <td></td>\n",
       "      <td></td>\n",
       "      <td></td>\n",
       "      <td></td>\n",
       "      <td></td>\n",
       "      <td></td>\n",
       "    </tr>\n",
       "    <tr>\n",
       "      <th>mean</th>\n",
       "      <td></td>\n",
       "      <td></td>\n",
       "      <td></td>\n",
       "      <td>17.506562</td>\n",
       "      <td>2.547244</td>\n",
       "      <td>9.519685</td>\n",
       "      <td>29.163648</td>\n",
       "      <td>5.912073</td>\n",
       "      <td>7.565617</td>\n",
       "    </tr>\n",
       "    <tr>\n",
       "      <th>std</th>\n",
       "      <td></td>\n",
       "      <td></td>\n",
       "      <td></td>\n",
       "      <td>4.336755</td>\n",
       "      <td>1.355768</td>\n",
       "      <td>3.841164</td>\n",
       "      <td>5.812547</td>\n",
       "      <td>1.788821</td>\n",
       "      <td>1.968617</td>\n",
       "    </tr>\n",
       "    <tr>\n",
       "      <th>min</th>\n",
       "      <td></td>\n",
       "      <td></td>\n",
       "      <td></td>\n",
       "      <td>15.0</td>\n",
       "      <td>1.0</td>\n",
       "      <td>4.0</td>\n",
       "      <td>14.0</td>\n",
       "      <td>1.0</td>\n",
       "      <td>2.0</td>\n",
       "    </tr>\n",
       "    <tr>\n",
       "      <th>25%</th>\n",
       "      <td></td>\n",
       "      <td></td>\n",
       "      <td></td>\n",
       "      <td>15.0</td>\n",
       "      <td>1.0</td>\n",
       "      <td>7.0</td>\n",
       "      <td>25.3</td>\n",
       "      <td>5.0</td>\n",
       "      <td>6.0</td>\n",
       "    </tr>\n",
       "    <tr>\n",
       "      <th>50%</th>\n",
       "      <td></td>\n",
       "      <td></td>\n",
       "      <td></td>\n",
       "      <td>15.0</td>\n",
       "      <td>2.0</td>\n",
       "      <td>9.0</td>\n",
       "      <td>29.0</td>\n",
       "      <td>6.0</td>\n",
       "      <td>8.0</td>\n",
       "    </tr>\n",
       "    <tr>\n",
       "      <th>75%</th>\n",
       "      <td></td>\n",
       "      <td></td>\n",
       "      <td></td>\n",
       "      <td>22.5</td>\n",
       "      <td>4.0</td>\n",
       "      <td>11.0</td>\n",
       "      <td>33.2</td>\n",
       "      <td>7.0</td>\n",
       "      <td>9.0</td>\n",
       "    </tr>\n",
       "    <tr>\n",
       "      <th>max</th>\n",
       "      <td></td>\n",
       "      <td></td>\n",
       "      <td></td>\n",
       "      <td>25.0</td>\n",
       "      <td>5.0</td>\n",
       "      <td>21.0</td>\n",
       "      <td>48.8</td>\n",
       "      <td>11.0</td>\n",
       "      <td>13.0</td>\n",
       "    </tr>\n",
       "  </tbody>\n",
       "</table>\n",
       "</div>"
      ],
      "text/plain": [
       "       day_of_week time class_category class_capacity days_before attendance  \\\n",
       "count          762  762            762          762.0       762.0      762.0   \n",
       "unique           7    2              5                                         \n",
       "top            Thu   PM           Yoga                                         \n",
       "freq           126  395            173                                         \n",
       "mean                                        17.506562    2.547244   9.519685   \n",
       "std                                          4.336755    1.355768   3.841164   \n",
       "min                                              15.0         1.0        4.0   \n",
       "25%                                              15.0         1.0        7.0   \n",
       "50%                                              15.0         2.0        9.0   \n",
       "75%                                              22.5         4.0       11.0   \n",
       "max                                              25.0         5.0       21.0   \n",
       "\n",
       "              age new_students over_6_month  \n",
       "count       762.0        762.0        762.0  \n",
       "unique                                       \n",
       "top                                          \n",
       "freq                                         \n",
       "mean    29.163648     5.912073     7.565617  \n",
       "std      5.812547     1.788821     1.968617  \n",
       "min          14.0          1.0          2.0  \n",
       "25%          25.3          5.0          6.0  \n",
       "50%          29.0          6.0          8.0  \n",
       "75%          33.2          7.0          9.0  \n",
       "max          48.8         11.0         13.0  "
      ]
     },
     "execution_count": 9,
     "metadata": {},
     "output_type": "execute_result"
    }
   ],
   "source": [
    "# dataframe description post-corrections\n",
    "\n",
    "df.describe(include='all').fillna('')"
   ]
  },
  {
   "cell_type": "markdown",
   "id": "1dd3a1a4",
   "metadata": {
    "papermill": {
     "duration": 0.009884,
     "end_time": "2023-01-23T03:36:50.062169",
     "exception": false,
     "start_time": "2023-01-23T03:36:50.052285",
     "status": "completed"
    },
    "tags": []
   },
   "source": [
    "## Exploratory Data Analysis (EDA)\n",
    "\n",
    "### Here are the insights I learned after the EDA:\n",
    "- **In graph 1**, we see a lot of the classes that are fully booked are one day before they start. We also see that all days have enough counts in the dataset.\n",
    "- **In graph 2**, most of the data come from classes that have capacity of 15. Since there are about 30% classes of size 25, it should not be a major problem for our prediction model.\n",
    "- Attendance is concentrated between 4 & 13 attendees **in graph 3**.\n",
    "- **In graph 4**, we see a lot of the smaller classes that are fully booked last-minute (the day before).\n",
    "- **Graph 5 shows perhaps the most important predictor.** The older the group's average age is, the more absentees a given class will have on average.*\n",
    "- **Graph (6-7)** may indicate that some classes should not be offered all the time. Strenuous classes like HIIT & Cycling have more absentees at night than during the day in bigger classes **(graph 6)**. PM Cycling (again) & AM Aqua have more absentees than their time counterpart classes in smaller classes **(graph 7)**.*\n",
    "\n",
    "*\\*To better model the data and arrive at these insights, I created an absence column that has the number of absentees. This was calculated by subtracting the attendance from the class capacity.*"
   ]
  },
  {
   "cell_type": "code",
   "execution_count": 10,
   "id": "a76b3e53",
   "metadata": {
    "execution": {
     "iopub.execute_input": "2023-01-23T03:36:50.084329Z",
     "iopub.status.busy": "2023-01-23T03:36:50.083453Z",
     "iopub.status.idle": "2023-01-23T03:36:50.096725Z",
     "shell.execute_reply": "2023-01-23T03:36:50.095569Z"
    },
    "papermill": {
     "duration": 0.026481,
     "end_time": "2023-01-23T03:36:50.098715",
     "exception": false,
     "start_time": "2023-01-23T03:36:50.072234",
     "status": "completed"
    },
    "tags": []
   },
   "outputs": [
    {
     "data": {
      "text/html": [
       "<div>\n",
       "<style scoped>\n",
       "    .dataframe tbody tr th:only-of-type {\n",
       "        vertical-align: middle;\n",
       "    }\n",
       "\n",
       "    .dataframe tbody tr th {\n",
       "        vertical-align: top;\n",
       "    }\n",
       "\n",
       "    .dataframe thead th {\n",
       "        text-align: right;\n",
       "    }\n",
       "</style>\n",
       "<table border=\"1\" class=\"dataframe\">\n",
       "  <thead>\n",
       "    <tr style=\"text-align: right;\">\n",
       "      <th></th>\n",
       "      <th>day_of_week</th>\n",
       "      <th>time</th>\n",
       "      <th>class_category</th>\n",
       "      <th>class_capacity</th>\n",
       "      <th>days_before</th>\n",
       "      <th>attendance</th>\n",
       "      <th>age</th>\n",
       "      <th>new_students</th>\n",
       "      <th>over_6_month</th>\n",
       "    </tr>\n",
       "  </thead>\n",
       "  <tbody>\n",
       "    <tr>\n",
       "      <th>0</th>\n",
       "      <td>Wed</td>\n",
       "      <td>AM</td>\n",
       "      <td>Yoga</td>\n",
       "      <td>15</td>\n",
       "      <td>1</td>\n",
       "      <td>8</td>\n",
       "      <td>31.1</td>\n",
       "      <td>6</td>\n",
       "      <td>4</td>\n",
       "    </tr>\n",
       "    <tr>\n",
       "      <th>1</th>\n",
       "      <td>Sun</td>\n",
       "      <td>PM</td>\n",
       "      <td>Aqua</td>\n",
       "      <td>15</td>\n",
       "      <td>3</td>\n",
       "      <td>8</td>\n",
       "      <td>27.0</td>\n",
       "      <td>7</td>\n",
       "      <td>8</td>\n",
       "    </tr>\n",
       "    <tr>\n",
       "      <th>2</th>\n",
       "      <td>Mon</td>\n",
       "      <td>AM</td>\n",
       "      <td>Aqua</td>\n",
       "      <td>15</td>\n",
       "      <td>5</td>\n",
       "      <td>10</td>\n",
       "      <td>22.4</td>\n",
       "      <td>8</td>\n",
       "      <td>7</td>\n",
       "    </tr>\n",
       "    <tr>\n",
       "      <th>3</th>\n",
       "      <td>Sun</td>\n",
       "      <td>PM</td>\n",
       "      <td>Strength</td>\n",
       "      <td>25</td>\n",
       "      <td>3</td>\n",
       "      <td>18</td>\n",
       "      <td>23.5</td>\n",
       "      <td>7</td>\n",
       "      <td>9</td>\n",
       "    </tr>\n",
       "    <tr>\n",
       "      <th>4</th>\n",
       "      <td>Mon</td>\n",
       "      <td>AM</td>\n",
       "      <td>Yoga</td>\n",
       "      <td>15</td>\n",
       "      <td>5</td>\n",
       "      <td>10</td>\n",
       "      <td>29.8</td>\n",
       "      <td>5</td>\n",
       "      <td>7</td>\n",
       "    </tr>\n",
       "  </tbody>\n",
       "</table>\n",
       "</div>"
      ],
      "text/plain": [
       "  day_of_week time class_category  class_capacity  days_before  attendance  \\\n",
       "0         Wed   AM           Yoga              15            1           8   \n",
       "1         Sun   PM           Aqua              15            3           8   \n",
       "2         Mon   AM           Aqua              15            5          10   \n",
       "3         Sun   PM       Strength              25            3          18   \n",
       "4         Mon   AM           Yoga              15            5          10   \n",
       "\n",
       "    age  new_students  over_6_month  \n",
       "0  31.1             6             4  \n",
       "1  27.0             7             8  \n",
       "2  22.4             8             7  \n",
       "3  23.5             7             9  \n",
       "4  29.8             5             7  "
      ]
     },
     "execution_count": 10,
     "metadata": {},
     "output_type": "execute_result"
    }
   ],
   "source": [
    "# the head of the data again\n",
    "\n",
    "df.head()"
   ]
  },
  {
   "cell_type": "markdown",
   "id": "27917233",
   "metadata": {
    "papermill": {
     "duration": 0.009454,
     "end_time": "2023-01-23T03:36:50.117938",
     "exception": false,
     "start_time": "2023-01-23T03:36:50.108484",
     "status": "completed"
    },
    "tags": []
   },
   "source": [
    "### Graph 1: Days Before Classes Start"
   ]
  },
  {
   "cell_type": "code",
   "execution_count": 11,
   "id": "c805d579",
   "metadata": {
    "execution": {
     "iopub.execute_input": "2023-01-23T03:36:50.139681Z",
     "iopub.status.busy": "2023-01-23T03:36:50.138362Z",
     "iopub.status.idle": "2023-01-23T03:36:50.324039Z",
     "shell.execute_reply": "2023-01-23T03:36:50.322992Z"
    },
    "papermill": {
     "duration": 0.198386,
     "end_time": "2023-01-23T03:36:50.325865",
     "exception": false,
     "start_time": "2023-01-23T03:36:50.127479",
     "status": "completed"
    },
    "tags": []
   },
   "outputs": [
    {
     "data": {
      "image/png": "[encoded data removed]",
      "text/plain": [
       "<Figure size 576x288 with 1 Axes>"
      ]
     },
     "metadata": {
      "needs_background": "light"
     },
     "output_type": "display_data"
    }
   ],
   "source": [
    "# Exploratory Analysis\n",
    "# Explore the characteristics of the variables in the data\n",
    "\n",
    "# a bar chart for counts of each day classes stayed full\n",
    "\n",
    "colors = ['#82AAE3', '#82AAE3', '#82AAE3', '#82AAE3', '#205295']\n",
    "\n",
    "df['days_before'].value_counts()\\\n",
    "                 .sort_index(ascending=False)\\\n",
    "                 .plot\\\n",
    "                 .barh(title='Classes at GoalZone stay full one day before the most', \n",
    "                       figsize=(8,4), \n",
    "                       color=colors)\n",
    "\n",
    "sns.despine()\n",
    "plt.xlabel('counts')\n",
    "plt.ylabel('days_before');"
   ]
  },
  {
   "cell_type": "markdown",
   "id": "66634395",
   "metadata": {
    "papermill": {
     "duration": 0.009649,
     "end_time": "2023-01-23T03:36:50.345640",
     "exception": false,
     "start_time": "2023-01-23T03:36:50.335991",
     "status": "completed"
    },
    "tags": []
   },
   "source": [
    "### Graph 2: Classes Size 15 are the Majority"
   ]
  },
  {
   "cell_type": "code",
   "execution_count": 12,
   "id": "854894c9",
   "metadata": {
    "execution": {
     "iopub.execute_input": "2023-01-23T03:36:50.366899Z",
     "iopub.status.busy": "2023-01-23T03:36:50.366547Z",
     "iopub.status.idle": "2023-01-23T03:36:50.498570Z",
     "shell.execute_reply": "2023-01-23T03:36:50.497782Z"
    },
    "papermill": {
     "duration": 0.145351,
     "end_time": "2023-01-23T03:36:50.500721",
     "exception": false,
     "start_time": "2023-01-23T03:36:50.355370",
     "status": "completed"
    },
    "tags": []
   },
   "outputs": [
    {
     "data": {
      "image/png": "[encoded data removed]",
      "text/plain": [
       "<Figure size 576x288 with 1 Axes>"
      ]
     },
     "metadata": {
      "needs_background": "light"
     },
     "output_type": "display_data"
    }
   ],
   "source": [
    "# counts of classes by capacity\n",
    "\n",
    "colors = ['#82AAE3', '#205295']\n",
    "\n",
    "df['class_capacity'].value_counts(ascending=True)\\\n",
    "                    .plot\\\n",
    "                    .barh(title='Most classes at GoalZone are limited to 15 members only', \n",
    "                          figsize=(8,4), \n",
    "                          color=colors)\n",
    "\n",
    "sns.despine()\n",
    "plt.xlabel('counts')\n",
    "plt.ylabel('class_capacity');"
   ]
  },
  {
   "cell_type": "markdown",
   "id": "fec8404c",
   "metadata": {
    "papermill": {
     "duration": 0.009911,
     "end_time": "2023-01-23T03:36:50.523446",
     "exception": false,
     "start_time": "2023-01-23T03:36:50.513535",
     "status": "completed"
    },
    "tags": []
   },
   "source": [
    "### Graph 3: Attendance is Between 4 & 13"
   ]
  },
  {
   "cell_type": "code",
   "execution_count": 13,
   "id": "9b6c7904",
   "metadata": {
    "execution": {
     "iopub.execute_input": "2023-01-23T03:36:50.546840Z",
     "iopub.status.busy": "2023-01-23T03:36:50.545290Z",
     "iopub.status.idle": "2023-01-23T03:36:50.729334Z",
     "shell.execute_reply": "2023-01-23T03:36:50.728431Z"
    },
    "papermill": {
     "duration": 0.197428,
     "end_time": "2023-01-23T03:36:50.731149",
     "exception": false,
     "start_time": "2023-01-23T03:36:50.533721",
     "status": "completed"
    },
    "tags": []
   },
   "outputs": [
    {
     "data": {
      "image/png": "[encoded data removed]",
      "text/plain": [
       "<Figure size 576x288 with 1 Axes>"
      ]
     },
     "metadata": {
      "needs_background": "light"
     },
     "output_type": "display_data"
    }
   ],
   "source": [
    "# a histogram for attendance\n",
    "\n",
    "df['attendance'].sort_values()\\\n",
    "                .plot\\\n",
    "                .hist(title='Attendance is mostly below the 15 or 25 class capacities', \n",
    "                      figsize=(8,4), \n",
    "                      color='#82AAE3', \n",
    "                      bins=9)\n",
    "\n",
    "sns.despine()\n",
    "plt.xlabel('attendance');"
   ]
  },
  {
   "cell_type": "markdown",
   "id": "31001b2e",
   "metadata": {
    "papermill": {
     "duration": 0.010353,
     "end_time": "2023-01-23T03:36:50.752270",
     "exception": false,
     "start_time": "2023-01-23T03:36:50.741917",
     "status": "completed"
    },
    "tags": []
   },
   "source": [
    "### Graph 4: Smaller Classes are Fully Booked One Day Before the Most"
   ]
  },
  {
   "cell_type": "code",
   "execution_count": 14,
   "id": "081f3dbd",
   "metadata": {
    "execution": {
     "iopub.execute_input": "2023-01-23T03:36:50.774841Z",
     "iopub.status.busy": "2023-01-23T03:36:50.774443Z",
     "iopub.status.idle": "2023-01-23T03:36:50.958648Z",
     "shell.execute_reply": "2023-01-23T03:36:50.957174Z"
    },
    "papermill": {
     "duration": 0.198464,
     "end_time": "2023-01-23T03:36:50.961182",
     "exception": false,
     "start_time": "2023-01-23T03:36:50.762718",
     "status": "completed"
    },
    "tags": []
   },
   "outputs": [
    {
     "data": {
      "image/png": "[encoded data removed]",
      "text/plain": [
       "<Figure size 432x288 with 1 Axes>"
      ]
     },
     "metadata": {
      "needs_background": "light"
     },
     "output_type": "display_data"
    }
   ],
   "source": [
    "# a count of each class capacity by days_before\n",
    "\n",
    "sns.countplot(data=df, \n",
    "              x='class_capacity', \n",
    "              hue='days_before', \n",
    "              palette=sns.color_palette(\"Blues\"))\n",
    "\n",
    "plt.title('A lot of the smaller classes become fully booked the day before')\n",
    "sns.despine();"
   ]
  },
  {
   "cell_type": "markdown",
   "id": "a7d1dd51",
   "metadata": {
    "papermill": {
     "duration": 0.010674,
     "end_time": "2023-01-23T03:36:50.982967",
     "exception": false,
     "start_time": "2023-01-23T03:36:50.972293",
     "status": "completed"
    },
    "tags": []
   },
   "source": [
    "### New Column: The Number of Absentees per Class"
   ]
  },
  {
   "cell_type": "code",
   "execution_count": 15,
   "id": "c2a5d0cb",
   "metadata": {
    "execution": {
     "iopub.execute_input": "2023-01-23T03:36:51.006594Z",
     "iopub.status.busy": "2023-01-23T03:36:51.006174Z",
     "iopub.status.idle": "2023-01-23T03:36:51.013369Z",
     "shell.execute_reply": "2023-01-23T03:36:51.012232Z"
    },
    "papermill": {
     "duration": 0.021538,
     "end_time": "2023-01-23T03:36:51.015459",
     "exception": false,
     "start_time": "2023-01-23T03:36:50.993921",
     "status": "completed"
    },
    "tags": []
   },
   "outputs": [],
   "source": [
    "# adding number of absentees into a new df for a clearer plot\n",
    "\n",
    "df2 = df.copy()\n",
    "\n",
    "df2['absence'] = df2['class_capacity'] - df2['attendance']"
   ]
  },
  {
   "cell_type": "markdown",
   "id": "aae39c0c",
   "metadata": {
    "papermill": {
     "duration": 0.011146,
     "end_time": "2023-01-23T03:36:51.037703",
     "exception": false,
     "start_time": "2023-01-23T03:36:51.026557",
     "status": "completed"
    },
    "tags": []
   },
   "source": [
    "### Graph 5: The Older the Class Cohort, the More Absences that Class Will Have"
   ]
  },
  {
   "cell_type": "code",
   "execution_count": 16,
   "id": "a3df3e12",
   "metadata": {
    "execution": {
     "iopub.execute_input": "2023-01-23T03:36:51.062204Z",
     "iopub.status.busy": "2023-01-23T03:36:51.061760Z",
     "iopub.status.idle": "2023-01-23T03:36:51.655703Z",
     "shell.execute_reply": "2023-01-23T03:36:51.654314Z"
    },
    "papermill": {
     "duration": 0.609468,
     "end_time": "2023-01-23T03:36:51.658370",
     "exception": false,
     "start_time": "2023-01-23T03:36:51.048902",
     "status": "completed"
    },
    "tags": []
   },
   "outputs": [
    {
     "data": {
      "image/png": "[encoded data removed]",
      "text/plain": [
       "<Figure size 440.125x360 with 1 Axes>"
      ]
     },
     "metadata": {
      "needs_background": "light"
     },
     "output_type": "display_data"
    }
   ],
   "source": [
    "# a lmplot of avg. age and absentees in each class capacity\n",
    "\n",
    "sns.lmplot(data=df2, \n",
    "           x='absence', \n",
    "           y='age', \n",
    "           hue='class_capacity')\n",
    "\n",
    "plt.ylabel('avg. age')\n",
    "plt.title('The older the avg. age, the more the absentees');"
   ]
  },
  {
   "cell_type": "markdown",
   "id": "dc4f78fa",
   "metadata": {
    "papermill": {
     "duration": 0.012515,
     "end_time": "2023-01-23T03:36:51.682660",
     "exception": false,
     "start_time": "2023-01-23T03:36:51.670145",
     "status": "completed"
    },
    "tags": []
   },
   "source": [
    "### Graph 6: Members attend HIIT & Cycling Classes Noticeably Less at PM Hours in the Bigger Classes"
   ]
  },
  {
   "cell_type": "code",
   "execution_count": 17,
   "id": "487d8208",
   "metadata": {
    "execution": {
     "iopub.execute_input": "2023-01-23T03:36:51.707010Z",
     "iopub.status.busy": "2023-01-23T03:36:51.706668Z",
     "iopub.status.idle": "2023-01-23T03:36:52.110407Z",
     "shell.execute_reply": "2023-01-23T03:36:52.108973Z"
    },
    "papermill": {
     "duration": 0.418206,
     "end_time": "2023-01-23T03:36:52.112549",
     "exception": false,
     "start_time": "2023-01-23T03:36:51.694343",
     "status": "completed"
    },
    "tags": []
   },
   "outputs": [
    {
     "data": {
      "image/png": "[encoded data removed]",
      "text/plain": [
       "<Figure size 411.5x360 with 1 Axes>"
      ]
     },
     "metadata": {
      "needs_background": "light"
     },
     "output_type": "display_data"
    }
   ],
   "source": [
    "# dist. plot for absentees in the bigger classes\n",
    "\n",
    "sns.catplot(data=df2[df2['class_capacity']==25], \n",
    "            x='absence', \n",
    "            y='class_category', \n",
    "            hue='time', \n",
    "            kind=\"violin\", \n",
    "            split=True, \n",
    "            palette=[\"C0\", \"C1\"])\n",
    "\n",
    "plt.title('PM HIIT & Cycling have more absentees \\nthan AM classes (in bigger classes)');"
   ]
  },
  {
   "cell_type": "markdown",
   "id": "2598b603",
   "metadata": {
    "papermill": {
     "duration": 0.011368,
     "end_time": "2023-01-23T03:36:52.135772",
     "exception": false,
     "start_time": "2023-01-23T03:36:52.124404",
     "status": "completed"
    },
    "tags": []
   },
   "source": [
    "### Graph 7: Members attend PM Cycling & AM Aqua Less than their Time Counterparts in Smaller Classes."
   ]
  },
  {
   "cell_type": "code",
   "execution_count": 18,
   "id": "7e1b462b",
   "metadata": {
    "execution": {
     "iopub.execute_input": "2023-01-23T03:36:52.160229Z",
     "iopub.status.busy": "2023-01-23T03:36:52.159893Z",
     "iopub.status.idle": "2023-01-23T03:36:52.587056Z",
     "shell.execute_reply": "2023-01-23T03:36:52.585954Z"
    },
    "papermill": {
     "duration": 0.441986,
     "end_time": "2023-01-23T03:36:52.589210",
     "exception": false,
     "start_time": "2023-01-23T03:36:52.147224",
     "status": "completed"
    },
    "tags": []
   },
   "outputs": [
    {
     "data": {
      "image/png": "[encoded data removed]",
      "text/plain": [
       "<Figure size 411.5x360 with 1 Axes>"
      ]
     },
     "metadata": {
      "needs_background": "light"
     },
     "output_type": "display_data"
    }
   ],
   "source": [
    "# dist. plot for absentees in the smaller classes\n",
    "\n",
    "sns.catplot(data=df2[df2['class_capacity']==15], \n",
    "            x='absence', \n",
    "            y='class_category', \n",
    "            hue='time', \n",
    "            kind=\"violin\", \n",
    "            split=True,\n",
    "            palette=[\"C1\", \"C0\"])\n",
    "\n",
    "plt.title('PM Cycling & AM Aqua have more absentees than their \\ntime counterpart classes (in smaller classes)');"
   ]
  },
  {
   "cell_type": "markdown",
   "id": "da7a1857",
   "metadata": {
    "papermill": {
     "duration": 0.012198,
     "end_time": "2023-01-23T03:36:52.614049",
     "exception": false,
     "start_time": "2023-01-23T03:36:52.601851",
     "status": "completed"
    },
    "tags": []
   },
   "source": [
    "## Model Fitting\n",
    "\n",
    "### My Prediction Models\n",
    "- **Regression Problem:** Predicting the attendance rate for each class is a regression problem in machine learning. \n",
    "- I will use the **LinearRegression** as baseline model for its simplicity. \n",
    "- Then, I will use the **LassoCV** model as a comparison model to see if cross validation and reduction of unnecessary parameters in the model can help produce better model than LinearRegression."
   ]
  },
  {
   "cell_type": "code",
   "execution_count": 19,
   "id": "6546d39f",
   "metadata": {
    "execution": {
     "iopub.execute_input": "2023-01-23T03:36:52.640803Z",
     "iopub.status.busy": "2023-01-23T03:36:52.640449Z",
     "iopub.status.idle": "2023-01-23T03:36:52.664391Z",
     "shell.execute_reply": "2023-01-23T03:36:52.663442Z"
    },
    "papermill": {
     "duration": 0.039879,
     "end_time": "2023-01-23T03:36:52.666574",
     "exception": false,
     "start_time": "2023-01-23T03:36:52.626695",
     "status": "completed"
    },
    "tags": []
   },
   "outputs": [
    {
     "data": {
      "text/html": [
       "<div>\n",
       "<style scoped>\n",
       "    .dataframe tbody tr th:only-of-type {\n",
       "        vertical-align: middle;\n",
       "    }\n",
       "\n",
       "    .dataframe tbody tr th {\n",
       "        vertical-align: top;\n",
       "    }\n",
       "\n",
       "    .dataframe thead th {\n",
       "        text-align: right;\n",
       "    }\n",
       "</style>\n",
       "<table border=\"1\" class=\"dataframe\">\n",
       "  <thead>\n",
       "    <tr style=\"text-align: right;\">\n",
       "      <th></th>\n",
       "      <th>class_capacity</th>\n",
       "      <th>days_before</th>\n",
       "      <th>attendance</th>\n",
       "      <th>age</th>\n",
       "      <th>new_students</th>\n",
       "      <th>over_6_month</th>\n",
       "      <th>day_of_week_Fri</th>\n",
       "      <th>day_of_week_Mon</th>\n",
       "      <th>day_of_week_Sat</th>\n",
       "      <th>day_of_week_Sun</th>\n",
       "      <th>day_of_week_Thu</th>\n",
       "      <th>day_of_week_Tue</th>\n",
       "      <th>day_of_week_Wed</th>\n",
       "      <th>time_AM</th>\n",
       "      <th>time_PM</th>\n",
       "      <th>class_category_Aqua</th>\n",
       "      <th>class_category_Cycling</th>\n",
       "      <th>class_category_HIIT</th>\n",
       "      <th>class_category_Strength</th>\n",
       "      <th>class_category_Yoga</th>\n",
       "    </tr>\n",
       "  </thead>\n",
       "  <tbody>\n",
       "    <tr>\n",
       "      <th>0</th>\n",
       "      <td>15</td>\n",
       "      <td>1</td>\n",
       "      <td>8</td>\n",
       "      <td>31.1</td>\n",
       "      <td>6</td>\n",
       "      <td>4</td>\n",
       "      <td>0</td>\n",
       "      <td>0</td>\n",
       "      <td>0</td>\n",
       "      <td>0</td>\n",
       "      <td>0</td>\n",
       "      <td>0</td>\n",
       "      <td>1</td>\n",
       "      <td>1</td>\n",
       "      <td>0</td>\n",
       "      <td>0</td>\n",
       "      <td>0</td>\n",
       "      <td>0</td>\n",
       "      <td>0</td>\n",
       "      <td>1</td>\n",
       "    </tr>\n",
       "    <tr>\n",
       "      <th>1</th>\n",
       "      <td>15</td>\n",
       "      <td>3</td>\n",
       "      <td>8</td>\n",
       "      <td>27.0</td>\n",
       "      <td>7</td>\n",
       "      <td>8</td>\n",
       "      <td>0</td>\n",
       "      <td>0</td>\n",
       "      <td>0</td>\n",
       "      <td>1</td>\n",
       "      <td>0</td>\n",
       "      <td>0</td>\n",
       "      <td>0</td>\n",
       "      <td>0</td>\n",
       "      <td>1</td>\n",
       "      <td>1</td>\n",
       "      <td>0</td>\n",
       "      <td>0</td>\n",
       "      <td>0</td>\n",
       "      <td>0</td>\n",
       "    </tr>\n",
       "    <tr>\n",
       "      <th>2</th>\n",
       "      <td>15</td>\n",
       "      <td>5</td>\n",
       "      <td>10</td>\n",
       "      <td>22.4</td>\n",
       "      <td>8</td>\n",
       "      <td>7</td>\n",
       "      <td>0</td>\n",
       "      <td>1</td>\n",
       "      <td>0</td>\n",
       "      <td>0</td>\n",
       "      <td>0</td>\n",
       "      <td>0</td>\n",
       "      <td>0</td>\n",
       "      <td>1</td>\n",
       "      <td>0</td>\n",
       "      <td>1</td>\n",
       "      <td>0</td>\n",
       "      <td>0</td>\n",
       "      <td>0</td>\n",
       "      <td>0</td>\n",
       "    </tr>\n",
       "    <tr>\n",
       "      <th>3</th>\n",
       "      <td>25</td>\n",
       "      <td>3</td>\n",
       "      <td>18</td>\n",
       "      <td>23.5</td>\n",
       "      <td>7</td>\n",
       "      <td>9</td>\n",
       "      <td>0</td>\n",
       "      <td>0</td>\n",
       "      <td>0</td>\n",
       "      <td>1</td>\n",
       "      <td>0</td>\n",
       "      <td>0</td>\n",
       "      <td>0</td>\n",
       "      <td>0</td>\n",
       "      <td>1</td>\n",
       "      <td>0</td>\n",
       "      <td>0</td>\n",
       "      <td>0</td>\n",
       "      <td>1</td>\n",
       "      <td>0</td>\n",
       "    </tr>\n",
       "    <tr>\n",
       "      <th>4</th>\n",
       "      <td>15</td>\n",
       "      <td>5</td>\n",
       "      <td>10</td>\n",
       "      <td>29.8</td>\n",
       "      <td>5</td>\n",
       "      <td>7</td>\n",
       "      <td>0</td>\n",
       "      <td>1</td>\n",
       "      <td>0</td>\n",
       "      <td>0</td>\n",
       "      <td>0</td>\n",
       "      <td>0</td>\n",
       "      <td>0</td>\n",
       "      <td>1</td>\n",
       "      <td>0</td>\n",
       "      <td>0</td>\n",
       "      <td>0</td>\n",
       "      <td>0</td>\n",
       "      <td>0</td>\n",
       "      <td>1</td>\n",
       "    </tr>\n",
       "  </tbody>\n",
       "</table>\n",
       "</div>"
      ],
      "text/plain": [
       "   class_capacity  days_before  attendance   age  new_students  over_6_month  \\\n",
       "0              15            1           8  31.1             6             4   \n",
       "1              15            3           8  27.0             7             8   \n",
       "2              15            5          10  22.4             8             7   \n",
       "3              25            3          18  23.5             7             9   \n",
       "4              15            5          10  29.8             5             7   \n",
       "\n",
       "   day_of_week_Fri  day_of_week_Mon  day_of_week_Sat  day_of_week_Sun  \\\n",
       "0                0                0                0                0   \n",
       "1                0                0                0                1   \n",
       "2                0                1                0                0   \n",
       "3                0                0                0                1   \n",
       "4                0                1                0                0   \n",
       "\n",
       "   day_of_week_Thu  day_of_week_Tue  day_of_week_Wed  time_AM  time_PM  \\\n",
       "0                0                0                1        1        0   \n",
       "1                0                0                0        0        1   \n",
       "2                0                0                0        1        0   \n",
       "3                0                0                0        0        1   \n",
       "4                0                0                0        1        0   \n",
       "\n",
       "   class_category_Aqua  class_category_Cycling  class_category_HIIT  \\\n",
       "0                    0                       0                    0   \n",
       "1                    1                       0                    0   \n",
       "2                    1                       0                    0   \n",
       "3                    0                       0                    0   \n",
       "4                    0                       0                    0   \n",
       "\n",
       "   class_category_Strength  class_category_Yoga  \n",
       "0                        0                    1  \n",
       "1                        0                    0  \n",
       "2                        0                    0  \n",
       "3                        1                    0  \n",
       "4                        0                    1  "
      ]
     },
     "execution_count": 19,
     "metadata": {},
     "output_type": "execute_result"
    }
   ],
   "source": [
    "# Model Fitting\n",
    "# LinearRegression, as a baseline model\n",
    "# LassoCV, as a comparison model\n",
    "\n",
    "# create dummy variables for category data\n",
    "data = pd.get_dummies(df)\n",
    "data.head()"
   ]
  },
  {
   "cell_type": "markdown",
   "id": "12d1895c",
   "metadata": {
    "papermill": {
     "duration": 0.01278,
     "end_time": "2023-01-23T03:36:52.692961",
     "exception": false,
     "start_time": "2023-01-23T03:36:52.680181",
     "status": "completed"
    },
    "tags": []
   },
   "source": [
    "### Splitting the Dataset into Train & Test Datasets"
   ]
  },
  {
   "cell_type": "code",
   "execution_count": 20,
   "id": "e0d9b91d",
   "metadata": {
    "execution": {
     "iopub.execute_input": "2023-01-23T03:36:52.720644Z",
     "iopub.status.busy": "2023-01-23T03:36:52.720303Z",
     "iopub.status.idle": "2023-01-23T03:36:52.993764Z",
     "shell.execute_reply": "2023-01-23T03:36:52.992384Z"
    },
    "papermill": {
     "duration": 0.290039,
     "end_time": "2023-01-23T03:36:52.996180",
     "exception": false,
     "start_time": "2023-01-23T03:36:52.706141",
     "status": "completed"
    },
    "tags": []
   },
   "outputs": [],
   "source": [
    "# import needed libraries\n",
    "\n",
    "from sklearn import model_selection\n",
    "from sklearn.linear_model import LinearRegression, LassoCV\n",
    "from sklearn.model_selection import train_test_split\n",
    "\n",
    "# split the data into X & y\n",
    "\n",
    "X = data.drop('attendance', axis=1)\n",
    "y = data['attendance']"
   ]
  },
  {
   "cell_type": "code",
   "execution_count": 21,
   "id": "6226ed5a",
   "metadata": {
    "execution": {
     "iopub.execute_input": "2023-01-23T03:36:53.024367Z",
     "iopub.status.busy": "2023-01-23T03:36:53.023951Z",
     "iopub.status.idle": "2023-01-23T03:36:53.031784Z",
     "shell.execute_reply": "2023-01-23T03:36:53.030713Z"
    },
    "papermill": {
     "duration": 0.024664,
     "end_time": "2023-01-23T03:36:53.033881",
     "exception": false,
     "start_time": "2023-01-23T03:36:53.009217",
     "status": "completed"
    },
    "tags": []
   },
   "outputs": [],
   "source": [
    "# split the data to train and test\n",
    "\n",
    "X_train, X_test, y_train, y_test = train_test_split(X,y,test_size=0.4,random_state=2023)"
   ]
  },
  {
   "cell_type": "markdown",
   "id": "ed33dbe2",
   "metadata": {
    "papermill": {
     "duration": 0.014857,
     "end_time": "2023-01-23T03:36:53.062165",
     "exception": false,
     "start_time": "2023-01-23T03:36:53.047308",
     "status": "completed"
    },
    "tags": []
   },
   "source": [
    "### Method 1: Linear Regression Model"
   ]
  },
  {
   "cell_type": "code",
   "execution_count": 22,
   "id": "4ed94f4c",
   "metadata": {
    "execution": {
     "iopub.execute_input": "2023-01-23T03:36:53.089785Z",
     "iopub.status.busy": "2023-01-23T03:36:53.089452Z",
     "iopub.status.idle": "2023-01-23T03:36:53.110527Z",
     "shell.execute_reply": "2023-01-23T03:36:53.109758Z"
    },
    "papermill": {
     "duration": 0.036755,
     "end_time": "2023-01-23T03:36:53.112462",
     "exception": false,
     "start_time": "2023-01-23T03:36:53.075707",
     "status": "completed"
    },
    "tags": []
   },
   "outputs": [],
   "source": [
    "# train a simple linear regression model\n",
    "\n",
    "linreg = LinearRegression()\n",
    "linreg.fit(X_train, y_train)\n",
    "\n",
    "# predict\n",
    "\n",
    "linreg_y_pred = linreg.predict(X_test)"
   ]
  },
  {
   "cell_type": "markdown",
   "id": "76bc322c",
   "metadata": {
    "papermill": {
     "duration": 0.016677,
     "end_time": "2023-01-23T03:36:53.146101",
     "exception": false,
     "start_time": "2023-01-23T03:36:53.129424",
     "status": "completed"
    },
    "tags": []
   },
   "source": [
    "### Method 2: Lasso Regression with CV Model\n",
    "CV for Cross-validation"
   ]
  },
  {
   "cell_type": "code",
   "execution_count": 23,
   "id": "2ea54be7",
   "metadata": {
    "execution": {
     "iopub.execute_input": "2023-01-23T03:36:53.183021Z",
     "iopub.status.busy": "2023-01-23T03:36:53.182651Z",
     "iopub.status.idle": "2023-01-23T03:36:53.273017Z",
     "shell.execute_reply": "2023-01-23T03:36:53.272261Z"
    },
    "papermill": {
     "duration": 0.111425,
     "end_time": "2023-01-23T03:36:53.275505",
     "exception": false,
     "start_time": "2023-01-23T03:36:53.164080",
     "status": "completed"
    },
    "tags": []
   },
   "outputs": [],
   "source": [
    "# train a lasso model\n",
    "\n",
    "lasso = LassoCV(n_alphas=10, cv=50)\n",
    "lasso.fit(X_train, y_train)\n",
    "\n",
    "# predict\n",
    "\n",
    "lasso_y_pred = lasso.predict(X_test)"
   ]
  },
  {
   "cell_type": "markdown",
   "id": "da173918",
   "metadata": {
    "papermill": {
     "duration": 0.013376,
     "end_time": "2023-01-23T03:36:53.302885",
     "exception": false,
     "start_time": "2023-01-23T03:36:53.289509",
     "status": "completed"
    },
    "tags": []
   },
   "source": [
    "## Model Evaluation\n",
    "\n",
    "### Evaluating My Models\n",
    "- I will use $R^2$ Score as a metric to compare both models. $R^2$ Score is a simple and interpretable metric to evaluate regression models. A $R^2$ score can be between 0 to 1. Close to 1 score shows better fitted model.\n",
    "- **Finding:** Using the $R^2$ Score, the LinearRegression model scored around 70% while the LassoCV model scored around 68%. Here, **the LinearRegression model wins**, but with slight lead over the LassoCV model."
   ]
  },
  {
   "cell_type": "code",
   "execution_count": 24,
   "id": "a7876f43",
   "metadata": {
    "execution": {
     "iopub.execute_input": "2023-01-23T03:36:53.331241Z",
     "iopub.status.busy": "2023-01-23T03:36:53.330641Z",
     "iopub.status.idle": "2023-01-23T03:36:53.337113Z",
     "shell.execute_reply": "2023-01-23T03:36:53.336247Z"
    },
    "papermill": {
     "duration": 0.023628,
     "end_time": "2023-01-23T03:36:53.339944",
     "exception": false,
     "start_time": "2023-01-23T03:36:53.316316",
     "status": "completed"
    },
    "tags": []
   },
   "outputs": [
    {
     "name": "stdout",
     "output_type": "stream",
     "text": [
      "\n",
      "LinearRegression r2 score: 0.6955865783574761\n",
      "\n",
      "LassoCV r2 score: 0.6801214284168913\n"
     ]
    }
   ],
   "source": [
    "# Model Evaluation\n",
    "# R2 score, as a metric\n",
    "\n",
    "# R2 score which lies between 0 to 1. Close to 1 score shows better fitted model\n",
    "\n",
    "from sklearn.metrics import r2_score\n",
    "print('\\nLinearRegression r2 score:', r2_score(linreg_y_pred, y_test))\n",
    "print('\\nLassoCV r2 score:', r2_score(lasso_y_pred, y_test))"
   ]
  }
 ],
 "metadata": {
  "kernelspec": {
   "display_name": "Python 3",
   "language": "python",
   "name": "python3"
  },
  "language_info": {
   "codemirror_mode": {
    "name": "ipython",
    "version": 3
   },
   "file_extension": ".py",
   "mimetype": "text/x-python",
   "name": "python",
   "nbconvert_exporter": "python",
   "pygments_lexer": "ipython3",
   "version": "3.7.12"
  },
  "papermill": {
   "default_parameters": {},
   "duration": 13.127179,
   "end_time": "2023-01-23T03:36:54.074744",
   "environment_variables": {},
   "exception": null,
   "input_path": "__notebook__.ipynb",
   "output_path": "__notebook__.ipynb",
   "parameters": {},
   "start_time": "2023-01-23T03:36:40.947565",
   "version": "2.3.4"
  }
 },
 "nbformat": 4,
 "nbformat_minor": 5
}
