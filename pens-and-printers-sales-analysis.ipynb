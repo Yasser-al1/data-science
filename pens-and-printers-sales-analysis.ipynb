{
 "cells": [
  {
   "cell_type": "markdown",
   "id": "9ce3bd6c",
   "metadata": {
    "papermill": {
     "duration": 0.015687,
     "end_time": "2023-01-23T03:50:33.932558",
     "exception": false,
     "start_time": "2023-01-23T03:50:33.916871",
     "status": "completed"
    },
    "tags": []
   },
   "source": [
    "## Pens and Printers\n",
    "\n",
    "[View Presentation (Google Slides!)](https://docs.google.com/presentation/d/1FthxYKQMJB2BYptiNpbxlLA-hMUNILIXgruMdhKVfnQ/edit?usp=sharing)\n",
    "\n",
    "![office supplies image](https://images.unsplash.com/photo-1456735190827-d1262f71b8a3?ixlib=rb-4.0.3&ixid=MnwxMjA3fDB8MHxwaG90by1wYWdlfHx8fGVufDB8fHx8&auto=format&fit=crop&w=2048&q=80)\n",
    "[Image: @Tim Gouw](https://unsplash.com/@punttim)"
   ]
  },
  {
   "cell_type": "markdown",
   "id": "6b76b33b",
   "metadata": {
    "papermill": {
     "duration": 0.014862,
     "end_time": "2023-01-23T03:50:33.961303",
     "exception": false,
     "start_time": "2023-01-23T03:50:33.946441",
     "status": "completed"
    },
    "tags": []
   },
   "source": [
    "## Executive Summary:\n",
    "### Data Validation:\n",
    "The data file has **15,000 rows and 8 columns** (numeric and categorical data). Here are the cleaning steps I took for every column in the data:"
   ]
  },
  {
   "cell_type": "markdown",
   "id": "bf14ac41",
   "metadata": {
    "papermill": {
     "duration": 0.013025,
     "end_time": "2023-01-23T03:50:33.987639",
     "exception": false,
     "start_time": "2023-01-23T03:50:33.974614",
     "status": "completed"
    },
    "tags": []
   },
   "source": [
    "| Column Name                     | Details                                                                                                                                                                        |\n",
    "|---------------------------------|---------------------------------------------------------------------------------------------------------------------------------------------------------------------------------|\n",
    "| **week**          | No change.|\n",
    "| **sales_method**  |  **Corrected.** Misspelling such as `em + call` & `email` corrected to `Email + Call` & `Email`.|\n",
    "| **customer_id**   | No change.|\n",
    "| **nb_sold**       | No change.|\n",
    "| **revenue**       |  **Corrected.** Rows with missing values were dropped.|\n",
    "| **years_as_customer**   | No change.|\n",
    "| **nb_site_visits**      | No change.|\n",
    "| **state**               | No change.|\n"
   ]
  },
  {
   "cell_type": "markdown",
   "id": "7c76bcf3",
   "metadata": {
    "papermill": {
     "duration": 0.012636,
     "end_time": "2023-01-23T03:50:34.013264",
     "exception": false,
     "start_time": "2023-01-23T03:50:34.000628",
     "status": "completed"
    },
    "tags": []
   },
   "source": [
    "After dropping the missing values from the revenue column, **there are 13,926 rows left.**"
   ]
  },
  {
   "cell_type": "markdown",
   "id": "da6927f2",
   "metadata": {
    "papermill": {
     "duration": 0.013898,
     "end_time": "2023-01-23T03:50:34.039870",
     "exception": false,
     "start_time": "2023-01-23T03:50:34.025972",
     "status": "completed"
    },
    "tags": []
   },
   "source": [
    "### Q1: How many customers were there for each approach?\n",
    "\n",
    "+ **Total:** 13,926 (15,000 with null values)\n",
    "    + **Call:** 4,781 (4,962)\n",
    "    + **Email:** 6,922 (7,466)\n",
    "    + **Email + Call:** 2,223 (2,572)\n",
    "    \n",
    "There were **more sales via email 6,922 (7,466) more than the other methods since it's inexpensive to use.** Moreover, the Call comes in second 4,781 (4,962) while Email + Call is last with 2,223 (2,572) counts (see graph 1).\n",
    "\n",
    "![graph 1](https://drive.google.com/uc?id=1uVMZB5VTTpxBm2Fr4dyH5C98hYZM5g_K)"
   ]
  },
  {
   "cell_type": "markdown",
   "id": "8466dd6f",
   "metadata": {
    "papermill": {
     "duration": 0.013004,
     "end_time": "2023-01-23T03:50:34.065848",
     "exception": false,
     "start_time": "2023-01-23T03:50:34.052844",
     "status": "completed"
    },
    "tags": []
   },
   "source": [
    "### Q2: What does the spread of the revenue look like overall? And for each method?\n",
    "\n",
    "+ Overall, **the spread of the revenue looks non-normal and it's skewed to the right** (see graph 7). It also has five peaks.\n",
    "+ **Call:** It has the **smallest spread and median** among the three methods. Its interquartile range (IQR) is \\$11 (see graph 6).\n",
    "+ **Email:** It has the **second smallest spread and median** among the three methods. Its interquartile range (IQR) is \\$17 (see graph 6).\n",
    "+ **Email + Call:** It has the **largest spread and median** among the three methods. Its interquartile range (IQR) is \\$35 (see graph 6).\n",
    "\n",
    "**Email + Call seems to be the most lucrative sale method.** However, the **Email only method brought in more revenue in total** since it was used more than the other methods. **The Call method is by far the worst preforming method** since it's expensive to implement and has the lowest revenue amounts.\n",
    "\n",
    "![graph 6](https://drive.google.com/uc?id=146PJVN0fRrlDZY5aoKbvhYH4X0ZKhvZI)\n",
    "![graph 7](https://drive.google.com/uc?id=1WVqK0CYqML1sSGlur7VDomvqqbzrA-DC)"
   ]
  },
  {
   "cell_type": "markdown",
   "id": "766c8f3c",
   "metadata": {
    "papermill": {
     "duration": 0.013127,
     "end_time": "2023-01-23T03:50:34.092121",
     "exception": false,
     "start_time": "2023-01-23T03:50:34.078994",
     "status": "completed"
    },
    "tags": []
   },
   "source": [
    "### Q3: Was there any difference in revenue over time for each of the methods?\n",
    "\n",
    "- **Yes. The revenue for method indeed increased over time**; however, the **change varies** among the methods (see graph 11). \n",
    "- **Call has the smallest increase.** It has means (or averages) of 35 in week 1 and 66 in week 6, **a \\$31 increase** (see graph 11).\n",
    "- **Email has the second smallest increased.** It has means of 87 in week 1, and 130 in week 6, **a \\$43 increase** (see graph 11).\n",
    "- **Email + Call has the largest increase.** For instance, its means for week 1 and week 6 are 128 and 227, respectively. **That's an increase of \\$99** (see graph 11).\n",
    "\n",
    "![graph 11](https://drive.google.com/uc?id=1OC1o0Lovs_THImbDsvlJxOwQxWjDvp9c)"
   ]
  },
  {
   "cell_type": "markdown",
   "id": "3a34f025",
   "metadata": {
    "papermill": {
     "duration": 0.013289,
     "end_time": "2023-01-23T03:50:34.118779",
     "exception": false,
     "start_time": "2023-01-23T03:50:34.105490",
     "status": "completed"
    },
    "tags": []
   },
   "source": [
    "### Q4: Based on the data, which method would you recommend we continue to use? Some of these methods take more time from the team so they may not be the best for us to use if the results are similar.\n",
    "\n",
    "**I recommend that the company continues to use the Email + Call method** since it captures the most revenue with the potential to significantly increase over time (see graph 11)."
   ]
  },
  {
   "cell_type": "markdown",
   "id": "1c0ce1b3",
   "metadata": {
    "papermill": {
     "duration": 0.013308,
     "end_time": "2023-01-23T03:50:34.145035",
     "exception": false,
     "start_time": "2023-01-23T03:50:34.131727",
     "status": "completed"
    },
    "tags": []
   },
   "source": [
    "### Business Metrics\n",
    "\n",
    "The company's goal is to earn higher revenue using the best sales method. **I would recommend that the company uses the average revenue amount of their preferred sales method as their metric.** \n",
    "\n",
    "Based on the data, **Email + Call method has the highest sale revenue average (183 dollars).** This is while Email (97 dollars) and Call (47 dollars) have lower average revenue (see graph 11). If their preferred sales method is Email + Call, **the sales team should use its revenue average (183 dollars) as a baseline** for whether a sale was more lucrative (above average) or not (below average). \n",
    "\n",
    "Moreover, the sales team should recognize that sale averages overall and weekly are different since sale averages increase every week (see graph 6 and 11). Importantly, the first weeks could have lower revenue average amount than (\\\\$183), for instance."
   ]
  },
  {
   "cell_type": "markdown",
   "id": "89265583",
   "metadata": {
    "papermill": {
     "duration": 0.013035,
     "end_time": "2023-01-23T03:50:34.171823",
     "exception": false,
     "start_time": "2023-01-23T03:50:34.158788",
     "status": "completed"
    },
    "tags": []
   },
   "source": [
    "### Recommendations\n",
    "\n",
    "- I recommend that the company continues to **use the Email + Call method** since it captures the most revenue with the potential to significantly increase over time (see graph 11).\n",
    "- I would recommend that **the company uses the average revenue amount** of their preferred sales method as their metric to monitor for strong and increasing sale revenues.\n",
    "- Consider **keeping the Email sale method** for its inexpensive implementation.\n",
    "- Consider **stop using the Call method** since it's expensive (30 minutes per customer) while having the lowest revenue amounts.\n",
    "- Improve data collection:\n",
    "    + **Figure out why there are missing values** in the revenue column (1074 missing in the data)"
   ]
  },
  {
   "cell_type": "markdown",
   "id": "8875ba69",
   "metadata": {
    "papermill": {
     "duration": 0.01277,
     "end_time": "2023-01-23T03:50:34.198268",
     "exception": false,
     "start_time": "2023-01-23T03:50:34.185498",
     "status": "completed"
    },
    "tags": []
   },
   "source": [
    "---"
   ]
  },
  {
   "cell_type": "markdown",
   "id": "27a696b3",
   "metadata": {
    "papermill": {
     "duration": 0.013058,
     "end_time": "2023-01-23T03:50:34.224567",
     "exception": false,
     "start_time": "2023-01-23T03:50:34.211509",
     "status": "completed"
    },
    "tags": []
   },
   "source": [
    "## About Pens and Printers\n",
    "Pens and Printers was founded in 1984 and provides high quality office products to large organizations. They are a trusted provider of everything from pens and notebooks to desk chairs and monitors. They don’t produce their own products but sell those made by other companies.\n",
    "\n",
    "They have built long lasting relationships with their customers and they trust them to provide them with the best products for them. As the way in which consumers buy products is changing, their sales tactics have to change too. Launching a new product line is expensive and they need to make sure they are using the best techniques to sell the new product effectively. The best approach may vary for each new product so they need to learn quickly what works and what doesn’t.\n"
   ]
  },
  {
   "cell_type": "markdown",
   "id": "9fe35740",
   "metadata": {
    "papermill": {
     "duration": 0.013813,
     "end_time": "2023-01-23T03:50:34.252390",
     "exception": false,
     "start_time": "2023-01-23T03:50:34.238577",
     "status": "completed"
    },
    "tags": []
   },
   "source": [
    "## New Product Sales Methods\n",
    "Six weeks ago, they launched a new line of office stationery. Despite the world becoming increasingly digital, there is still demand for notebooks, pens and sticky notes.\n",
    "\n",
    "Their focus has been on selling products to enable their customers to be more creative, focused on tools for brainstorming. They have tested three different sales strategies for this, targeted email and phone calls, as well as combining the two.\n",
    "\n",
    "**Email:** Customers in this group received an email when the product line was launched, and a further email three weeks later. This required very little work for the team.\n",
    "\n",
    "**Call:** Customers in this group were called by a member of the sales team. On average members of the team were on the phone for around thirty minutes per customer.\n",
    "\n",
    "**Email and call:** Customers in this group were first sent the product information email, then called a week later by the sales team to talk about their needs and how this new product may support their work. The email required little work from the team, the call was around ten minutes per customer."
   ]
  },
  {
   "cell_type": "markdown",
   "id": "be577765",
   "metadata": {
    "papermill": {
     "duration": 0.012395,
     "end_time": "2023-01-23T03:50:34.277711",
     "exception": false,
     "start_time": "2023-01-23T03:50:34.265316",
     "status": "completed"
    },
    "tags": []
   },
   "source": [
    "## 🎯 Business Questions, Answers & Recommendations \n",
    "The Head of Analytics and the Sales Rep want to know the answers to the following questions:\n",
    "- **How many customers were there for each approach?**\n",
    "\n",
    "    + **Total:** 13,926 (15,000 with null values)\n",
    "        + **Call:** 4,781 (4,962)\n",
    "        + **Email:** 6,922 (7,466)\n",
    "        + **Email + Call:** 2,223 (2,572)\n",
    "        \n",
    "+ **What does the spread of the revenue look like overall? And for each method?**\n",
    "    + Overall, **the spread of the revenue looks non-normal and it's skewed to the right** (see graph 7). It also has five peaks.\n",
    "    + **Call:** It has the **smallest spread and median** among the three methods. Its interquartile range (IQR) is \\$11 (see graph 6).\n",
    "    + **Email:** It has the **second smallest spread and median** among the three methods. Its interquartile range (IQR) is \\$17 (see graph 6).\n",
    "    + **Email + Call:** It has the **largest spread and median** among the three methods. Its interquartile range (IQR) is \\$35 (see graph 6).\n",
    "    \n",
    "- **Was there any difference in revenue over time for each of the methods?**\n",
    "    - **The revenue for method indeed increased over time**; however, the **change varies** among the methods (see graph 11). \n",
    "    - **Call has the smallest increase.** For example, it has means (or averages) of 35 in week 1 and 66 in week 6, a \\$31 increase (see graph 11). \n",
    "    + **Email has the second smallest increased.** It has means of 87 in week 1, and 130 in week 6, a \\$43 increase (see graph 11).\n",
    "    + **Email + Call has the largest increase.** For instance, its means for week 1 and week 6 are 128 and 227, respectively. **That's an increase of \\$99** (see graph 11).\n",
    "    \n",
    "+ **Based on the data, which method would you recommend we continue to use? Some of these methods take more time from the team so they may not be the best for us to use if the results are similar.**\n",
    "    + **I recommend that the company continues to use the Email + Call method** since it captures the most revenue with the potential to significantly increase over time (see graph 11).\n",
    "    \n",
    "    \n",
    "*See relevant graphs above!*"
   ]
  },
  {
   "cell_type": "markdown",
   "id": "80a86438",
   "metadata": {
    "papermill": {
     "duration": 0.013157,
     "end_time": "2023-01-23T03:50:34.303689",
     "exception": false,
     "start_time": "2023-01-23T03:50:34.290532",
     "status": "completed"
    },
    "tags": []
   },
   "source": [
    "## Outline & Code:\n",
    "\n",
    "This report will include written text summaries, graphics, and codes of the following:\n",
    "- **Data validation:**  \n",
    "  - Description of validation and cleaning steps for every column in the data \n",
    "- **Exploratory Analysis:**\n",
    "  - Graphics showing single variables and two or more variables to represent the relationship between features\n",
    "  - Description of findings\n",
    "- **Definition of a metric for the business to monitor**  \n",
    "  - How should the business use the metric to monitor the business problem?\n",
    "  - Estimate initial value(s) for the metric based on the current data\n",
    "- **Final summary including recommendations that the business should undertake**"
   ]
  },
  {
   "cell_type": "markdown",
   "id": "028f5248",
   "metadata": {
    "papermill": {
     "duration": 0.014787,
     "end_time": "2023-01-23T03:50:34.333342",
     "exception": false,
     "start_time": "2023-01-23T03:50:34.318555",
     "status": "completed"
    },
    "tags": []
   },
   "source": [
    "**Data**\n",
    "\n",
    "The sales rep has pulled some data from their sales tracking system for me. They haven’t included numbers for how much time was spent on each customer, but there may be some other useful customer information in here.\n",
    "\n",
    "The data only relates to the new products sold. As there are multiple different products, the revenue will vary depending on which products were sold.\n",
    "\n",
    "The data hasn’t been validated yet, so I'll make sure that to check it against all of the information in the table before I start the analysis. I'll provide a description of each processing and cleaning step.\n",
    "\n",
    "| Column Name                     | Details                                                                                                                                                                        |\n",
    "|---------------------------------|---------------------------------------------------------------------------------------------------------------------------------------------------------------------------------|\n",
    "| **week**          | Week sale was made, counted as weeks since product launch|\n",
    "| **sales_method**  | Character, which of the three sales methods were used for that customer|\n",
    "| **customer_id**   | Character, unique identifier for the customer|\n",
    "| **nb_sold**       | Numeric, number of new products sold|\n",
    "| **revenue**       | Numeric, revenue from the sales, rounded to 2 decimal places|\n",
    "| **years_as_customer**   | Numeric, number of years customer has been buying from us (company founded in 1984)|\n",
    "| **nb_site_visits**      | Numeric, number of times the customer has visited our website in the last 6 months|\n",
    "| **state**               | Character, location of the customer i.e. where orders are shipped|\n"
   ]
  },
  {
   "cell_type": "markdown",
   "id": "f2debbbd",
   "metadata": {
    "papermill": {
     "duration": 0.013251,
     "end_time": "2023-01-23T03:50:34.359356",
     "exception": false,
     "start_time": "2023-01-23T03:50:34.346105",
     "status": "completed"
    },
    "tags": []
   },
   "source": [
    "### Data Validation:\n",
    "The data file has **15,000 rows and 8 columns** (numeric and categorical data). Here are the cleaning steps I took for every column in the data:"
   ]
  },
  {
   "cell_type": "markdown",
   "id": "c2d4a0d4",
   "metadata": {
    "papermill": {
     "duration": 0.013201,
     "end_time": "2023-01-23T03:50:34.385891",
     "exception": false,
     "start_time": "2023-01-23T03:50:34.372690",
     "status": "completed"
    },
    "tags": []
   },
   "source": [
    "| Column Name                     | Details                                                                                                                                                                        |\n",
    "|---------------------------------|---------------------------------------------------------------------------------------------------------------------------------------------------------------------------------|\n",
    "| **week**          | No change.|\n",
    "| **sales_method**  |  **Corrected.** Misspelling such as `em + call` & `email` corrected to `Email + Call` & `Email`.|\n",
    "| **customer_id**   | No change.|\n",
    "| **nb_sold**       | No change.|\n",
    "| **revenue**       |  **Corrected.** Rows with missing values were dropped.|\n",
    "| **years_as_customer**   | No change.|\n",
    "| **nb_site_visits**      | No change.|\n",
    "| **state**               | No change.|\n"
   ]
  },
  {
   "cell_type": "markdown",
   "id": "b25fcfd2",
   "metadata": {
    "papermill": {
     "duration": 0.013242,
     "end_time": "2023-01-23T03:50:34.413048",
     "exception": false,
     "start_time": "2023-01-23T03:50:34.399806",
     "status": "completed"
    },
    "tags": []
   },
   "source": [
    "After dropping the missing values from the revenue column, **there are 13,926 rows left.**"
   ]
  },
  {
   "cell_type": "code",
   "execution_count": 1,
   "id": "1de16701",
   "metadata": {
    "execution": {
     "iopub.execute_input": "2023-01-23T03:50:34.441574Z",
     "iopub.status.busy": "2023-01-23T03:50:34.440673Z",
     "iopub.status.idle": "2023-01-23T03:50:35.628366Z",
     "shell.execute_reply": "2023-01-23T03:50:35.627115Z"
    },
    "executionTime": 3758,
    "lastSuccessfullyExecutedCode": "# import libraries\nimport pandas as pd # for data processing\nimport matplotlib.pyplot as plt # for viz\nimport seaborn as sns # for viz\n\n# import data\nproduct_sales = pd.read_csv('product_sales.csv')\n\n# view the first five rows\nproduct_sales.head()",
    "papermill": {
     "duration": 1.205735,
     "end_time": "2023-01-23T03:50:35.631822",
     "exception": false,
     "start_time": "2023-01-23T03:50:34.426087",
     "status": "completed"
    },
    "tags": []
   },
   "outputs": [
    {
     "data": {
      "text/html": [
       "<div>\n",
       "<style scoped>\n",
       "    .dataframe tbody tr th:only-of-type {\n",
       "        vertical-align: middle;\n",
       "    }\n",
       "\n",
       "    .dataframe tbody tr th {\n",
       "        vertical-align: top;\n",
       "    }\n",
       "\n",
       "    .dataframe thead th {\n",
       "        text-align: right;\n",
       "    }\n",
       "</style>\n",
       "<table border=\"1\" class=\"dataframe\">\n",
       "  <thead>\n",
       "    <tr style=\"text-align: right;\">\n",
       "      <th></th>\n",
       "      <th>week</th>\n",
       "      <th>sales_method</th>\n",
       "      <th>customer_id</th>\n",
       "      <th>nb_sold</th>\n",
       "      <th>revenue</th>\n",
       "      <th>years_as_customer</th>\n",
       "      <th>nb_site_visits</th>\n",
       "      <th>state</th>\n",
       "    </tr>\n",
       "  </thead>\n",
       "  <tbody>\n",
       "    <tr>\n",
       "      <th>0</th>\n",
       "      <td>2</td>\n",
       "      <td>Email</td>\n",
       "      <td>2e72d641-95ac-497b-bbf8-4861764a7097</td>\n",
       "      <td>10</td>\n",
       "      <td>NaN</td>\n",
       "      <td>0</td>\n",
       "      <td>24</td>\n",
       "      <td>Arizona</td>\n",
       "    </tr>\n",
       "    <tr>\n",
       "      <th>1</th>\n",
       "      <td>6</td>\n",
       "      <td>Email + Call</td>\n",
       "      <td>3998a98d-70f5-44f7-942e-789bb8ad2fe7</td>\n",
       "      <td>15</td>\n",
       "      <td>225.47</td>\n",
       "      <td>1</td>\n",
       "      <td>28</td>\n",
       "      <td>Kansas</td>\n",
       "    </tr>\n",
       "    <tr>\n",
       "      <th>2</th>\n",
       "      <td>5</td>\n",
       "      <td>Call</td>\n",
       "      <td>d1de9884-8059-4065-b10f-86eef57e4a44</td>\n",
       "      <td>11</td>\n",
       "      <td>52.55</td>\n",
       "      <td>6</td>\n",
       "      <td>26</td>\n",
       "      <td>Wisconsin</td>\n",
       "    </tr>\n",
       "    <tr>\n",
       "      <th>3</th>\n",
       "      <td>4</td>\n",
       "      <td>Email</td>\n",
       "      <td>78aa75a4-ffeb-4817-b1d0-2f030783c5d7</td>\n",
       "      <td>11</td>\n",
       "      <td>NaN</td>\n",
       "      <td>3</td>\n",
       "      <td>25</td>\n",
       "      <td>Indiana</td>\n",
       "    </tr>\n",
       "    <tr>\n",
       "      <th>4</th>\n",
       "      <td>3</td>\n",
       "      <td>Email</td>\n",
       "      <td>10e6d446-10a5-42e5-8210-1b5438f70922</td>\n",
       "      <td>9</td>\n",
       "      <td>90.49</td>\n",
       "      <td>0</td>\n",
       "      <td>28</td>\n",
       "      <td>Illinois</td>\n",
       "    </tr>\n",
       "  </tbody>\n",
       "</table>\n",
       "</div>"
      ],
      "text/plain": [
       "   week  sales_method                           customer_id  nb_sold  revenue  \\\n",
       "0     2         Email  2e72d641-95ac-497b-bbf8-4861764a7097       10      NaN   \n",
       "1     6  Email + Call  3998a98d-70f5-44f7-942e-789bb8ad2fe7       15   225.47   \n",
       "2     5          Call  d1de9884-8059-4065-b10f-86eef57e4a44       11    52.55   \n",
       "3     4         Email  78aa75a4-ffeb-4817-b1d0-2f030783c5d7       11      NaN   \n",
       "4     3         Email  10e6d446-10a5-42e5-8210-1b5438f70922        9    90.49   \n",
       "\n",
       "   years_as_customer  nb_site_visits      state  \n",
       "0                  0              24    Arizona  \n",
       "1                  1              28     Kansas  \n",
       "2                  6              26  Wisconsin  \n",
       "3                  3              25    Indiana  \n",
       "4                  0              28   Illinois  "
      ]
     },
     "execution_count": 1,
     "metadata": {},
     "output_type": "execute_result"
    }
   ],
   "source": [
    "# import libraries\n",
    "import pandas as pd # for data processing\n",
    "import matplotlib.pyplot as plt # for viz\n",
    "import seaborn as sns # for viz\n",
    "\n",
    "# import data\n",
    "product_sales = pd.read_csv('/kaggle/input/pens-printers-product-sales-datacamp/product_sales.csv')\n",
    "\n",
    "# view the first five rows\n",
    "product_sales.head()"
   ]
  },
  {
   "cell_type": "code",
   "execution_count": 2,
   "id": "e41514ba",
   "metadata": {
    "execution": {
     "iopub.execute_input": "2023-01-23T03:50:35.661104Z",
     "iopub.status.busy": "2023-01-23T03:50:35.660660Z",
     "iopub.status.idle": "2023-01-23T03:50:35.690516Z",
     "shell.execute_reply": "2023-01-23T03:50:35.689252Z"
    },
    "executionTime": 121,
    "lastSuccessfullyExecutedCode": "# a summary of the data\nproduct_sales.info()",
    "papermill": {
     "duration": 0.047759,
     "end_time": "2023-01-23T03:50:35.693379",
     "exception": false,
     "start_time": "2023-01-23T03:50:35.645620",
     "status": "completed"
    },
    "tags": []
   },
   "outputs": [
    {
     "name": "stdout",
     "output_type": "stream",
     "text": [
      "<class 'pandas.core.frame.DataFrame'>\n",
      "RangeIndex: 15000 entries, 0 to 14999\n",
      "Data columns (total 8 columns):\n",
      " #   Column             Non-Null Count  Dtype  \n",
      "---  ------             --------------  -----  \n",
      " 0   week               15000 non-null  int64  \n",
      " 1   sales_method       15000 non-null  object \n",
      " 2   customer_id        15000 non-null  object \n",
      " 3   nb_sold            15000 non-null  int64  \n",
      " 4   revenue            13926 non-null  float64\n",
      " 5   years_as_customer  15000 non-null  int64  \n",
      " 6   nb_site_visits     15000 non-null  int64  \n",
      " 7   state              15000 non-null  object \n",
      "dtypes: float64(1), int64(4), object(3)\n",
      "memory usage: 937.6+ KB\n"
     ]
    }
   ],
   "source": [
    "# a summary of the data\n",
    "product_sales.info()"
   ]
  },
  {
   "cell_type": "markdown",
   "id": "fd782508",
   "metadata": {
    "papermill": {
     "duration": 0.013261,
     "end_time": "2023-01-23T03:50:35.720066",
     "exception": false,
     "start_time": "2023-01-23T03:50:35.706805",
     "status": "completed"
    },
    "tags": []
   },
   "source": [
    "With the above summary, we can see that the **revenue column has 1,074 missing values.**\n",
    "\n",
    "Before dealing with missing values, first, let's check and correct column with str or character type."
   ]
  },
  {
   "cell_type": "code",
   "execution_count": 3,
   "id": "dd971f26",
   "metadata": {
    "execution": {
     "iopub.execute_input": "2023-01-23T03:50:35.749973Z",
     "iopub.status.busy": "2023-01-23T03:50:35.749530Z",
     "iopub.status.idle": "2023-01-23T03:50:35.761656Z",
     "shell.execute_reply": "2023-01-23T03:50:35.759841Z"
    },
    "executionTime": 106,
    "lastSuccessfullyExecutedCode": "# view unique values in sales_method & state\nprint(product_sales.sales_method.unique())\nprint(' ')\nprint(product_sales.state.unique())\nprint(' ')",
    "papermill": {
     "duration": 0.030285,
     "end_time": "2023-01-23T03:50:35.764477",
     "exception": false,
     "start_time": "2023-01-23T03:50:35.734192",
     "status": "completed"
    },
    "tags": []
   },
   "outputs": [
    {
     "name": "stdout",
     "output_type": "stream",
     "text": [
      "['Email' 'Email + Call' 'Call' 'em + call' 'email']\n",
      " \n",
      "['Arizona' 'Kansas' 'Wisconsin' 'Indiana' 'Illinois' 'Mississippi'\n",
      " 'Georgia' 'Oklahoma' 'Massachusetts' 'Missouri' 'Texas' 'New York'\n",
      " 'Maryland' 'California' 'Tennessee' 'Pennsylvania' 'North Dakota'\n",
      " 'Florida' 'Michigan' 'North Carolina' 'Hawaii' 'Colorado' 'Louisiana'\n",
      " 'Virginia' 'New Mexico' 'Arkansas' 'Alaska' 'Oregon' 'New Hampshire'\n",
      " 'Ohio' 'New Jersey' 'Connecticut' 'Iowa' 'Montana' 'Washington'\n",
      " 'Kentucky' 'Alabama' 'Nebraska' 'South Carolina' 'Minnesota'\n",
      " 'South Dakota' 'Delaware' 'Maine' 'Utah' 'West Virginia' 'Vermont'\n",
      " 'Rhode Island' 'Nevada' 'Idaho' 'Wyoming']\n",
      " \n"
     ]
    }
   ],
   "source": [
    "# view unique values in sales_method & state\n",
    "print(product_sales.sales_method.unique())\n",
    "print(' ')\n",
    "print(product_sales.state.unique())\n",
    "print(' ')"
   ]
  },
  {
   "cell_type": "markdown",
   "id": "859b6d91",
   "metadata": {
    "papermill": {
     "duration": 0.013572,
     "end_time": "2023-01-23T03:50:35.791837",
     "exception": false,
     "start_time": "2023-01-23T03:50:35.778265",
     "status": "completed"
    },
    "tags": []
   },
   "source": [
    "There are no misspells in the states columns. However, **the sales_method has two misspells: em + call, email.** It should be Email + Call & Email. Let's fix that!"
   ]
  },
  {
   "cell_type": "code",
   "execution_count": 4,
   "id": "2e8ce062",
   "metadata": {
    "execution": {
     "iopub.execute_input": "2023-01-23T03:50:35.826342Z",
     "iopub.status.busy": "2023-01-23T03:50:35.825254Z",
     "iopub.status.idle": "2023-01-23T03:50:35.841963Z",
     "shell.execute_reply": "2023-01-23T03:50:35.840385Z"
    },
    "executionTime": 0,
    "lastSuccessfullyExecutedCode": "# correct sales_method misspilled values\nproduct_sales.loc[product_sales.sales_method=='em + call', 'sales_method'] = 'Email + Call'\nproduct_sales.loc[product_sales.sales_method=='email', 'sales_method'] = 'Email'",
    "papermill": {
     "duration": 0.041336,
     "end_time": "2023-01-23T03:50:35.846743",
     "exception": false,
     "start_time": "2023-01-23T03:50:35.805407",
     "status": "completed"
    },
    "tags": []
   },
   "outputs": [],
   "source": [
    "# correct sales_method misspilled values\n",
    "product_sales.loc[product_sales.sales_method=='em + call', 'sales_method'] = 'Email + Call'\n",
    "product_sales.loc[product_sales.sales_method=='email', 'sales_method'] = 'Email'"
   ]
  },
  {
   "cell_type": "code",
   "execution_count": 5,
   "id": "e2c47b82",
   "metadata": {
    "execution": {
     "iopub.execute_input": "2023-01-23T03:50:35.885101Z",
     "iopub.status.busy": "2023-01-23T03:50:35.884700Z",
     "iopub.status.idle": "2023-01-23T03:50:35.895258Z",
     "shell.execute_reply": "2023-01-23T03:50:35.893770Z"
    },
    "executionTime": 102,
    "lastSuccessfullyExecutedCode": "# a count of sales_method\nproduct_sales.sales_method.value_counts()",
    "papermill": {
     "duration": 0.035275,
     "end_time": "2023-01-23T03:50:35.897743",
     "exception": false,
     "start_time": "2023-01-23T03:50:35.862468",
     "status": "completed"
    },
    "tags": []
   },
   "outputs": [
    {
     "data": {
      "text/plain": [
       "Email           7466\n",
       "Call            4962\n",
       "Email + Call    2572\n",
       "Name: sales_method, dtype: int64"
      ]
     },
     "execution_count": 5,
     "metadata": {},
     "output_type": "execute_result"
    }
   ],
   "source": [
    "# a count of sales_method\n",
    "product_sales.sales_method.value_counts()"
   ]
  },
  {
   "cell_type": "code",
   "execution_count": 6,
   "id": "cc58fd45",
   "metadata": {
    "execution": {
     "iopub.execute_input": "2023-01-23T03:50:35.932485Z",
     "iopub.status.busy": "2023-01-23T03:50:35.931874Z",
     "iopub.status.idle": "2023-01-23T03:50:35.944603Z",
     "shell.execute_reply": "2023-01-23T03:50:35.943677Z"
    },
    "executionTime": 101,
    "lastSuccessfullyExecutedCode": "# the missing values of each column\nproduct_sales.isna().sum()",
    "papermill": {
     "duration": 0.036462,
     "end_time": "2023-01-23T03:50:35.947781",
     "exception": false,
     "start_time": "2023-01-23T03:50:35.911319",
     "status": "completed"
    },
    "tags": []
   },
   "outputs": [
    {
     "data": {
      "text/plain": [
       "week                    0\n",
       "sales_method            0\n",
       "customer_id             0\n",
       "nb_sold                 0\n",
       "revenue              1074\n",
       "years_as_customer       0\n",
       "nb_site_visits          0\n",
       "state                   0\n",
       "dtype: int64"
      ]
     },
     "execution_count": 6,
     "metadata": {},
     "output_type": "execute_result"
    }
   ],
   "source": [
    "# the missing values of each column\n",
    "product_sales.isna().sum()"
   ]
  },
  {
   "cell_type": "code",
   "execution_count": 7,
   "id": "d89f9bda",
   "metadata": {
    "execution": {
     "iopub.execute_input": "2023-01-23T03:50:35.983678Z",
     "iopub.status.busy": "2023-01-23T03:50:35.982629Z",
     "iopub.status.idle": "2023-01-23T03:50:36.010962Z",
     "shell.execute_reply": "2023-01-23T03:50:36.009565Z"
    },
    "executionTime": 145,
    "lastSuccessfullyExecutedCode": "# find the null values in each sales_method\ncounts_method = product_sales.sales_method.value_counts(dropna=False)\nna_revenue = product_sales.groupby('sales_method')['revenue'].count().reindex(counts_method.index)\n\nna_counts = pd.concat([counts_method, na_revenue], axis=1).assign(NaNs=counts_method-na_revenue)\nna_counts.assign(NaNs_pct=round(na_counts.NaNs/na_counts.sales_method, 2))",
    "papermill": {
     "duration": 0.047908,
     "end_time": "2023-01-23T03:50:36.013953",
     "exception": false,
     "start_time": "2023-01-23T03:50:35.966045",
     "status": "completed"
    },
    "tags": []
   },
   "outputs": [
    {
     "data": {
      "text/html": [
       "<div>\n",
       "<style scoped>\n",
       "    .dataframe tbody tr th:only-of-type {\n",
       "        vertical-align: middle;\n",
       "    }\n",
       "\n",
       "    .dataframe tbody tr th {\n",
       "        vertical-align: top;\n",
       "    }\n",
       "\n",
       "    .dataframe thead th {\n",
       "        text-align: right;\n",
       "    }\n",
       "</style>\n",
       "<table border=\"1\" class=\"dataframe\">\n",
       "  <thead>\n",
       "    <tr style=\"text-align: right;\">\n",
       "      <th></th>\n",
       "      <th>sales_method</th>\n",
       "      <th>revenue</th>\n",
       "      <th>NaNs</th>\n",
       "      <th>NaNs_pct</th>\n",
       "    </tr>\n",
       "  </thead>\n",
       "  <tbody>\n",
       "    <tr>\n",
       "      <th>Email</th>\n",
       "      <td>7466</td>\n",
       "      <td>6922</td>\n",
       "      <td>544</td>\n",
       "      <td>0.07</td>\n",
       "    </tr>\n",
       "    <tr>\n",
       "      <th>Call</th>\n",
       "      <td>4962</td>\n",
       "      <td>4781</td>\n",
       "      <td>181</td>\n",
       "      <td>0.04</td>\n",
       "    </tr>\n",
       "    <tr>\n",
       "      <th>Email + Call</th>\n",
       "      <td>2572</td>\n",
       "      <td>2223</td>\n",
       "      <td>349</td>\n",
       "      <td>0.14</td>\n",
       "    </tr>\n",
       "  </tbody>\n",
       "</table>\n",
       "</div>"
      ],
      "text/plain": [
       "              sales_method  revenue  NaNs  NaNs_pct\n",
       "Email                 7466     6922   544      0.07\n",
       "Call                  4962     4781   181      0.04\n",
       "Email + Call          2572     2223   349      0.14"
      ]
     },
     "execution_count": 7,
     "metadata": {},
     "output_type": "execute_result"
    }
   ],
   "source": [
    "# find the null values in each sales_method\n",
    "counts_method = product_sales.sales_method.value_counts(dropna=False)\n",
    "na_revenue = product_sales.groupby('sales_method')['revenue'].count().reindex(counts_method.index)\n",
    "\n",
    "na_counts = pd.concat([counts_method, na_revenue], axis=1).assign(NaNs=counts_method-na_revenue)\n",
    "na_counts.assign(NaNs_pct=round(na_counts.NaNs/na_counts.sales_method, 2))"
   ]
  },
  {
   "cell_type": "markdown",
   "id": "80b73bbb",
   "metadata": {
    "papermill": {
     "duration": 0.017354,
     "end_time": "2023-01-23T03:50:36.047209",
     "exception": false,
     "start_time": "2023-01-23T03:50:36.029855",
     "status": "completed"
    },
    "tags": []
   },
   "source": [
    "Since sales methods each has **null values in the revenue column less than 15%, I'll simply remove those rows.**"
   ]
  },
  {
   "cell_type": "code",
   "execution_count": 8,
   "id": "1bfc18b4",
   "metadata": {
    "execution": {
     "iopub.execute_input": "2023-01-23T03:50:36.087934Z",
     "iopub.status.busy": "2023-01-23T03:50:36.087054Z",
     "iopub.status.idle": "2023-01-23T03:50:36.103958Z",
     "shell.execute_reply": "2023-01-23T03:50:36.102694Z"
    },
    "executionTime": 0,
    "lastSuccessfullyExecutedCode": "# drop rows with missing values\nproduct_sales = product_sales.dropna()",
    "papermill": {
     "duration": 0.03934,
     "end_time": "2023-01-23T03:50:36.106995",
     "exception": false,
     "start_time": "2023-01-23T03:50:36.067655",
     "status": "completed"
    },
    "tags": []
   },
   "outputs": [],
   "source": [
    "# drop rows with missing values\n",
    "product_sales = product_sales.dropna()"
   ]
  },
  {
   "cell_type": "code",
   "execution_count": 9,
   "id": "ca7af5f4",
   "metadata": {
    "execution": {
     "iopub.execute_input": "2023-01-23T03:50:36.139567Z",
     "iopub.status.busy": "2023-01-23T03:50:36.139058Z",
     "iopub.status.idle": "2023-01-23T03:50:36.207087Z",
     "shell.execute_reply": "2023-01-23T03:50:36.205798Z"
    },
    "executionTime": 200,
    "lastSuccessfullyExecutedCode": "# dataframe description post-corrections\n\nproduct_sales.describe(include='all').fillna('')",
    "papermill": {
     "duration": 0.08724,
     "end_time": "2023-01-23T03:50:36.209862",
     "exception": false,
     "start_time": "2023-01-23T03:50:36.122622",
     "status": "completed"
    },
    "tags": []
   },
   "outputs": [
    {
     "data": {
      "text/html": [
       "<div>\n",
       "<style scoped>\n",
       "    .dataframe tbody tr th:only-of-type {\n",
       "        vertical-align: middle;\n",
       "    }\n",
       "\n",
       "    .dataframe tbody tr th {\n",
       "        vertical-align: top;\n",
       "    }\n",
       "\n",
       "    .dataframe thead th {\n",
       "        text-align: right;\n",
       "    }\n",
       "</style>\n",
       "<table border=\"1\" class=\"dataframe\">\n",
       "  <thead>\n",
       "    <tr style=\"text-align: right;\">\n",
       "      <th></th>\n",
       "      <th>week</th>\n",
       "      <th>sales_method</th>\n",
       "      <th>customer_id</th>\n",
       "      <th>nb_sold</th>\n",
       "      <th>revenue</th>\n",
       "      <th>years_as_customer</th>\n",
       "      <th>nb_site_visits</th>\n",
       "      <th>state</th>\n",
       "    </tr>\n",
       "  </thead>\n",
       "  <tbody>\n",
       "    <tr>\n",
       "      <th>count</th>\n",
       "      <td>13926.0</td>\n",
       "      <td>13926</td>\n",
       "      <td>13926</td>\n",
       "      <td>13926.0</td>\n",
       "      <td>13926.0</td>\n",
       "      <td>13926.0</td>\n",
       "      <td>13926.0</td>\n",
       "      <td>13926</td>\n",
       "    </tr>\n",
       "    <tr>\n",
       "      <th>unique</th>\n",
       "      <td></td>\n",
       "      <td>3</td>\n",
       "      <td>13926</td>\n",
       "      <td></td>\n",
       "      <td></td>\n",
       "      <td></td>\n",
       "      <td></td>\n",
       "      <td>50</td>\n",
       "    </tr>\n",
       "    <tr>\n",
       "      <th>top</th>\n",
       "      <td></td>\n",
       "      <td>Email</td>\n",
       "      <td>3998a98d-70f5-44f7-942e-789bb8ad2fe7</td>\n",
       "      <td></td>\n",
       "      <td></td>\n",
       "      <td></td>\n",
       "      <td></td>\n",
       "      <td>California</td>\n",
       "    </tr>\n",
       "    <tr>\n",
       "      <th>freq</th>\n",
       "      <td></td>\n",
       "      <td>6922</td>\n",
       "      <td>1</td>\n",
       "      <td></td>\n",
       "      <td></td>\n",
       "      <td></td>\n",
       "      <td></td>\n",
       "      <td>1739</td>\n",
       "    </tr>\n",
       "    <tr>\n",
       "      <th>mean</th>\n",
       "      <td>3.078271</td>\n",
       "      <td></td>\n",
       "      <td></td>\n",
       "      <td>10.040069</td>\n",
       "      <td>93.934943</td>\n",
       "      <td>4.97896</td>\n",
       "      <td>24.947006</td>\n",
       "      <td></td>\n",
       "    </tr>\n",
       "    <tr>\n",
       "      <th>std</th>\n",
       "      <td>1.65065</td>\n",
       "      <td></td>\n",
       "      <td></td>\n",
       "      <td>1.78969</td>\n",
       "      <td>47.435312</td>\n",
       "      <td>5.047828</td>\n",
       "      <td>3.491491</td>\n",
       "      <td></td>\n",
       "    </tr>\n",
       "    <tr>\n",
       "      <th>min</th>\n",
       "      <td>1.0</td>\n",
       "      <td></td>\n",
       "      <td></td>\n",
       "      <td>7.0</td>\n",
       "      <td>32.54</td>\n",
       "      <td>0.0</td>\n",
       "      <td>12.0</td>\n",
       "      <td></td>\n",
       "    </tr>\n",
       "    <tr>\n",
       "      <th>25%</th>\n",
       "      <td>1.0</td>\n",
       "      <td></td>\n",
       "      <td></td>\n",
       "      <td>9.0</td>\n",
       "      <td>52.47</td>\n",
       "      <td>1.0</td>\n",
       "      <td>23.0</td>\n",
       "      <td></td>\n",
       "    </tr>\n",
       "    <tr>\n",
       "      <th>50%</th>\n",
       "      <td>3.0</td>\n",
       "      <td></td>\n",
       "      <td></td>\n",
       "      <td>10.0</td>\n",
       "      <td>89.5</td>\n",
       "      <td>3.0</td>\n",
       "      <td>25.0</td>\n",
       "      <td></td>\n",
       "    </tr>\n",
       "    <tr>\n",
       "      <th>75%</th>\n",
       "      <td>4.0</td>\n",
       "      <td></td>\n",
       "      <td></td>\n",
       "      <td>11.0</td>\n",
       "      <td>107.3275</td>\n",
       "      <td>7.0</td>\n",
       "      <td>27.0</td>\n",
       "      <td></td>\n",
       "    </tr>\n",
       "    <tr>\n",
       "      <th>max</th>\n",
       "      <td>6.0</td>\n",
       "      <td></td>\n",
       "      <td></td>\n",
       "      <td>16.0</td>\n",
       "      <td>238.32</td>\n",
       "      <td>63.0</td>\n",
       "      <td>37.0</td>\n",
       "      <td></td>\n",
       "    </tr>\n",
       "  </tbody>\n",
       "</table>\n",
       "</div>"
      ],
      "text/plain": [
       "            week sales_method                           customer_id  \\\n",
       "count    13926.0        13926                                 13926   \n",
       "unique                      3                                 13926   \n",
       "top                     Email  3998a98d-70f5-44f7-942e-789bb8ad2fe7   \n",
       "freq                     6922                                     1   \n",
       "mean    3.078271                                                      \n",
       "std      1.65065                                                      \n",
       "min          1.0                                                      \n",
       "25%          1.0                                                      \n",
       "50%          3.0                                                      \n",
       "75%          4.0                                                      \n",
       "max          6.0                                                      \n",
       "\n",
       "          nb_sold    revenue years_as_customer nb_site_visits       state  \n",
       "count     13926.0    13926.0           13926.0        13926.0       13926  \n",
       "unique                                                                 50  \n",
       "top                                                            California  \n",
       "freq                                                                 1739  \n",
       "mean    10.040069  93.934943           4.97896      24.947006              \n",
       "std       1.78969  47.435312          5.047828       3.491491              \n",
       "min           7.0      32.54               0.0           12.0              \n",
       "25%           9.0      52.47               1.0           23.0              \n",
       "50%          10.0       89.5               3.0           25.0              \n",
       "75%          11.0   107.3275               7.0           27.0              \n",
       "max          16.0     238.32              63.0           37.0              "
      ]
     },
     "execution_count": 9,
     "metadata": {},
     "output_type": "execute_result"
    }
   ],
   "source": [
    "# dataframe description post-corrections\n",
    "product_sales.describe(include='all').fillna('')"
   ]
  },
  {
   "cell_type": "code",
   "execution_count": 10,
   "id": "e9551d46",
   "metadata": {
    "execution": {
     "iopub.execute_input": "2023-01-23T03:50:36.245946Z",
     "iopub.status.busy": "2023-01-23T03:50:36.245410Z",
     "iopub.status.idle": "2023-01-23T03:50:36.257093Z",
     "shell.execute_reply": "2023-01-23T03:50:36.255988Z"
    },
    "papermill": {
     "duration": 0.03501,
     "end_time": "2023-01-23T03:50:36.260828",
     "exception": false,
     "start_time": "2023-01-23T03:50:36.225818",
     "status": "completed"
    },
    "tags": []
   },
   "outputs": [
    {
     "data": {
      "text/plain": [
       "Email           6922\n",
       "Call            4781\n",
       "Email + Call    2223\n",
       "Name: sales_method, dtype: int64"
      ]
     },
     "execution_count": 10,
     "metadata": {},
     "output_type": "execute_result"
    }
   ],
   "source": [
    "# the total observations of each sales method\n",
    "product_sales.sales_method.value_counts()"
   ]
  },
  {
   "cell_type": "markdown",
   "id": "952b7851",
   "metadata": {
    "papermill": {
     "duration": 0.014585,
     "end_time": "2023-01-23T03:50:36.292081",
     "exception": false,
     "start_time": "2023-01-23T03:50:36.277496",
     "status": "completed"
    },
    "tags": []
   },
   "source": [
    "### Exploratory Analysis:\n"
   ]
  },
  {
   "cell_type": "markdown",
   "id": "1c84cb5f",
   "metadata": {
    "papermill": {
     "duration": 0.014134,
     "end_time": "2023-01-23T03:50:36.322840",
     "exception": false,
     "start_time": "2023-01-23T03:50:36.308706",
     "status": "completed"
    },
    "tags": []
   },
   "source": [
    "In graph 1, there are **more data points for Email sales method.**"
   ]
  },
  {
   "cell_type": "code",
   "execution_count": 11,
   "id": "9624001f",
   "metadata": {
    "execution": {
     "iopub.execute_input": "2023-01-23T03:50:36.353835Z",
     "iopub.status.busy": "2023-01-23T03:50:36.352701Z",
     "iopub.status.idle": "2023-01-23T03:50:36.736194Z",
     "shell.execute_reply": "2023-01-23T03:50:36.734880Z"
    },
    "executionTime": 205,
    "lastSuccessfullyExecutedCode": "product_sales.sales_method.value_counts().plot.barh().set_title('Graph 1: Sales Method Counts')\nplt.savefig('Graph 1: Sales Method Counts.png');",
    "papermill": {
     "duration": 0.401645,
     "end_time": "2023-01-23T03:50:36.738847",
     "exception": false,
     "start_time": "2023-01-23T03:50:36.337202",
     "status": "completed"
    },
    "tags": []
   },
   "outputs": [
    {
     "data": {
      "image/png": "[encoded data removed]",
      "text/plain": [
       "<Figure size 432x288 with 1 Axes>"
      ]
     },
     "metadata": {
      "needs_background": "light"
     },
     "output_type": "display_data"
    }
   ],
   "source": [
    "# plot count of sales_method\n",
    "product_sales.sales_method.value_counts().plot.barh().set_title('Graph 1: Sales Method Counts')\n",
    "plt.xlabel('Counts')\n",
    "plt.savefig('Graph_1.png', bbox_inches='tight');"
   ]
  },
  {
   "cell_type": "markdown",
   "id": "87619386",
   "metadata": {
    "papermill": {
     "duration": 0.014425,
     "end_time": "2023-01-23T03:50:36.768297",
     "exception": false,
     "start_time": "2023-01-23T03:50:36.753872",
     "status": "completed"
    },
    "tags": []
   },
   "source": [
    "In graph 2, **most products sold are bought together in groups between 8 and 12 products in each group.** For example, most customers bought around 10 products."
   ]
  },
  {
   "cell_type": "code",
   "execution_count": 12,
   "id": "9c63655c",
   "metadata": {
    "execution": {
     "iopub.execute_input": "2023-01-23T03:50:36.801878Z",
     "iopub.status.busy": "2023-01-23T03:50:36.801199Z",
     "iopub.status.idle": "2023-01-23T03:50:37.050680Z",
     "shell.execute_reply": "2023-01-23T03:50:37.049313Z"
    },
    "executionTime": 257,
    "lastSuccessfullyExecutedCode": "ax = product_sales.nb_sold.plot.hist()\nax.set_title('Graph 2: Frequency of New Porducts Sold')\nax.set_xlabel('New Porducts')\nplt.savefig('Graph 2: Frequency of New Porducts Sold.png');",
    "papermill": {
     "duration": 0.269168,
     "end_time": "2023-01-23T03:50:37.053551",
     "exception": false,
     "start_time": "2023-01-23T03:50:36.784383",
     "status": "completed"
    },
    "tags": []
   },
   "outputs": [
    {
     "data": {
      "image/png": "[encoded data removed]",
      "text/plain": [
       "<Figure size 432x288 with 1 Axes>"
      ]
     },
     "metadata": {
      "needs_background": "light"
     },
     "output_type": "display_data"
    }
   ],
   "source": [
    "# plot frequency of number products sold\n",
    "ax = product_sales.nb_sold.plot.hist()\n",
    "ax.set_title('Graph 2: Frequency of New Porducts Sold')\n",
    "ax.set_xlabel('New Porducts')\n",
    "plt.savefig('Graph 2: Frequency of New Porducts Sold.png');"
   ]
  },
  {
   "cell_type": "markdown",
   "id": "03b4c10f",
   "metadata": {
    "papermill": {
     "duration": 0.014412,
     "end_time": "2023-01-23T03:50:37.082798",
     "exception": false,
     "start_time": "2023-01-23T03:50:37.068386",
     "status": "completed"
    },
    "tags": []
   },
   "source": [
    "**The company is succeeding at attracting new customers.** In graph 3, new customers are mostly new to the company."
   ]
  },
  {
   "cell_type": "code",
   "execution_count": 13,
   "id": "b1e495d0",
   "metadata": {
    "execution": {
     "iopub.execute_input": "2023-01-23T03:50:37.114940Z",
     "iopub.status.busy": "2023-01-23T03:50:37.114207Z",
     "iopub.status.idle": "2023-01-23T03:50:37.573634Z",
     "shell.execute_reply": "2023-01-23T03:50:37.572267Z"
    },
    "executionTime": 948,
    "lastSuccessfullyExecutedCode": "ax = product_sales.years_as_customer.value_counts().plot.bar(figsize=(10,5))\nax.set_title('Graph 3: Most company customers are new customers')\nax.set_xlabel('Years as customers')\nplt.savefig('Graph 3: Most company customers are new customers.png');",
    "papermill": {
     "duration": 0.478597,
     "end_time": "2023-01-23T03:50:37.576144",
     "exception": false,
     "start_time": "2023-01-23T03:50:37.097547",
     "status": "completed"
    },
    "tags": []
   },
   "outputs": [
    {
     "data": {
      "image/png": "[encoded data removed]",
      "text/plain": [
       "<Figure size 720x360 with 1 Axes>"
      ]
     },
     "metadata": {
      "needs_background": "light"
     },
     "output_type": "display_data"
    }
   ],
   "source": [
    "# plot count of years_as_customer\n",
    "ax = product_sales.years_as_customer.value_counts().plot.bar(figsize=(10,5))\n",
    "ax.set_title('Graph 3: Most company customers are new customers')\n",
    "ax.set_xlabel('Years as customers')\n",
    "plt.savefig('Graph 3: Most company customers are new customers.png');"
   ]
  },
  {
   "cell_type": "markdown",
   "id": "50973b44",
   "metadata": {
    "papermill": {
     "duration": 0.014756,
     "end_time": "2023-01-23T03:50:37.606191",
     "exception": false,
     "start_time": "2023-01-23T03:50:37.591435",
     "status": "completed"
    },
    "tags": []
   },
   "source": [
    "In graph 4, the **sales were the highest the first week but the lowest the sixth week.**"
   ]
  },
  {
   "cell_type": "code",
   "execution_count": 14,
   "id": "4310d2e7",
   "metadata": {
    "execution": {
     "iopub.execute_input": "2023-01-23T03:50:37.639367Z",
     "iopub.status.busy": "2023-01-23T03:50:37.638247Z",
     "iopub.status.idle": "2023-01-23T03:50:37.833769Z",
     "shell.execute_reply": "2023-01-23T03:50:37.832867Z"
    },
    "executionTime": 265,
    "lastSuccessfullyExecutedCode": "ax = product_sales.week.value_counts().reindex([1,2,3,4,5,6])[::-1].plot.barh()\nax.set_title('Graph 4: Sales in Weeks since product was launched')\nax.set_ylabel('Weeks')\nplt.savefig('Graph 4: Sales in Weeks since product was launched.png');",
    "papermill": {
     "duration": 0.215011,
     "end_time": "2023-01-23T03:50:37.836306",
     "exception": false,
     "start_time": "2023-01-23T03:50:37.621295",
     "status": "completed"
    },
    "tags": []
   },
   "outputs": [
    {
     "data": {
      "image/png": "[encoded data removed]",
      "text/plain": [
       "<Figure size 432x288 with 1 Axes>"
      ]
     },
     "metadata": {
      "needs_background": "light"
     },
     "output_type": "display_data"
    }
   ],
   "source": [
    "# plot count of weeks since product was launched\n",
    "ax = product_sales.week.value_counts().reindex([1,2,3,4,5,6])[::-1].plot.barh()\n",
    "ax.set_title('Graph 4: Sales in Weeks since product was launched')\n",
    "ax.set_ylabel('Weeks')\n",
    "plt.savefig('Graph 4: Sales in Weeks since product was launched.png');"
   ]
  },
  {
   "cell_type": "markdown",
   "id": "fe0383a2",
   "metadata": {
    "papermill": {
     "duration": 0.015078,
     "end_time": "2023-01-23T03:50:37.866966",
     "exception": false,
     "start_time": "2023-01-23T03:50:37.851888",
     "status": "completed"
    },
    "tags": []
   },
   "source": [
    "In graph 5, **there is a positive correlation between website visits and products sold**. The more visits, the more products sold."
   ]
  },
  {
   "cell_type": "code",
   "execution_count": 15,
   "id": "f7e90df4",
   "metadata": {
    "execution": {
     "iopub.execute_input": "2023-01-23T03:50:37.900221Z",
     "iopub.status.busy": "2023-01-23T03:50:37.899464Z",
     "iopub.status.idle": "2023-01-23T03:50:39.280516Z",
     "shell.execute_reply": "2023-01-23T03:50:39.279253Z"
    },
    "executionTime": 1392,
    "lastSuccessfullyExecutedCode": "ax = sns.lmplot(data=product_sales, x='nb_site_visits', y='nb_sold')\nplt.title('Graph 5: The more website visit, the more products bought by customers')\nplt.savefig('Graph 5: The more website visit, the more products bought by customers.png');",
    "papermill": {
     "duration": 1.400782,
     "end_time": "2023-01-23T03:50:39.283280",
     "exception": false,
     "start_time": "2023-01-23T03:50:37.882498",
     "status": "completed"
    },
    "tags": []
   },
   "outputs": [
    {
     "data": {
      "image/png": "[encoded data removed]",
      "text/plain": [
       "<Figure size 360x360 with 1 Axes>"
      ]
     },
     "metadata": {
      "needs_background": "light"
     },
     "output_type": "display_data"
    }
   ],
   "source": [
    "# plot a scatter plot with regression line for website visits and products sold\n",
    "ax = sns.lmplot(data=product_sales, x='nb_site_visits', y='nb_sold')\n",
    "plt.title('Graph 5: The more website visit, the more products bought by customers')\n",
    "plt.savefig('Graph 5: The more website visit, the more products bought by customers.png');"
   ]
  },
  {
   "cell_type": "markdown",
   "id": "1b94ac18",
   "metadata": {
    "papermill": {
     "duration": 0.017128,
     "end_time": "2023-01-23T03:50:39.318843",
     "exception": false,
     "start_time": "2023-01-23T03:50:39.301715",
     "status": "completed"
    },
    "tags": []
   },
   "source": [
    "Graph 6 has two plot about revenue and sales methods. Each tells a different story. For example, **the Email + Call brings more money on average then the other methods.** It's median was the highest. However, **the Email method overall brought more revenue than the other methods since it was used the most.**"
   ]
  },
  {
   "cell_type": "code",
   "execution_count": 16,
   "id": "6a6f71b1",
   "metadata": {
    "execution": {
     "iopub.execute_input": "2023-01-23T03:50:39.354091Z",
     "iopub.status.busy": "2023-01-23T03:50:39.353682Z",
     "iopub.status.idle": "2023-01-23T03:50:39.721582Z",
     "shell.execute_reply": "2023-01-23T03:50:39.720355Z"
    },
    "executionTime": 601,
    "lastSuccessfullyExecutedCode": "order = ['Email + Call', 'Call', 'Email']\n\nfig, ax = plt.subplots(1, 2, figsize=(10,5))\nsns.boxplot(data=product_sales, x='sales_method', y='revenue', ax=ax[0], order=order)\n\nrevenue_sum = product_sales.groupby('sales_method')['revenue'].sum().to_frame()\nsns.barplot(x=revenue_sum.index, y=revenue_sum.revenue, ax=ax[1], order=order)\n\nfig.suptitle('The sales methods and revenue')\nax[0].set_title('Boxplot')\nax[1].set_title('Sum of revenue')\nax[1].set_ylabel('')\nplt.savefig('The sales methods and revenue.png');",
    "papermill": {
     "duration": 0.388626,
     "end_time": "2023-01-23T03:50:39.724320",
     "exception": false,
     "start_time": "2023-01-23T03:50:39.335694",
     "status": "completed"
    },
    "tags": []
   },
   "outputs": [
    {
     "data": {
      "image/png": "[encoded data removed]",
      "text/plain": [
       "<Figure size 720x360 with 2 Axes>"
      ]
     },
     "metadata": {
      "needs_background": "light"
     },
     "output_type": "display_data"
    }
   ],
   "source": [
    "# plot two plots together (boxplot & count) for revenue and sales_methods\n",
    "order = ['Email + Call', 'Call', 'Email']\n",
    "\n",
    "fig, ax = plt.subplots(1, 2, figsize=(10,5))\n",
    "sns.boxplot(data=product_sales, x='sales_method', y='revenue', ax=ax[0], order=order)\n",
    "\n",
    "revenue_sum = product_sales.groupby('sales_method')['revenue'].sum().to_frame()\n",
    "sns.barplot(x=revenue_sum.index, y=revenue_sum.revenue, ax=ax[1], order=order)\n",
    "\n",
    "fig.suptitle('Graph 6: The sales methods and revenue')\n",
    "ax[0].set_title('Boxplot')\n",
    "ax[1].set_title('Sum of revenue')\n",
    "ax[1].set_ylabel('')\n",
    "plt.savefig('Graph 6: The sales methods and revenue.png');"
   ]
  },
  {
   "cell_type": "code",
   "execution_count": 17,
   "id": "703d850d",
   "metadata": {
    "execution": {
     "iopub.execute_input": "2023-01-23T03:50:39.759676Z",
     "iopub.status.busy": "2023-01-23T03:50:39.759230Z",
     "iopub.status.idle": "2023-01-23T03:50:39.775114Z",
     "shell.execute_reply": "2023-01-23T03:50:39.773699Z"
    },
    "papermill": {
     "duration": 0.03687,
     "end_time": "2023-01-23T03:50:39.777668",
     "exception": false,
     "start_time": "2023-01-23T03:50:39.740798",
     "status": "completed"
    },
    "tags": []
   },
   "outputs": [
    {
     "name": "stdout",
     "output_type": "stream",
     "text": [
      "Call IQR:  11.21\n",
      "Email IQR:  17.290000000000006\n",
      "Email + Call IQR:  35.33500000000001\n"
     ]
    }
   ],
   "source": [
    "# the IQR of each method's revenue\n",
    "from scipy.stats import iqr\n",
    "\n",
    "call = product_sales.loc[product_sales.sales_method=='Call', 'revenue']\n",
    "email = product_sales.loc[product_sales.sales_method=='Email', 'revenue']\n",
    "email_call = product_sales.loc[product_sales.sales_method=='Email + Call', 'revenue']\n",
    "\n",
    "print('Call IQR: ', iqr(call))\n",
    "print('Email IQR: ', iqr(email))\n",
    "print('Email + Call IQR: ', iqr(email_call))"
   ]
  },
  {
   "cell_type": "code",
   "execution_count": 18,
   "id": "0a2049bd",
   "metadata": {
    "execution": {
     "iopub.execute_input": "2023-01-23T03:50:39.813122Z",
     "iopub.status.busy": "2023-01-23T03:50:39.812348Z",
     "iopub.status.idle": "2023-01-23T03:50:39.827242Z",
     "shell.execute_reply": "2023-01-23T03:50:39.826174Z"
    },
    "papermill": {
     "duration": 0.03552,
     "end_time": "2023-01-23T03:50:39.829650",
     "exception": false,
     "start_time": "2023-01-23T03:50:39.794130",
     "status": "completed"
    },
    "tags": []
   },
   "outputs": [
    {
     "data": {
      "text/html": [
       "<div>\n",
       "<style scoped>\n",
       "    .dataframe tbody tr th:only-of-type {\n",
       "        vertical-align: middle;\n",
       "    }\n",
       "\n",
       "    .dataframe tbody tr th {\n",
       "        vertical-align: top;\n",
       "    }\n",
       "\n",
       "    .dataframe thead th {\n",
       "        text-align: right;\n",
       "    }\n",
       "</style>\n",
       "<table border=\"1\" class=\"dataframe\">\n",
       "  <thead>\n",
       "    <tr style=\"text-align: right;\">\n",
       "      <th></th>\n",
       "      <th>week</th>\n",
       "      <th>sales_method</th>\n",
       "      <th>customer_id</th>\n",
       "      <th>nb_sold</th>\n",
       "      <th>revenue</th>\n",
       "      <th>years_as_customer</th>\n",
       "      <th>nb_site_visits</th>\n",
       "      <th>state</th>\n",
       "    </tr>\n",
       "  </thead>\n",
       "  <tbody>\n",
       "    <tr>\n",
       "      <th>1</th>\n",
       "      <td>6</td>\n",
       "      <td>Email + Call</td>\n",
       "      <td>3998a98d-70f5-44f7-942e-789bb8ad2fe7</td>\n",
       "      <td>15</td>\n",
       "      <td>225.47</td>\n",
       "      <td>1</td>\n",
       "      <td>28</td>\n",
       "      <td>Kansas</td>\n",
       "    </tr>\n",
       "    <tr>\n",
       "      <th>2</th>\n",
       "      <td>5</td>\n",
       "      <td>Call</td>\n",
       "      <td>d1de9884-8059-4065-b10f-86eef57e4a44</td>\n",
       "      <td>11</td>\n",
       "      <td>52.55</td>\n",
       "      <td>6</td>\n",
       "      <td>26</td>\n",
       "      <td>Wisconsin</td>\n",
       "    </tr>\n",
       "    <tr>\n",
       "      <th>4</th>\n",
       "      <td>3</td>\n",
       "      <td>Email</td>\n",
       "      <td>10e6d446-10a5-42e5-8210-1b5438f70922</td>\n",
       "      <td>9</td>\n",
       "      <td>90.49</td>\n",
       "      <td>0</td>\n",
       "      <td>28</td>\n",
       "      <td>Illinois</td>\n",
       "    </tr>\n",
       "    <tr>\n",
       "      <th>5</th>\n",
       "      <td>6</td>\n",
       "      <td>Call</td>\n",
       "      <td>6489e678-40f2-4fed-a48e-d0dff9c09205</td>\n",
       "      <td>13</td>\n",
       "      <td>65.01</td>\n",
       "      <td>10</td>\n",
       "      <td>24</td>\n",
       "      <td>Mississippi</td>\n",
       "    </tr>\n",
       "    <tr>\n",
       "      <th>6</th>\n",
       "      <td>4</td>\n",
       "      <td>Email</td>\n",
       "      <td>eb6bd5f1-f115-4e4b-80a6-5e67fcfbfb94</td>\n",
       "      <td>11</td>\n",
       "      <td>113.38</td>\n",
       "      <td>9</td>\n",
       "      <td>28</td>\n",
       "      <td>Georgia</td>\n",
       "    </tr>\n",
       "  </tbody>\n",
       "</table>\n",
       "</div>"
      ],
      "text/plain": [
       "   week  sales_method                           customer_id  nb_sold  revenue  \\\n",
       "1     6  Email + Call  3998a98d-70f5-44f7-942e-789bb8ad2fe7       15   225.47   \n",
       "2     5          Call  d1de9884-8059-4065-b10f-86eef57e4a44       11    52.55   \n",
       "4     3         Email  10e6d446-10a5-42e5-8210-1b5438f70922        9    90.49   \n",
       "5     6          Call  6489e678-40f2-4fed-a48e-d0dff9c09205       13    65.01   \n",
       "6     4         Email  eb6bd5f1-f115-4e4b-80a6-5e67fcfbfb94       11   113.38   \n",
       "\n",
       "   years_as_customer  nb_site_visits        state  \n",
       "1                  1              28       Kansas  \n",
       "2                  6              26    Wisconsin  \n",
       "4                  0              28     Illinois  \n",
       "5                 10              24  Mississippi  \n",
       "6                  9              28      Georgia  "
      ]
     },
     "execution_count": 18,
     "metadata": {},
     "output_type": "execute_result"
    }
   ],
   "source": [
    "product_sales.head()"
   ]
  },
  {
   "cell_type": "markdown",
   "id": "9fccb22c",
   "metadata": {
    "papermill": {
     "duration": 0.017359,
     "end_time": "2023-01-23T03:50:39.864197",
     "exception": false,
     "start_time": "2023-01-23T03:50:39.846838",
     "status": "completed"
    },
    "tags": []
   },
   "source": [
    "Graph 7 shows the a univariate (one variable) distribution using kernel density estimation (KDE). KDE represents the data using a continuous probability density curve in one or more dimensions [(source)](https://seaborn.pydata.org/generated/seaborn.kdeplot.html?highlight=kdeplot#seaborn.kdeplot).\n",
    "\n",
    "Essentially, **the probability of getting a sale with smaller revenue is far greater than a sale with a larger revenue.**"
   ]
  },
  {
   "cell_type": "code",
   "execution_count": 19,
   "id": "8219df83",
   "metadata": {
    "execution": {
     "iopub.execute_input": "2023-01-23T03:50:39.902052Z",
     "iopub.status.busy": "2023-01-23T03:50:39.901244Z",
     "iopub.status.idle": "2023-01-23T03:50:40.240025Z",
     "shell.execute_reply": "2023-01-23T03:50:40.239098Z"
    },
    "papermill": {
     "duration": 0.360367,
     "end_time": "2023-01-23T03:50:40.242388",
     "exception": false,
     "start_time": "2023-01-23T03:50:39.882021",
     "status": "completed"
    },
    "tags": []
   },
   "outputs": [
    {
     "data": {
      "image/png": "[encoded data removed]",
      "text/plain": [
       "<Figure size 432x288 with 1 Axes>"
      ]
     },
     "metadata": {
      "needs_background": "light"
     },
     "output_type": "display_data"
    }
   ],
   "source": [
    "# plot the density of revenue\n",
    "ax = sns.kdeplot(data=product_sales, x='revenue', alpha=.5, linewidth=0, fill=True)\n",
    "plt.title('Graph 7: The density of revenue overall')\n",
    "plt.savefig('Graph 7: The density of revenue overall.png')"
   ]
  },
  {
   "cell_type": "markdown",
   "id": "9850ee80",
   "metadata": {
    "papermill": {
     "duration": 0.016885,
     "end_time": "2023-01-23T03:50:40.276763",
     "exception": false,
     "start_time": "2023-01-23T03:50:40.259878",
     "status": "completed"
    },
    "tags": []
   },
   "source": [
    "In graph 8, the KDE (with histogram) from the previous graph is broken down by sale methods. **We can see that revenue in each category is more or less distinct.**"
   ]
  },
  {
   "cell_type": "code",
   "execution_count": 20,
   "id": "fa672e81",
   "metadata": {
    "execution": {
     "iopub.execute_input": "2023-01-23T03:50:40.314911Z",
     "iopub.status.busy": "2023-01-23T03:50:40.314455Z",
     "iopub.status.idle": "2023-01-23T03:50:41.193657Z",
     "shell.execute_reply": "2023-01-23T03:50:41.192423Z"
    },
    "papermill": {
     "duration": 0.90178,
     "end_time": "2023-01-23T03:50:41.196766",
     "exception": false,
     "start_time": "2023-01-23T03:50:40.294986",
     "status": "completed"
    },
    "tags": []
   },
   "outputs": [
    {
     "data": {
      "image/png": "[encoded data removed]",
      "text/plain": [
       "<Figure size 432x288 with 1 Axes>"
      ]
     },
     "metadata": {
      "needs_background": "light"
     },
     "output_type": "display_data"
    }
   ],
   "source": [
    "# plot the density of revenue\n",
    "ax = sns.histplot(data=product_sales, x='revenue', hue='sales_method', \n",
    "                 fill=True, common_norm=True, palette=\"tab10\", alpha=.5, linewidth=0, kde=True)\n",
    "plt.title('Graph 8: The density of revenue in each sales method')\n",
    "plt.savefig('Graph 8: The density of revenue in each sales method.png')"
   ]
  },
  {
   "cell_type": "markdown",
   "id": "f9ffaac0",
   "metadata": {
    "papermill": {
     "duration": 0.017054,
     "end_time": "2023-01-23T03:50:41.231398",
     "exception": false,
     "start_time": "2023-01-23T03:50:41.214344",
     "status": "completed"
    },
    "tags": []
   },
   "source": [
    "Are the weeks of sales matter? **Yes. Each week, the company is increasing it product sales revenue** (graph 9)."
   ]
  },
  {
   "cell_type": "code",
   "execution_count": 21,
   "id": "2b3fefc5",
   "metadata": {
    "execution": {
     "iopub.execute_input": "2023-01-23T03:50:41.268098Z",
     "iopub.status.busy": "2023-01-23T03:50:41.267705Z",
     "iopub.status.idle": "2023-01-23T03:50:42.609040Z",
     "shell.execute_reply": "2023-01-23T03:50:42.608123Z"
    },
    "papermill": {
     "duration": 1.362589,
     "end_time": "2023-01-23T03:50:42.611431",
     "exception": false,
     "start_time": "2023-01-23T03:50:41.248842",
     "status": "completed"
    },
    "tags": []
   },
   "outputs": [
    {
     "data": {
      "image/png": "[encoded data removed]",
      "text/plain": [
       "<Figure size 540x360 with 6 Axes>"
      ]
     },
     "metadata": {
      "needs_background": "light"
     },
     "output_type": "display_data"
    }
   ],
   "source": [
    "# multi-plot of revenue density per week\n",
    "g = sns.FacetGrid(product_sales, col=\"week\", height=2.5, col_wrap=3)\n",
    "g.map(sns.kdeplot, \"revenue\")\n",
    "plt.savefig('Graph 9: multi-plot of revenue density per week.png');"
   ]
  },
  {
   "cell_type": "markdown",
   "id": "bb5a27c0",
   "metadata": {
    "papermill": {
     "duration": 0.019446,
     "end_time": "2023-01-23T03:50:42.650046",
     "exception": false,
     "start_time": "2023-01-23T03:50:42.630600",
     "status": "completed"
    },
    "tags": []
   },
   "source": [
    "In graph 10, **the Email + Call sale method is notably getting larger revenue each week.**"
   ]
  },
  {
   "cell_type": "code",
   "execution_count": 22,
   "id": "8a51054d",
   "metadata": {
    "execution": {
     "iopub.execute_input": "2023-01-23T03:50:42.690743Z",
     "iopub.status.busy": "2023-01-23T03:50:42.689637Z",
     "iopub.status.idle": "2023-01-23T03:50:44.068471Z",
     "shell.execute_reply": "2023-01-23T03:50:44.067003Z"
    },
    "papermill": {
     "duration": 1.402153,
     "end_time": "2023-01-23T03:50:44.071018",
     "exception": false,
     "start_time": "2023-01-23T03:50:42.668865",
     "status": "completed"
    },
    "tags": []
   },
   "outputs": [
    {
     "data": {
      "image/png": "[encoded data removed]",
      "text/plain": [
       "<Figure size 540x360 with 6 Axes>"
      ]
     },
     "metadata": {
      "needs_background": "light"
     },
     "output_type": "display_data"
    }
   ],
   "source": [
    "# multi-plot of revenue density in each sales method week by each week\n",
    "g = sns.FacetGrid(product_sales, col=\"week\", hue='sales_method', height=2.5, col_wrap=3)\n",
    "g.map(sns.kdeplot, \"revenue\"),\n",
    "plt.legend()\n",
    "plt.savefig('Graph 10: multi-plot of revenue density per week.png');"
   ]
  },
  {
   "cell_type": "markdown",
   "id": "776bf1ae",
   "metadata": {
    "papermill": {
     "duration": 0.019175,
     "end_time": "2023-01-23T03:50:44.110492",
     "exception": false,
     "start_time": "2023-01-23T03:50:44.091317",
     "status": "completed"
    },
    "tags": []
   },
   "source": [
    "A different representation of the the above graph (graph 11)."
   ]
  },
  {
   "cell_type": "code",
   "execution_count": 23,
   "id": "132e50c3",
   "metadata": {
    "execution": {
     "iopub.execute_input": "2023-01-23T03:50:44.151262Z",
     "iopub.status.busy": "2023-01-23T03:50:44.150599Z",
     "iopub.status.idle": "2023-01-23T03:50:45.208483Z",
     "shell.execute_reply": "2023-01-23T03:50:45.207331Z"
    },
    "papermill": {
     "duration": 1.081206,
     "end_time": "2023-01-23T03:50:45.211105",
     "exception": false,
     "start_time": "2023-01-23T03:50:44.129899",
     "status": "completed"
    },
    "tags": []
   },
   "outputs": [
    {
     "data": {
      "image/png": "[encoded data removed]",
      "text/plain": [
       "<Figure size 432x288 with 1 Axes>"
      ]
     },
     "metadata": {
      "needs_background": "light"
     },
     "output_type": "display_data"
    }
   ],
   "source": [
    "# plot of revenue in each sales method in each week\n",
    "sns.barplot(\n",
    "    data=product_sales, x=\"sales_method\", y=\"revenue\", hue=\"week\", palette=\"rocket\")\n",
    "\n",
    "plt.title('Graph 11: The revenue of all sales methods increased each week')\n",
    "plt.savefig('Graph 11: The revenue of all sales methods increased each week.png')"
   ]
  },
  {
   "cell_type": "markdown",
   "id": "0310f851",
   "metadata": {
    "papermill": {
     "duration": 0.018905,
     "end_time": "2023-01-23T03:50:45.249821",
     "exception": false,
     "start_time": "2023-01-23T03:50:45.230916",
     "status": "completed"
    },
    "tags": []
   },
   "source": [
    "In graph 12, **even when the number of new products is the same, Email + Call has more revenue**. It might indicate that **this method is selling new products with higher prices.**"
   ]
  },
  {
   "cell_type": "code",
   "execution_count": 24,
   "id": "b050e0e5",
   "metadata": {
    "execution": {
     "iopub.execute_input": "2023-01-23T03:50:45.290880Z",
     "iopub.status.busy": "2023-01-23T03:50:45.290442Z",
     "iopub.status.idle": "2023-01-23T03:50:47.243641Z",
     "shell.execute_reply": "2023-01-23T03:50:47.242253Z"
    },
    "papermill": {
     "duration": 1.977407,
     "end_time": "2023-01-23T03:50:47.246546",
     "exception": false,
     "start_time": "2023-01-23T03:50:45.269139",
     "status": "completed"
    },
    "tags": []
   },
   "outputs": [
    {
     "data": {
      "image/png": "[encoded data removed]",
      "text/plain": [
       "<Figure size 457.125x360 with 1 Axes>"
      ]
     },
     "metadata": {
      "needs_background": "light"
     },
     "output_type": "display_data"
    }
   ],
   "source": [
    "# a regression plot of revenue in each sales method by new products sold\n",
    "sns.lmplot(\n",
    "    data=product_sales, x=\"nb_sold\", y=\"revenue\", hue=\"sales_method\")\n",
    "\n",
    "plt.title('Graph 12: The revenue of all sales methods increased \\n unequally as more products sold')\n",
    "plt.savefig('Graph 12: The revenue of all sales methods increased but unequally.png')"
   ]
  },
  {
   "cell_type": "code",
   "execution_count": 25,
   "id": "628629e0",
   "metadata": {
    "execution": {
     "iopub.execute_input": "2023-01-23T03:50:47.289609Z",
     "iopub.status.busy": "2023-01-23T03:50:47.289189Z",
     "iopub.status.idle": "2023-01-23T03:50:49.269098Z",
     "shell.execute_reply": "2023-01-23T03:50:49.268092Z"
    },
    "papermill": {
     "duration": 2.004829,
     "end_time": "2023-01-23T03:50:49.271594",
     "exception": false,
     "start_time": "2023-01-23T03:50:47.266765",
     "status": "completed"
    },
    "tags": []
   },
   "outputs": [
    {
     "data": {
      "image/png": "[encoded data removed]",
      "text/plain": [
       "<Figure size 457.125x360 with 1 Axes>"
      ]
     },
     "metadata": {
      "needs_background": "light"
     },
     "output_type": "display_data"
    }
   ],
   "source": [
    "# a regression plot of revenue in each sales method by new products sold\n",
    "sns.lmplot(data=product_sales, x=\"week\", y=\"revenue\", hue=\"sales_method\")\n",
    "\n",
    "plt.title('Graph 13: The revenue of all sales methods increase \\n each additional week')\n",
    "plt.savefig('Graph 13: The revenue of all sales methods increase each additional week.png')"
   ]
  },
  {
   "cell_type": "markdown",
   "id": "a8d1f2d5",
   "metadata": {
    "papermill": {
     "duration": 0.021896,
     "end_time": "2023-01-23T03:50:49.315973",
     "exception": false,
     "start_time": "2023-01-23T03:50:49.294077",
     "status": "completed"
    },
    "tags": []
   },
   "source": [
    "The below table is a pivot table of the means and medians of revenue of each sales method per week."
   ]
  },
  {
   "cell_type": "code",
   "execution_count": 26,
   "id": "db6840e8",
   "metadata": {
    "execution": {
     "iopub.execute_input": "2023-01-23T03:50:49.362739Z",
     "iopub.status.busy": "2023-01-23T03:50:49.361686Z",
     "iopub.status.idle": "2023-01-23T03:50:49.472717Z",
     "shell.execute_reply": "2023-01-23T03:50:49.471420Z"
    },
    "papermill": {
     "duration": 0.136435,
     "end_time": "2023-01-23T03:50:49.475223",
     "exception": false,
     "start_time": "2023-01-23T03:50:49.338788",
     "status": "completed"
    },
    "tags": []
   },
   "outputs": [
    {
     "data": {
      "text/html": [
       "<style type=\"text/css\">\n",
       "#T_456b8_row0_col0, #T_456b8_row0_col1, #T_456b8_row0_col2, #T_456b8_row0_col3, #T_456b8_row0_col4, #T_456b8_row0_col5 {\n",
       "  background-color: #fff7fb;\n",
       "  color: #000000;\n",
       "}\n",
       "#T_456b8_row1_col0, #T_456b8_row1_col3 {\n",
       "  background-color: #cacee5;\n",
       "  color: #000000;\n",
       "}\n",
       "#T_456b8_row1_col1, #T_456b8_row1_col4 {\n",
       "  background-color: #c2cbe2;\n",
       "  color: #000000;\n",
       "}\n",
       "#T_456b8_row1_col2 {\n",
       "  background-color: #ced0e6;\n",
       "  color: #000000;\n",
       "}\n",
       "#T_456b8_row1_col5 {\n",
       "  background-color: #cdd0e5;\n",
       "  color: #000000;\n",
       "}\n",
       "#T_456b8_row2_col0 {\n",
       "  background-color: #d9d8ea;\n",
       "  color: #000000;\n",
       "}\n",
       "#T_456b8_row2_col1 {\n",
       "  background-color: #ede7f2;\n",
       "  color: #000000;\n",
       "}\n",
       "#T_456b8_row2_col2, #T_456b8_row2_col5 {\n",
       "  background-color: #d8d7e9;\n",
       "  color: #000000;\n",
       "}\n",
       "#T_456b8_row2_col3 {\n",
       "  background-color: #dad9ea;\n",
       "  color: #000000;\n",
       "}\n",
       "#T_456b8_row2_col4 {\n",
       "  background-color: #ede8f3;\n",
       "  color: #000000;\n",
       "}\n",
       "#T_456b8_row3_col0, #T_456b8_row3_col3 {\n",
       "  background-color: #69a5cc;\n",
       "  color: #f1f1f1;\n",
       "}\n",
       "#T_456b8_row3_col1, #T_456b8_row3_col4, #T_456b8_row4_col1, #T_456b8_row4_col4 {\n",
       "  background-color: #78abd0;\n",
       "  color: #f1f1f1;\n",
       "}\n",
       "#T_456b8_row3_col2, #T_456b8_row3_col5 {\n",
       "  background-color: #67a4cc;\n",
       "  color: #f1f1f1;\n",
       "}\n",
       "#T_456b8_row4_col0, #T_456b8_row4_col3 {\n",
       "  background-color: #4e9ac6;\n",
       "  color: #f1f1f1;\n",
       "}\n",
       "#T_456b8_row4_col2, #T_456b8_row4_col5 {\n",
       "  background-color: #4697c4;\n",
       "  color: #f1f1f1;\n",
       "}\n",
       "#T_456b8_row5_col0, #T_456b8_row5_col1, #T_456b8_row5_col2, #T_456b8_row5_col3, #T_456b8_row5_col4, #T_456b8_row5_col5 {\n",
       "  background-color: #023858;\n",
       "  color: #f1f1f1;\n",
       "}\n",
       "</style>\n",
       "<table id=\"T_456b8_\">\n",
       "  <thead>\n",
       "    <tr>\n",
       "      <th class=\"blank level0\" >&nbsp;</th>\n",
       "      <th class=\"col_heading level0 col0\" colspan=\"3\">mean</th>\n",
       "      <th class=\"col_heading level0 col3\" colspan=\"3\">median</th>\n",
       "    </tr>\n",
       "    <tr>\n",
       "      <th class=\"index_name level1\" >sales_method</th>\n",
       "      <th class=\"col_heading level1 col0\" >Call</th>\n",
       "      <th class=\"col_heading level1 col1\" >Email</th>\n",
       "      <th class=\"col_heading level1 col2\" >Email + Call</th>\n",
       "      <th class=\"col_heading level1 col3\" >Call</th>\n",
       "      <th class=\"col_heading level1 col4\" >Email</th>\n",
       "      <th class=\"col_heading level1 col5\" >Email + Call</th>\n",
       "    </tr>\n",
       "    <tr>\n",
       "      <th class=\"index_name level0\" >week</th>\n",
       "      <th class=\"blank col0\" >&nbsp;</th>\n",
       "      <th class=\"blank col1\" >&nbsp;</th>\n",
       "      <th class=\"blank col2\" >&nbsp;</th>\n",
       "      <th class=\"blank col3\" >&nbsp;</th>\n",
       "      <th class=\"blank col4\" >&nbsp;</th>\n",
       "      <th class=\"blank col5\" >&nbsp;</th>\n",
       "    </tr>\n",
       "  </thead>\n",
       "  <tbody>\n",
       "    <tr>\n",
       "      <th id=\"T_456b8_level0_row0\" class=\"row_heading level0 row0\" >1</th>\n",
       "      <td id=\"T_456b8_row0_col0\" class=\"data row0 col0\" >35.350243</td>\n",
       "      <td id=\"T_456b8_row0_col1\" class=\"data row0 col1\" >87.496401</td>\n",
       "      <td id=\"T_456b8_row0_col2\" class=\"data row0 col2\" >128.895649</td>\n",
       "      <td id=\"T_456b8_row0_col3\" class=\"data row0 col3\" >35.195000</td>\n",
       "      <td id=\"T_456b8_row0_col4\" class=\"data row0 col4\" >86.535000</td>\n",
       "      <td id=\"T_456b8_row0_col5\" class=\"data row0 col5\" >128.720000</td>\n",
       "    </tr>\n",
       "    <tr>\n",
       "      <th id=\"T_456b8_level0_row1\" class=\"row_heading level0 row1\" >2</th>\n",
       "      <td id=\"T_456b8_row1_col0\" class=\"data row1 col0\" >43.602606</td>\n",
       "      <td id=\"T_456b8_row1_col1\" class=\"data row1 col1\" >100.139121</td>\n",
       "      <td id=\"T_456b8_row1_col2\" class=\"data row1 col2\" >154.246959</td>\n",
       "      <td id=\"T_456b8_row1_col3\" class=\"data row1 col3\" >43.460000</td>\n",
       "      <td id=\"T_456b8_row1_col4\" class=\"data row1 col4\" >99.250000</td>\n",
       "      <td id=\"T_456b8_row1_col5\" class=\"data row1 col5\" >154.170000</td>\n",
       "    </tr>\n",
       "    <tr>\n",
       "      <th id=\"T_456b8_level0_row2\" class=\"row_heading level0 row2\" >3</th>\n",
       "      <td id=\"T_456b8_row2_col0\" class=\"data row2 col0\" >41.759528</td>\n",
       "      <td id=\"T_456b8_row2_col1\" class=\"data row2 col1\" >92.762573</td>\n",
       "      <td id=\"T_456b8_row2_col2\" class=\"data row2 col2\" >150.423272</td>\n",
       "      <td id=\"T_456b8_row2_col3\" class=\"data row2 col3\" >41.470000</td>\n",
       "      <td id=\"T_456b8_row2_col4\" class=\"data row2 col4\" >91.800000</td>\n",
       "      <td id=\"T_456b8_row2_col5\" class=\"data row2 col5\" >149.930000</td>\n",
       "    </tr>\n",
       "    <tr>\n",
       "      <th id=\"T_456b8_level0_row3\" class=\"row_heading level0 row3\" >4</th>\n",
       "      <td id=\"T_456b8_row3_col0\" class=\"data row3 col0\" >51.446048</td>\n",
       "      <td id=\"T_456b8_row3_col1\" class=\"data row3 col1\" >108.877141</td>\n",
       "      <td id=\"T_456b8_row3_col2\" class=\"data row3 col2\" >180.822633</td>\n",
       "      <td id=\"T_456b8_row3_col3\" class=\"data row3 col3\" >51.270000</td>\n",
       "      <td id=\"T_456b8_row3_col4\" class=\"data row3 col4\" >108.090000</td>\n",
       "      <td id=\"T_456b8_row3_col5\" class=\"data row3 col5\" >180.550000</td>\n",
       "    </tr>\n",
       "    <tr>\n",
       "      <th id=\"T_456b8_level0_row4\" class=\"row_heading level0 row4\" >5</th>\n",
       "      <td id=\"T_456b8_row4_col0\" class=\"data row4 col0\" >53.146087</td>\n",
       "      <td id=\"T_456b8_row4_col1\" class=\"data row4 col1\" >108.892313</td>\n",
       "      <td id=\"T_456b8_row4_col2\" class=\"data row4 col2\" >187.588343</td>\n",
       "      <td id=\"T_456b8_row4_col3\" class=\"data row4 col3\" >52.970000</td>\n",
       "      <td id=\"T_456b8_row4_col4\" class=\"data row4 col4\" >108.020000</td>\n",
       "      <td id=\"T_456b8_row4_col5\" class=\"data row4 col5\" >187.195000</td>\n",
       "    </tr>\n",
       "    <tr>\n",
       "      <th id=\"T_456b8_level0_row5\" class=\"row_heading level0 row5\" >6</th>\n",
       "      <td id=\"T_456b8_row5_col0\" class=\"data row5 col0\" >66.166089</td>\n",
       "      <td id=\"T_456b8_row5_col1\" class=\"data row5 col1\" >130.976519</td>\n",
       "      <td id=\"T_456b8_row5_col2\" class=\"data row5 col2\" >227.770635</td>\n",
       "      <td id=\"T_456b8_row5_col3\" class=\"data row5 col3\" >65.970000</td>\n",
       "      <td id=\"T_456b8_row5_col4\" class=\"data row5 col4\" >130.450000</td>\n",
       "      <td id=\"T_456b8_row5_col5\" class=\"data row5 col5\" >227.405000</td>\n",
       "    </tr>\n",
       "  </tbody>\n",
       "</table>\n"
      ],
      "text/plain": [
       "<pandas.io.formats.style.Styler at 0x7f4fc66aadd0>"
      ]
     },
     "execution_count": 26,
     "metadata": {},
     "output_type": "execute_result"
    }
   ],
   "source": [
    "# the mean and medians of the methods' revenue per week \n",
    "product_sales.groupby(['week', 'sales_method'])['revenue'].agg(['mean', 'median']).unstack().style.background_gradient()"
   ]
  },
  {
   "cell_type": "code",
   "execution_count": 27,
   "id": "51799ac4",
   "metadata": {
    "execution": {
     "iopub.execute_input": "2023-01-23T03:50:49.524229Z",
     "iopub.status.busy": "2023-01-23T03:50:49.523755Z",
     "iopub.status.idle": "2023-01-23T03:50:49.536892Z",
     "shell.execute_reply": "2023-01-23T03:50:49.535934Z"
    },
    "papermill": {
     "duration": 0.040185,
     "end_time": "2023-01-23T03:50:49.539944",
     "exception": false,
     "start_time": "2023-01-23T03:50:49.499759",
     "status": "completed"
    },
    "tags": []
   },
   "outputs": [
    {
     "data": {
      "text/html": [
       "<div>\n",
       "<style scoped>\n",
       "    .dataframe tbody tr th:only-of-type {\n",
       "        vertical-align: middle;\n",
       "    }\n",
       "\n",
       "    .dataframe tbody tr th {\n",
       "        vertical-align: top;\n",
       "    }\n",
       "\n",
       "    .dataframe thead th {\n",
       "        text-align: right;\n",
       "    }\n",
       "</style>\n",
       "<table border=\"1\" class=\"dataframe\">\n",
       "  <thead>\n",
       "    <tr style=\"text-align: right;\">\n",
       "      <th></th>\n",
       "      <th>revenue</th>\n",
       "    </tr>\n",
       "    <tr>\n",
       "      <th>sales_method</th>\n",
       "      <th></th>\n",
       "    </tr>\n",
       "  </thead>\n",
       "  <tbody>\n",
       "    <tr>\n",
       "      <th>Call</th>\n",
       "      <td>47.597467</td>\n",
       "    </tr>\n",
       "    <tr>\n",
       "      <th>Email</th>\n",
       "      <td>97.127684</td>\n",
       "    </tr>\n",
       "    <tr>\n",
       "      <th>Email + Call</th>\n",
       "      <td>183.651233</td>\n",
       "    </tr>\n",
       "  </tbody>\n",
       "</table>\n",
       "</div>"
      ],
      "text/plain": [
       "                 revenue\n",
       "sales_method            \n",
       "Call           47.597467\n",
       "Email          97.127684\n",
       "Email + Call  183.651233"
      ]
     },
     "execution_count": 27,
     "metadata": {},
     "output_type": "execute_result"
    }
   ],
   "source": [
    "# the average revenue of each sales method\n",
    "product_sales.groupby('sales_method')['revenue'].mean().to_frame()"
   ]
  },
  {
   "cell_type": "markdown",
   "id": "b9c34be0",
   "metadata": {
    "papermill": {
     "duration": 0.022658,
     "end_time": "2023-01-23T03:50:49.585872",
     "exception": false,
     "start_time": "2023-01-23T03:50:49.563214",
     "status": "completed"
    },
    "tags": []
   },
   "source": [
    "### Business Metrics\n",
    "\n",
    "The company's goal is to earn higher revenue using the best sales method. **I would recommend that the company uses the average revenue amount of their preferred sales method as their metric.** \n",
    "\n",
    "Based on the data, **Email + Call method has the highest sale revenue average (183 dollars).** This is while Email (97 dollars) and Call (47 dollars) have lower average revenue (see graph 11). If their preferred sales method is Email + Call, **the sales team should use its revenue average (183 dollars) as a baseline** for whether a sale was more lucrative (above average) or not (below average). \n",
    "\n",
    "Moreover, the sales team should recognize that sale averages overall and weekly are different since sale averages increase every week (see graph 6 and 11). Importantly, the first weeks could have lower revenue average amount than (\\\\$183), for instance."
   ]
  },
  {
   "cell_type": "markdown",
   "id": "62bbefec",
   "metadata": {
    "papermill": {
     "duration": 0.022118,
     "end_time": "2023-01-23T03:50:49.631184",
     "exception": false,
     "start_time": "2023-01-23T03:50:49.609066",
     "status": "completed"
    },
    "tags": []
   },
   "source": [
    "### Recommendations\n",
    "\n",
    "- I recommend that the company continues to **use the Email + Call method** since it captures the most revenue with the potential to significantly increase over time (see graph 11).\n",
    "- I would recommend that **the company uses the average revenue amount** of their preferred sales method as their metric to monitor for strong and increasing sale revenues.\n",
    "- Consider **keeping the Email sale method** for its inexpensive implementation.\n",
    "- Consider **stop using the Call method** since it's expensive (30 minutes per customer) while having the lowest revenue amounts.\n",
    "- Improve data collection:\n",
    "    + **Figure out why there are missing values** in the revenue column (1074 missing in the data)"
   ]
  }
 ],
 "metadata": {
  "kernelspec": {
   "display_name": "Python 3",
   "language": "python",
   "name": "python3"
  },
  "language_info": {
   "codemirror_mode": {
    "name": "ipython",
    "version": 3
   },
   "file_extension": ".py",
   "mimetype": "text/x-python",
   "name": "python",
   "nbconvert_exporter": "python",
   "pygments_lexer": "ipython3",
   "version": "3.7.12"
  },
  "papermill": {
   "default_parameters": {},
   "duration": 26.013838,
   "end_time": "2023-01-23T03:50:50.579569",
   "environment_variables": {},
   "exception": null,
   "input_path": "__notebook__.ipynb",
   "output_path": "__notebook__.ipynb",
   "parameters": {},
   "start_time": "2023-01-23T03:50:24.565731",
   "version": "2.3.4"
  }
 },
 "nbformat": 4,
 "nbformat_minor": 5
}
